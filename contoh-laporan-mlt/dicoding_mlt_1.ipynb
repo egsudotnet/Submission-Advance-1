{
  "nbformat": 4,
  "nbformat_minor": 0,
  "metadata": {
    "colab": {
      "provenance": []
    },
    "kernelspec": {
      "name": "python3",
      "display_name": "Python 3"
    },
    "language_info": {
      "name": "python"
    }
  },
  "cells": [
    {
      "cell_type": "markdown",
      "source": [
        "# Impor pustaka yang diperlukan"
      ],
      "metadata": {
        "id": "0SvcHhTgRUOh"
      }
    },
    {
      "cell_type": "code",
      "source": [
        "import pandas as pd\n",
        "import numpy as np\n",
        "import matplotlib.pyplot as plt\n",
        "import seaborn as sns\n",
        "from sklearn.model_selection import train_test_split\n",
        "from sklearn.ensemble import RandomForestRegressor\n",
        "from sklearn.linear_model import LinearRegression\n",
        "from sklearn.metrics import mean_squared_error, r2_score\n",
        "from sklearn.preprocessing import StandardScaler\n"
      ],
      "metadata": {
        "id": "rH2JGIA5RQhd"
      },
      "execution_count": 128,
      "outputs": []
    },
    {
      "cell_type": "markdown",
      "source": [
        "# Memuat Data"
      ],
      "metadata": {
        "id": "PY1KRyl1RcWB"
      }
    },
    {
      "cell_type": "code",
      "source": [
        "# Instalasi API Kaggle untuk mengunduh dataset\n",
        "!pip install kaggle\n",
        "\n",
        "# Unggah Kunci API Kaggle untuk autentikasi\n",
        "from google.colab import files\n",
        "files.upload()  # Unggah file kaggle.json Anda\n",
        "\n",
        "# Setel Kunci API Kaggle sebagai variabel lingkungan\n",
        "import os\n",
        "os.environ['KAGGLE_CONFIG_DIR'] = '/content'\n",
        "\n",
        "# Unduh dataset dari Kaggle (sesuaikan ID dataset jika diperlukan)\n",
        "!kaggle datasets download -d rishidamarla/costs-for-cancer-treatment\n",
        "\n",
        "# Ekstrak file dataset\n",
        "!unzip costs-for-cancer-treatment.zip"
      ],
      "metadata": {
        "colab": {
          "base_uri": "https://localhost:8080/",
          "height": 419
        },
        "id": "69RymwnRRbT7",
        "outputId": "dda8cb77-f262-41d3-ff27-21556c0126ab"
      },
      "execution_count": 129,
      "outputs": [
        {
          "output_type": "stream",
          "name": "stdout",
          "text": [
            "Requirement already satisfied: kaggle in /usr/local/lib/python3.10/dist-packages (1.6.17)\n",
            "Requirement already satisfied: six>=1.10 in /usr/local/lib/python3.10/dist-packages (from kaggle) (1.16.0)\n",
            "Requirement already satisfied: certifi>=2023.7.22 in /usr/local/lib/python3.10/dist-packages (from kaggle) (2024.8.30)\n",
            "Requirement already satisfied: python-dateutil in /usr/local/lib/python3.10/dist-packages (from kaggle) (2.8.2)\n",
            "Requirement already satisfied: requests in /usr/local/lib/python3.10/dist-packages (from kaggle) (2.32.3)\n",
            "Requirement already satisfied: tqdm in /usr/local/lib/python3.10/dist-packages (from kaggle) (4.66.6)\n",
            "Requirement already satisfied: python-slugify in /usr/local/lib/python3.10/dist-packages (from kaggle) (8.0.4)\n",
            "Requirement already satisfied: urllib3 in /usr/local/lib/python3.10/dist-packages (from kaggle) (2.2.3)\n",
            "Requirement already satisfied: bleach in /usr/local/lib/python3.10/dist-packages (from kaggle) (6.2.0)\n",
            "Requirement already satisfied: webencodings in /usr/local/lib/python3.10/dist-packages (from bleach->kaggle) (0.5.1)\n",
            "Requirement already satisfied: text-unidecode>=1.3 in /usr/local/lib/python3.10/dist-packages (from python-slugify->kaggle) (1.3)\n",
            "Requirement already satisfied: charset-normalizer<4,>=2 in /usr/local/lib/python3.10/dist-packages (from requests->kaggle) (3.4.0)\n",
            "Requirement already satisfied: idna<4,>=2.5 in /usr/local/lib/python3.10/dist-packages (from requests->kaggle) (3.10)\n"
          ]
        },
        {
          "output_type": "display_data",
          "data": {
            "text/plain": [
              "<IPython.core.display.HTML object>"
            ],
            "text/html": [
              "\n",
              "     <input type=\"file\" id=\"files-d1a2c575-ed54-4824-be98-e07d7f2c19cf\" name=\"files[]\" multiple disabled\n",
              "        style=\"border:none\" />\n",
              "     <output id=\"result-d1a2c575-ed54-4824-be98-e07d7f2c19cf\">\n",
              "      Upload widget is only available when the cell has been executed in the\n",
              "      current browser session. Please rerun this cell to enable.\n",
              "      </output>\n",
              "      <script>// Copyright 2017 Google LLC\n",
              "//\n",
              "// Licensed under the Apache License, Version 2.0 (the \"License\");\n",
              "// you may not use this file except in compliance with the License.\n",
              "// You may obtain a copy of the License at\n",
              "//\n",
              "//      http://www.apache.org/licenses/LICENSE-2.0\n",
              "//\n",
              "// Unless required by applicable law or agreed to in writing, software\n",
              "// distributed under the License is distributed on an \"AS IS\" BASIS,\n",
              "// WITHOUT WARRANTIES OR CONDITIONS OF ANY KIND, either express or implied.\n",
              "// See the License for the specific language governing permissions and\n",
              "// limitations under the License.\n",
              "\n",
              "/**\n",
              " * @fileoverview Helpers for google.colab Python module.\n",
              " */\n",
              "(function(scope) {\n",
              "function span(text, styleAttributes = {}) {\n",
              "  const element = document.createElement('span');\n",
              "  element.textContent = text;\n",
              "  for (const key of Object.keys(styleAttributes)) {\n",
              "    element.style[key] = styleAttributes[key];\n",
              "  }\n",
              "  return element;\n",
              "}\n",
              "\n",
              "// Max number of bytes which will be uploaded at a time.\n",
              "const MAX_PAYLOAD_SIZE = 100 * 1024;\n",
              "\n",
              "function _uploadFiles(inputId, outputId) {\n",
              "  const steps = uploadFilesStep(inputId, outputId);\n",
              "  const outputElement = document.getElementById(outputId);\n",
              "  // Cache steps on the outputElement to make it available for the next call\n",
              "  // to uploadFilesContinue from Python.\n",
              "  outputElement.steps = steps;\n",
              "\n",
              "  return _uploadFilesContinue(outputId);\n",
              "}\n",
              "\n",
              "// This is roughly an async generator (not supported in the browser yet),\n",
              "// where there are multiple asynchronous steps and the Python side is going\n",
              "// to poll for completion of each step.\n",
              "// This uses a Promise to block the python side on completion of each step,\n",
              "// then passes the result of the previous step as the input to the next step.\n",
              "function _uploadFilesContinue(outputId) {\n",
              "  const outputElement = document.getElementById(outputId);\n",
              "  const steps = outputElement.steps;\n",
              "\n",
              "  const next = steps.next(outputElement.lastPromiseValue);\n",
              "  return Promise.resolve(next.value.promise).then((value) => {\n",
              "    // Cache the last promise value to make it available to the next\n",
              "    // step of the generator.\n",
              "    outputElement.lastPromiseValue = value;\n",
              "    return next.value.response;\n",
              "  });\n",
              "}\n",
              "\n",
              "/**\n",
              " * Generator function which is called between each async step of the upload\n",
              " * process.\n",
              " * @param {string} inputId Element ID of the input file picker element.\n",
              " * @param {string} outputId Element ID of the output display.\n",
              " * @return {!Iterable<!Object>} Iterable of next steps.\n",
              " */\n",
              "function* uploadFilesStep(inputId, outputId) {\n",
              "  const inputElement = document.getElementById(inputId);\n",
              "  inputElement.disabled = false;\n",
              "\n",
              "  const outputElement = document.getElementById(outputId);\n",
              "  outputElement.innerHTML = '';\n",
              "\n",
              "  const pickedPromise = new Promise((resolve) => {\n",
              "    inputElement.addEventListener('change', (e) => {\n",
              "      resolve(e.target.files);\n",
              "    });\n",
              "  });\n",
              "\n",
              "  const cancel = document.createElement('button');\n",
              "  inputElement.parentElement.appendChild(cancel);\n",
              "  cancel.textContent = 'Cancel upload';\n",
              "  const cancelPromise = new Promise((resolve) => {\n",
              "    cancel.onclick = () => {\n",
              "      resolve(null);\n",
              "    };\n",
              "  });\n",
              "\n",
              "  // Wait for the user to pick the files.\n",
              "  const files = yield {\n",
              "    promise: Promise.race([pickedPromise, cancelPromise]),\n",
              "    response: {\n",
              "      action: 'starting',\n",
              "    }\n",
              "  };\n",
              "\n",
              "  cancel.remove();\n",
              "\n",
              "  // Disable the input element since further picks are not allowed.\n",
              "  inputElement.disabled = true;\n",
              "\n",
              "  if (!files) {\n",
              "    return {\n",
              "      response: {\n",
              "        action: 'complete',\n",
              "      }\n",
              "    };\n",
              "  }\n",
              "\n",
              "  for (const file of files) {\n",
              "    const li = document.createElement('li');\n",
              "    li.append(span(file.name, {fontWeight: 'bold'}));\n",
              "    li.append(span(\n",
              "        `(${file.type || 'n/a'}) - ${file.size} bytes, ` +\n",
              "        `last modified: ${\n",
              "            file.lastModifiedDate ? file.lastModifiedDate.toLocaleDateString() :\n",
              "                                    'n/a'} - `));\n",
              "    const percent = span('0% done');\n",
              "    li.appendChild(percent);\n",
              "\n",
              "    outputElement.appendChild(li);\n",
              "\n",
              "    const fileDataPromise = new Promise((resolve) => {\n",
              "      const reader = new FileReader();\n",
              "      reader.onload = (e) => {\n",
              "        resolve(e.target.result);\n",
              "      };\n",
              "      reader.readAsArrayBuffer(file);\n",
              "    });\n",
              "    // Wait for the data to be ready.\n",
              "    let fileData = yield {\n",
              "      promise: fileDataPromise,\n",
              "      response: {\n",
              "        action: 'continue',\n",
              "      }\n",
              "    };\n",
              "\n",
              "    // Use a chunked sending to avoid message size limits. See b/62115660.\n",
              "    let position = 0;\n",
              "    do {\n",
              "      const length = Math.min(fileData.byteLength - position, MAX_PAYLOAD_SIZE);\n",
              "      const chunk = new Uint8Array(fileData, position, length);\n",
              "      position += length;\n",
              "\n",
              "      const base64 = btoa(String.fromCharCode.apply(null, chunk));\n",
              "      yield {\n",
              "        response: {\n",
              "          action: 'append',\n",
              "          file: file.name,\n",
              "          data: base64,\n",
              "        },\n",
              "      };\n",
              "\n",
              "      let percentDone = fileData.byteLength === 0 ?\n",
              "          100 :\n",
              "          Math.round((position / fileData.byteLength) * 100);\n",
              "      percent.textContent = `${percentDone}% done`;\n",
              "\n",
              "    } while (position < fileData.byteLength);\n",
              "  }\n",
              "\n",
              "  // All done.\n",
              "  yield {\n",
              "    response: {\n",
              "      action: 'complete',\n",
              "    }\n",
              "  };\n",
              "}\n",
              "\n",
              "scope.google = scope.google || {};\n",
              "scope.google.colab = scope.google.colab || {};\n",
              "scope.google.colab._files = {\n",
              "  _uploadFiles,\n",
              "  _uploadFilesContinue,\n",
              "};\n",
              "})(self);\n",
              "</script> "
            ]
          },
          "metadata": {}
        },
        {
          "output_type": "stream",
          "name": "stdout",
          "text": [
            "Saving kaggle.json to kaggle (3).json\n",
            "Warning: Your Kaggle API key is readable by other users on this system! To fix this, you can run 'chmod 600 /content/kaggle.json'\n",
            "Dataset URL: https://www.kaggle.com/datasets/rishidamarla/costs-for-cancer-treatment\n",
            "License(s): CC0-1.0\n",
            "costs-for-cancer-treatment.zip: Skipping, found more recently modified local copy (use --force to force download)\n",
            "Archive:  costs-for-cancer-treatment.zip\n",
            "replace DowloadableDataFull_2011.01.12.csv? [y]es, [n]o, [A]ll, [N]one, [r]ename: A\n",
            "  inflating: DowloadableDataFull_2011.01.12.csv  \n"
          ]
        }
      ]
    },
    {
      "cell_type": "markdown",
      "source": [
        "# Memuat dataset dan eksplorasi awal"
      ],
      "metadata": {
        "id": "kX4MEKLgRmrU"
      }
    },
    {
      "cell_type": "code",
      "source": [
        "# Muat dataset (pastikan path atau URL sudah benar)\n",
        "url = 'DowloadableDataFull_2011.01.12.csv'  # Gantilah dengan path yang sesuai jika diperlukan\n",
        "data = pd.read_csv(url, skiprows=2)  # Lewati dua baris pertama\n",
        "data.columns = data.iloc[0]  # Set baris keempat sebagai header\n",
        "data = data[1:]  # Hapus baris header sebelumnya\n",
        "\n",
        "# Ubah kolom menjadi numerik jika perlu\n",
        "data['Year'] = pd.to_numeric(data['Year'], errors='coerce')\n",
        "data['Total Costs'] = pd.to_numeric(data['Total Costs'], errors='coerce')\n",
        "\n",
        "# Tampilkan 5 baris pertama untuk inspeksi awal\n",
        "print(data.head())"
      ],
      "metadata": {
        "colab": {
          "base_uri": "https://localhost:8080/"
        },
        "id": "iQoMeOsnRk1E",
        "outputId": "9358a9b5-b067-4c7e-f21d-3f048d929b19"
      },
      "execution_count": 130,
      "outputs": [
        {
          "output_type": "stream",
          "name": "stdout",
          "text": [
            "0 Cancer Site  Year         Sex       Age  \\\n",
            "1    AllSites  2010  Both sexes  All ages   \n",
            "2    AllSites  2010  Both sexes  All ages   \n",
            "3    AllSites  2010  Both sexes  All ages   \n",
            "4    AllSites  2010  Both sexes  All ages   \n",
            "5    AllSites  2010  Both sexes  All ages   \n",
            "\n",
            "0                 Incidence and Survival Assumptions  \\\n",
            "1               Incidence, Survival at constant rate   \n",
            "2  Incidence follows recent trend, Survival constant   \n",
            "3  Survival follows recent trend, Incidence constant   \n",
            "4           Incidence, Survival follow recent trends   \n",
            "5           Incidence, Survival follow recent trends   \n",
            "\n",
            "0 Annual Cost Increase (applied to initial and last phases)  Total Costs  \\\n",
            "1                                                 0%            124565.6   \n",
            "2                                                 0%            122420.8   \n",
            "3                                                 0%            125397.7   \n",
            "4                                                 0%            123236.3   \n",
            "5                                                 2%            123236.3   \n",
            "\n",
            "0 Initial Year After Diagnosis Cost Continuing Phase Cost  \\\n",
            "1                           40463.5               46642.8   \n",
            "2                           38552.7               46671.9   \n",
            "3                           40463.5               47136.3   \n",
            "4                           38552.7               47155.7   \n",
            "5                           38552.7               47155.7   \n",
            "\n",
            "0 Last Year of Life Cost  \n",
            "1                37459.2  \n",
            "2                37196.3  \n",
            "3                37797.9  \n",
            "4                37527.8  \n",
            "5                37527.8  \n"
          ]
        }
      ]
    },
    {
      "cell_type": "markdown",
      "source": [
        "## Deskripsi Variabel"
      ],
      "metadata": {
        "id": "GUVrOy2HRt13"
      }
    },
    {
      "cell_type": "code",
      "source": [
        "# Tampilkan nama kolom dan tipe data\n",
        "print(\"Tipe Data dan Nilai Null:\\n\", data.info())\n",
        "print(\"Statistik Ringkas:\\n\", data.describe())"
      ],
      "metadata": {
        "colab": {
          "base_uri": "https://localhost:8080/"
        },
        "id": "jhyI9mzTRvq0",
        "outputId": "fc3f7caf-eace-4538-82be-2ec69e81144a"
      },
      "execution_count": 131,
      "outputs": [
        {
          "output_type": "stream",
          "name": "stdout",
          "text": [
            "<class 'pandas.core.frame.DataFrame'>\n",
            "RangeIndex: 1254 entries, 1 to 1254\n",
            "Data columns (total 10 columns):\n",
            " #   Column                                                     Non-Null Count  Dtype  \n",
            "---  ------                                                     --------------  -----  \n",
            " 0   Cancer Site                                                1254 non-null   object \n",
            " 1   Year                                                       1254 non-null   int64  \n",
            " 2   Sex                                                        1254 non-null   object \n",
            " 3   Age                                                        1254 non-null   object \n",
            " 4   Incidence and Survival Assumptions                         1254 non-null   object \n",
            " 5   Annual Cost Increase (applied to initial and last phases)  1254 non-null   object \n",
            " 6   Total Costs                                                1254 non-null   float64\n",
            " 7   Initial Year After Diagnosis Cost                          1254 non-null   object \n",
            " 8   Continuing Phase Cost                                      1254 non-null   object \n",
            " 9   Last Year of Life Cost                                     1254 non-null   object \n",
            "dtypes: float64(1), int64(1), object(8)\n",
            "memory usage: 98.1+ KB\n",
            "Tipe Data dan Nilai Null:\n",
            " None\n",
            "Statistik Ringkas:\n",
            " 0             Year    Total Costs\n",
            "count  1254.000000    1254.000000\n",
            "mean   2015.000000   15221.008852\n",
            "std       3.163539   31489.503603\n",
            "min    2010.000000    1204.600000\n",
            "25%    2012.000000    2866.625000\n",
            "50%    2015.000000    5107.350000\n",
            "75%    2018.000000   14178.925000\n",
            "max    2020.000000  206587.100000\n"
          ]
        }
      ]
    },
    {
      "cell_type": "code",
      "source": [
        "# Plot histogram untuk Total Costs\n",
        "plt.figure(figsize=(8, 6))\n",
        "sns.histplot(data['Total Costs'].dropna(), kde=True)\n",
        "plt.title('Distribusi Total Biaya')\n",
        "plt.xlabel('Total Biaya')\n",
        "plt.show()"
      ],
      "metadata": {
        "colab": {
          "base_uri": "https://localhost:8080/",
          "height": 564
        },
        "id": "JVz_sHRyR2mz",
        "outputId": "53957d2a-05a9-45ce-9e41-9606f932d72d"
      },
      "execution_count": 132,
      "outputs": [
        {
          "output_type": "display_data",
          "data": {
            "text/plain": [
              "<Figure size 800x600 with 1 Axes>"
            ],
            "image/png": "[encoded data removed]"
          },
          "metadata": {}
        }
      ]
    },
    {
      "cell_type": "code",
      "source": [
        "# Pairplot untuk variabel kontinu\n",
        "sns.pairplot(data[['Total Costs', 'Year']].dropna())\n",
        "plt.show()\n"
      ],
      "metadata": {
        "colab": {
          "base_uri": "https://localhost:8080/",
          "height": 513
        },
        "id": "D0dnF-f8R4z6",
        "outputId": "09553669-0689-49d0-a118-198b2c437af5"
      },
      "execution_count": 133,
      "outputs": [
        {
          "output_type": "display_data",
          "data": {
            "text/plain": [
              "<Figure size 500x500 with 6 Axes>"
            ],
            "image/png": "[encoded data removed]"
          },
          "metadata": {}
        }
      ]
    },
    {
      "cell_type": "markdown",
      "source": [
        "# Persiapan Data"
      ],
      "metadata": {
        "id": "jNGcBU_eSCuN"
      }
    },
    {
      "cell_type": "code",
      "source": [
        "# Menghapus simbol '%' pada kolom 'Annual Cost Increase' dan mengonversinya menjadi float\n",
        "data['Annual Cost Increase (applied to initial and last phases)'] = (\n",
        "    data['Annual Cost Increase (applied to initial and last phases)']\n",
        "    .replace('%', '', regex=True)\n",
        "    .astype(float) / 100\n",
        ")"
      ],
      "metadata": {
        "id": "vrhwvmwCSCOl"
      },
      "execution_count": 135,
      "outputs": []
    },
    {
      "cell_type": "code",
      "source": [
        "# One-Hot Encoding untuk kolom kategorikal\n",
        "data_encoded = pd.get_dummies(data, columns=['Cancer Site', 'Sex', 'Age', 'Incidence and Survival Assumptions'], drop_first=True)\n"
      ],
      "metadata": {
        "id": "tdFLnymhTv7_"
      },
      "execution_count": 136,
      "outputs": []
    },
    {
      "cell_type": "code",
      "source": [
        "# Tampilkan 5 baris pertama untuk inspeksi awal\n",
        "print(data.head())"
      ],
      "metadata": {
        "colab": {
          "base_uri": "https://localhost:8080/"
        },
        "id": "30VvNCA4Tyn-",
        "outputId": "6fa95bef-3810-4907-9dff-7e10c9e15ba6"
      },
      "execution_count": 137,
      "outputs": [
        {
          "output_type": "stream",
          "name": "stdout",
          "text": [
            "0 Cancer Site  Year         Sex       Age  \\\n",
            "1    AllSites  2010  Both sexes  All ages   \n",
            "2    AllSites  2010  Both sexes  All ages   \n",
            "3    AllSites  2010  Both sexes  All ages   \n",
            "4    AllSites  2010  Both sexes  All ages   \n",
            "5    AllSites  2010  Both sexes  All ages   \n",
            "\n",
            "0                 Incidence and Survival Assumptions  \\\n",
            "1               Incidence, Survival at constant rate   \n",
            "2  Incidence follows recent trend, Survival constant   \n",
            "3  Survival follows recent trend, Incidence constant   \n",
            "4           Incidence, Survival follow recent trends   \n",
            "5           Incidence, Survival follow recent trends   \n",
            "\n",
            "0  Annual Cost Increase (applied to initial and last phases)  Total Costs  \\\n",
            "1                                             0.0000             124565.6   \n",
            "2                                             0.0000             122420.8   \n",
            "3                                             0.0000             125397.7   \n",
            "4                                             0.0000             123236.3   \n",
            "5                                             0.0002             123236.3   \n",
            "\n",
            "0 Initial Year After Diagnosis Cost Continuing Phase Cost  \\\n",
            "1                           40463.5               46642.8   \n",
            "2                           38552.7               46671.9   \n",
            "3                           40463.5               47136.3   \n",
            "4                           38552.7               47155.7   \n",
            "5                           38552.7               47155.7   \n",
            "\n",
            "0 Last Year of Life Cost  \n",
            "1                37459.2  \n",
            "2                37196.3  \n",
            "3                37797.9  \n",
            "4                37527.8  \n",
            "5                37527.8  \n"
          ]
        }
      ]
    },
    {
      "cell_type": "code",
      "source": [
        "# Tentukan fitur dan target\n",
        "fitur = data_encoded.drop(columns=['Total Costs'])  # Gantilah dengan nama kolom target jika berbeda\n",
        "target = data_encoded['Total Costs']"
      ],
      "metadata": {
        "id": "h8aZC6UgT0yj"
      },
      "execution_count": 138,
      "outputs": []
    },
    {
      "cell_type": "code",
      "source": [
        "# Pisahkan data menjadi set pelatihan dan pengujian\n",
        "X_train, X_test, y_train, y_test = train_test_split(fitur, target, test_size=0.2, random_state=42)"
      ],
      "metadata": {
        "id": "DVprhljDT3ss"
      },
      "execution_count": 139,
      "outputs": []
    },
    {
      "cell_type": "code",
      "source": [
        "# Cek ukuran sampel\n",
        "print(\"Jumlah sampel pelatihan:\", len(X_train))\n",
        "print(\"Jumlah sampel pengujian:\", len(X_test))"
      ],
      "metadata": {
        "colab": {
          "base_uri": "https://localhost:8080/"
        },
        "id": "u_unoOmpT5jr",
        "outputId": "a5e909e8-5aae-4206-f39b-1ae59ea83aa2"
      },
      "execution_count": 140,
      "outputs": [
        {
          "output_type": "stream",
          "name": "stdout",
          "text": [
            "Jumlah sampel pelatihan: 1003\n",
            "Jumlah sampel pengujian: 251\n"
          ]
        }
      ]
    },
    {
      "cell_type": "code",
      "source": [
        "# Standarisasi fitur\n",
        "scaler = StandardScaler()\n",
        "X_train = scaler.fit_transform(X_train)\n",
        "X_test = scaler.transform(X_test)\n",
        "\n",
        "# Konfirmasi standarisasi\n",
        "print(\"Rata-rata X_train:\", X_train.mean(axis=0))\n",
        "print(\"Deviasi standar X_train:\", X_train.std(axis=0))"
      ],
      "metadata": {
        "colab": {
          "base_uri": "https://localhost:8080/"
        },
        "id": "hw7ijU6XT7vY",
        "outputId": "25da1bca-6880-4dd3-e710-65648f792305"
      },
      "execution_count": 142,
      "outputs": [
        {
          "output_type": "stream",
          "name": "stdout",
          "text": [
            "Rata-rata X_train: [ 5.13602675e-17  2.83366993e-17  0.00000000e+00  2.21380464e-18\n",
            " -1.15117841e-17  2.47946119e-17 -1.41683497e-17 -2.39090901e-17\n",
            " -2.47946119e-17 -2.03670026e-17  2.12525245e-17  7.08417483e-18\n",
            "  3.18787867e-17 -2.47946119e-17  0.00000000e+00  2.83366993e-17\n",
            "  2.92222212e-17  1.31057234e-16 -1.31057234e-16  8.85521854e-18\n",
            " -2.74511775e-17  7.79259232e-17  1.77104371e-17  7.08417483e-18\n",
            " -2.74511775e-17 -3.18787867e-17  3.09932649e-17  2.30235682e-17]\n",
            "Deviasi standar X_train: [1. 1. 1. 1. 1. 1. 1. 1. 1. 1. 1. 1. 1. 1. 1. 1. 1. 1. 1. 1. 1. 1. 1. 1.\n",
            " 1. 1. 1. 1.]\n"
          ]
        }
      ]
    },
    {
      "cell_type": "markdown",
      "source": [
        "# Pengembangan Model"
      ],
      "metadata": {
        "id": "AbBX8XTWUCCi"
      }
    },
    {
      "cell_type": "code",
      "source": [
        "# DataFrame untuk perbandingan model\n",
        "hasil_model = pd.DataFrame(columns=['Model', 'MSE', 'RMSE', 'R2'])"
      ],
      "metadata": {
        "id": "Yvzyleh6UBDc"
      },
      "execution_count": 143,
      "outputs": []
    },
    {
      "cell_type": "code",
      "source": [
        "# Random Forest Regressor\n",
        "rf_model = RandomForestRegressor(random_state=42)\n",
        "rf_model.fit(X_train, y_train)\n",
        "y_pred_rf = rf_model.predict(X_test)\n",
        "mse_rf = mean_squared_error(y_test, y_pred_rf)\n",
        "rmse_rf = np.sqrt(mse_rf)\n",
        "r2_rf = r2_score(y_test, y_pred_rf)\n",
        "\n",
        "# Tambahkan hasil Random Forest ke dalam hasil_model\n",
        "hasil_model = pd.concat([hasil_model, pd.DataFrame({'Model': ['Random Forest'], 'MSE': [mse_rf], 'RMSE': [rmse_rf], 'R2': [r2_rf]})], ignore_index=True)\n",
        "\n",
        "# Linear Regression\n",
        "lr_model = LinearRegression()\n",
        "lr_model.fit(X_train, y_train)\n",
        "y_pred_lr = lr_model.predict(X_test)\n",
        "mse_lr = mean_squared_error(y_test, y_pred_lr)\n",
        "rmse_lr = np.sqrt(mse_lr)\n",
        "r2_lr = r2_score(y_test, y_pred_lr)\n",
        "\n",
        "# Tambahkan hasil Linear Regression ke dalam hasil_model\n",
        "hasil_model = pd.concat([hasil_model, pd.DataFrame({'Model': ['Linear Regression'], 'MSE': [mse_lr], 'RMSE': [rmse_lr], 'R2': [r2_lr]})], ignore_index=True)\n"
      ],
      "metadata": {
        "colab": {
          "base_uri": "https://localhost:8080/"
        },
        "id": "rHYrzNISUH76",
        "outputId": "addc1305-4795-4df4-c2c8-918355974c34"
      },
      "execution_count": 144,
      "outputs": [
        {
          "output_type": "stream",
          "name": "stderr",
          "text": [
            "<ipython-input-144-8e3c78d32c24>:10: FutureWarning: The behavior of DataFrame concatenation with empty or all-NA entries is deprecated. In a future version, this will no longer exclude empty or all-NA columns when determining the result dtypes. To retain the old behavior, exclude the relevant entries before the concat operation.\n",
            "  hasil_model = pd.concat([hasil_model, pd.DataFrame({'Model': ['Random Forest'], 'MSE': [mse_rf], 'RMSE': [rmse_rf], 'R2': [r2_rf]})], ignore_index=True)\n"
          ]
        }
      ]
    },
    {
      "cell_type": "markdown",
      "source": [
        "# Evaluasi Model"
      ],
      "metadata": {
        "id": "YtpDCUScUKiF"
      }
    },
    {
      "cell_type": "code",
      "source": [
        "# Tampilkan hasil evaluasi model\n",
        "print(\"\\nHasil Evaluasi Model:\\n\", hasil_model)\n",
        "\n",
        "# Plot metrik evaluasi sebagai diagram batang\n",
        "fig, ax = plt.subplots(figsize=(10, 6))\n",
        "hasil_model.set_index('Model')[['MSE', 'RMSE', 'R2']].plot(kind='bar', ax=ax)\n",
        "plt.title(\"Perbandingan Kinerja Model\")\n",
        "plt.ylabel(\"Metrik\")\n",
        "plt.show()"
      ],
      "metadata": {
        "colab": {
          "base_uri": "https://localhost:8080/",
          "height": 760
        },
        "id": "GsTbgDxEUOBg",
        "outputId": "707b8743-18c9-4ff8-cf6c-80f3f38f1e11"
      },
      "execution_count": 145,
      "outputs": [
        {
          "output_type": "stream",
          "name": "stdout",
          "text": [
            "\n",
            "Hasil Evaluasi Model:\n",
            "                Model            MSE        RMSE        R2\n",
            "0      Random Forest  469475.096036  685.182528  0.999227\n",
            "1  Linear Regression       0.003453    0.058760  1.000000\n"
          ]
        },
        {
          "output_type": "display_data",
          "data": {
            "text/plain": [
              "<Figure size 1000x600 with 1 Axes>"
            ],
            "image/png": "[encoded data removed]"
          },
          "metadata": {}
        }
      ]
    },
    {
      "cell_type": "code",
      "source": [
        "# Prediksi dan pengujian dengan model Linear Regression\n",
        "y_pred_lr_test = lr_model.predict(X_test)\n",
        "\n",
        "# Menghitung metrik evaluasi untuk Linear Regression pada data uji\n",
        "mse_lr_test = mean_squared_error(y_test, y_pred_lr_test)\n",
        "rmse_lr_test = np.sqrt(mse_lr_test)\n",
        "r2_lr_test = r2_score(y_test, y_pred_lr_test)"
      ],
      "metadata": {
        "id": "narMLlG1UUQi"
      },
      "execution_count": 149,
      "outputs": []
    },
    {
      "cell_type": "code",
      "source": [
        "print(\"Model Linear Regression - Evaluasi Set Pengujian\")\n",
        "print(f\"MSE: {mse_lr_test:.2f}\")\n",
        "print(f\"RMSE: {rmse_lr_test:.2f}\")\n",
        "print(f\"R²: {r2_lr_test:.2f}\")\n",
        "print(\"\\n\")"
      ],
      "metadata": {
        "colab": {
          "base_uri": "https://localhost:8080/"
        },
        "id": "dotuohQ2UVdf",
        "outputId": "5f1e05ad-1e51-42d1-cbf0-e2c370037b00"
      },
      "execution_count": 150,
      "outputs": [
        {
          "output_type": "stream",
          "name": "stdout",
          "text": [
            "Model Linear Regression - Evaluasi Set Pengujian\n",
            "MSE: 0.00\n",
            "RMSE: 0.06\n",
            "R²: 1.00\n",
            "\n",
            "\n"
          ]
        }
      ]
    },
    {
      "cell_type": "code",
      "source": [
        "# Prediksi dan pengujian dengan model Random Forest Regressor\n",
        "y_pred_rf_test = rf_model.predict(X_test)\n",
        "\n",
        "# Menghitung metrik evaluasi untuk Random Forest pada data uji\n",
        "mse_rf_test = mean_squared_error(y_test, y_pred_rf_test)\n",
        "rmse_rf_test = np.sqrt(mse_rf_test)\n",
        "r2_rf_test = r2_score(y_test, y_pred_rf_test)"
      ],
      "metadata": {
        "id": "ufukFVeGUdp_"
      },
      "execution_count": 151,
      "outputs": []
    },
    {
      "cell_type": "code",
      "source": [
        "print(\"Model Random Forest - Evaluasi Set Pengujian\")\n",
        "print(f\"MSE: {mse_rf_test:.2f}\")\n",
        "print(f\"RMSE: {rmse_rf_test:.2f}\")\n",
        "print(f\"R²: {r2_rf_test:.2f}\")"
      ],
      "metadata": {
        "colab": {
          "base_uri": "https://localhost:8080/"
        },
        "id": "-CrBJKnLUfSe",
        "outputId": "37588765-544f-4473-bf9c-67836bf81967"
      },
      "execution_count": 152,
      "outputs": [
        {
          "output_type": "stream",
          "name": "stdout",
          "text": [
            "Model Random Forest - Evaluasi Set Pengujian\n",
            "MSE: 469475.10\n",
            "RMSE: 685.18\n",
            "R²: 1.00\n"
          ]
        }
      ]
    },
    {
      "cell_type": "markdown",
      "source": [
        "# Inferensi"
      ],
      "metadata": {
        "id": "9RrLQ6cZUiqB"
      }
    },
    {
      "cell_type": "code",
      "source": [
        "# Membuat data prediksi sesuai dengan kolom fitur yang ada pada data pelatihan\n",
        "data_prediksi = pd.DataFrame({\n",
        "    'Year': [2024],  # Misalnya tahun saat prediksi\n",
        "    'Annual Cost Increase (applied to initial and last phases)': [0.02],  # Angka kenaikan biaya tahunan\n",
        "    'Initial Year After Diagnosis Cost': [10000],  # Misalnya biaya untuk tahun pertama setelah diagnosis\n",
        "    'Continuing Phase Cost': [5000],  # Biaya untuk fase lanjutan\n",
        "    'Last Year of Life Cost': [20000],  # Biaya pada tahun terakhir hidup\n",
        "    'Cancer Site_Bladder': [0],\n",
        "    'Cancer Site_Brain': [0],\n",
        "    'Cancer Site_Breast': [0],\n",
        "    'Cancer Site_Cervix': [1],  # Kanker serviks\n",
        "    'Cancer Site_Colorectal': [0],\n",
        "    'Cancer Site_Esophagus': [0],\n",
        "    'Cancer Site_Head_Neck': [0],\n",
        "    'Cancer Site_Kidney': [0],\n",
        "    'Cancer Site_Leukemia': [0],\n",
        "    'Cancer Site_Lung': [0],\n",
        "    'Cancer Site_Lymphoma': [0],\n",
        "    'Cancer Site_Melanoma': [0],\n",
        "    'Cancer Site_Other': [0],\n",
        "    'Cancer Site_Ovary': [0],\n",
        "    'Cancer Site_Pancreas': [0],\n",
        "    'Cancer Site_Prostate': [0],\n",
        "    'Cancer Site_Stomach': [0],\n",
        "    'Cancer Site_Uterus': [0],\n",
        "    'Sex_Females': [1],  # Pasien perempuan\n",
        "    'Sex_Males': [0],\n",
        "    'Incidence and Survival Assumptions_Incidence, Survival at constant rate': [0],\n",
        "    'Incidence and Survival Assumptions_Incidence, Survival follow recent trends': [0],\n",
        "    'Incidence and Survival Assumptions_Survival follows recent trend, Incidence constant': [1],\n",
        "})\n",
        "\n",
        "# Menyesuaikan kolom prediksi untuk memiliki jumlah dan urutan kolom yang sama dengan data pelatihan\n",
        "data_prediksi = data_prediksi.reindex(columns=X_train_df.columns, fill_value=0)\n",
        "\n",
        "# Prediksi biaya pengobatan menggunakan model Linear Regression\n",
        "prediksi_cost = lr_model.predict(data_prediksi)\n",
        "\n",
        "# Menampilkan hasil prediksi biaya pengobatan\n",
        "print(f'Prediksi biaya pengobatan untuk pasien umur 37 tahun dengan kanker serviks: {prediksi_cost[0]:.2f}')\n"
      ],
      "metadata": {
        "colab": {
          "base_uri": "https://localhost:8080/"
        },
        "id": "RLaO5EN2VJrx",
        "outputId": "1f45e9be-8333-4715-b294-e656b62be7fe"
      },
      "execution_count": 154,
      "outputs": [
        {
          "output_type": "stream",
          "name": "stdout",
          "text": [
            "Prediksi biaya pengobatan untuk pasien umur 37 tahun dengan kanker serviks: 372746037.03\n"
          ]
        },
        {
          "output_type": "stream",
          "name": "stderr",
          "text": [
            "/usr/local/lib/python3.10/dist-packages/sklearn/base.py:486: UserWarning: X has feature names, but LinearRegression was fitted without feature names\n",
            "  warnings.warn(\n"
          ]
        }
      ]
    }
  ]
}