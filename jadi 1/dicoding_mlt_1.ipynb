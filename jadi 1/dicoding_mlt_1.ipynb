{
  "nbformat": 4,
  "nbformat_minor": 0,
  "metadata": {
    "colab": {
      "provenance": [],
      "gpuType": "T4"
    },
    "kernelspec": {
      "name": "python3",
      "display_name": "Python 3"
    },
    "language_info": {
      "name": "python"
    },
    "accelerator": "GPU"
  },
  "cells": [
    {
      "cell_type": "markdown",
      "source": [
        "# Impor pustaka yang diperlukan"
      ],
      "metadata": {
        "id": "0SvcHhTgRUOh"
      }
    },
    {
      "cell_type": "code",
      "source": [
        "import pandas as pd\n",
        "import numpy as np\n",
        "import matplotlib.pyplot as plt\n",
        "import seaborn as sns\n",
        "\n",
        "from sklearn.model_selection import train_test_split\n",
        "from sklearn.ensemble import RandomForestRegressor\n",
        "from sklearn.linear_model import LinearRegression\n",
        "from sklearn.metrics import mean_squared_error, r2_score\n",
        "from sklearn.preprocessing import StandardScaler\n",
        "from sklearn.model_selection import GridSearchCV\n"
      ],
      "metadata": {
        "id": "rH2JGIA5RQhd"
      },
      "execution_count": 1,
      "outputs": []
    },
    {
      "cell_type": "markdown",
      "source": [
        "Mengimpor pustaka yang akan digunakan: pandas dan numpy untuk manipulasi data, matplotlib dan seaborn untuk visualisasi, dan beberapa modul dari sklearn untuk pengembangan dan evaluasi model."
      ],
      "metadata": {
        "id": "1eJbhvSPX7BT"
      }
    },
    {
      "cell_type": "markdown",
      "source": [
        "# Memuat Data"
      ],
      "metadata": {
        "id": "PY1KRyl1RcWB"
      }
    },
    {
      "cell_type": "code",
      "source": [
        "!pip install kaggle\n",
        "\n",
        "from google.colab import files\n",
        "files.upload()\n",
        "\n",
        "import os\n",
        "os.environ['KAGGLE_CONFIG_DIR'] = '/content'\n",
        "\n",
        "!kaggle datasets download -d rishidamarla/costs-for-cancer-treatment\n",
        "\n",
        "!unzip costs-for-cancer-treatment.zip"
      ],
      "metadata": {
        "colab": {
          "base_uri": "https://localhost:8080/",
          "height": 456
        },
        "id": "69RymwnRRbT7",
        "outputId": "70c2175e-b75b-4f24-fd9a-1f8e0547d9a3"
      },
      "execution_count": 2,
      "outputs": [
        {
          "output_type": "stream",
          "name": "stdout",
          "text": [
            "Requirement already satisfied: kaggle in /usr/local/lib/python3.10/dist-packages (1.6.17)\n",
            "Requirement already satisfied: six>=1.10 in /usr/local/lib/python3.10/dist-packages (from kaggle) (1.16.0)\n",
            "Requirement already satisfied: certifi>=2023.7.22 in /usr/local/lib/python3.10/dist-packages (from kaggle) (2024.8.30)\n",
            "Requirement already satisfied: python-dateutil in /usr/local/lib/python3.10/dist-packages (from kaggle) (2.8.2)\n",
            "Requirement already satisfied: requests in /usr/local/lib/python3.10/dist-packages (from kaggle) (2.32.3)\n",
            "Requirement already satisfied: tqdm in /usr/local/lib/python3.10/dist-packages (from kaggle) (4.66.6)\n",
            "Requirement already satisfied: python-slugify in /usr/local/lib/python3.10/dist-packages (from kaggle) (8.0.4)\n",
            "Requirement already satisfied: urllib3 in /usr/local/lib/python3.10/dist-packages (from kaggle) (2.2.3)\n",
            "Requirement already satisfied: bleach in /usr/local/lib/python3.10/dist-packages (from kaggle) (6.2.0)\n",
            "Requirement already satisfied: webencodings in /usr/local/lib/python3.10/dist-packages (from bleach->kaggle) (0.5.1)\n",
            "Requirement already satisfied: text-unidecode>=1.3 in /usr/local/lib/python3.10/dist-packages (from python-slugify->kaggle) (1.3)\n",
            "Requirement already satisfied: charset-normalizer<4,>=2 in /usr/local/lib/python3.10/dist-packages (from requests->kaggle) (3.4.0)\n",
            "Requirement already satisfied: idna<4,>=2.5 in /usr/local/lib/python3.10/dist-packages (from requests->kaggle) (3.10)\n"
          ]
        },
        {
          "output_type": "display_data",
          "data": {
            "text/plain": [
              "<IPython.core.display.HTML object>"
            ],
            "text/html": [
              "\n",
              "     <input type=\"file\" id=\"files-b7479559-1602-40bb-a27c-3a21ce339ae4\" name=\"files[]\" multiple disabled\n",
              "        style=\"border:none\" />\n",
              "     <output id=\"result-b7479559-1602-40bb-a27c-3a21ce339ae4\">\n",
              "      Upload widget is only available when the cell has been executed in the\n",
              "      current browser session. Please rerun this cell to enable.\n",
              "      </output>\n",
              "      <script>// Copyright 2017 Google LLC\n",
              "//\n",
              "// Licensed under the Apache License, Version 2.0 (the \"License\");\n",
              "// you may not use this file except in compliance with the License.\n",
              "// You may obtain a copy of the License at\n",
              "//\n",
              "//      http://www.apache.org/licenses/LICENSE-2.0\n",
              "//\n",
              "// Unless required by applicable law or agreed to in writing, software\n",
              "// distributed under the License is distributed on an \"AS IS\" BASIS,\n",
              "// WITHOUT WARRANTIES OR CONDITIONS OF ANY KIND, either express or implied.\n",
              "// See the License for the specific language governing permissions and\n",
              "// limitations under the License.\n",
              "\n",
              "/**\n",
              " * @fileoverview Helpers for google.colab Python module.\n",
              " */\n",
              "(function(scope) {\n",
              "function span(text, styleAttributes = {}) {\n",
              "  const element = document.createElement('span');\n",
              "  element.textContent = text;\n",
              "  for (const key of Object.keys(styleAttributes)) {\n",
              "    element.style[key] = styleAttributes[key];\n",
              "  }\n",
              "  return element;\n",
              "}\n",
              "\n",
              "// Max number of bytes which will be uploaded at a time.\n",
              "const MAX_PAYLOAD_SIZE = 100 * 1024;\n",
              "\n",
              "function _uploadFiles(inputId, outputId) {\n",
              "  const steps = uploadFilesStep(inputId, outputId);\n",
              "  const outputElement = document.getElementById(outputId);\n",
              "  // Cache steps on the outputElement to make it available for the next call\n",
              "  // to uploadFilesContinue from Python.\n",
              "  outputElement.steps = steps;\n",
              "\n",
              "  return _uploadFilesContinue(outputId);\n",
              "}\n",
              "\n",
              "// This is roughly an async generator (not supported in the browser yet),\n",
              "// where there are multiple asynchronous steps and the Python side is going\n",
              "// to poll for completion of each step.\n",
              "// This uses a Promise to block the python side on completion of each step,\n",
              "// then passes the result of the previous step as the input to the next step.\n",
              "function _uploadFilesContinue(outputId) {\n",
              "  const outputElement = document.getElementById(outputId);\n",
              "  const steps = outputElement.steps;\n",
              "\n",
              "  const next = steps.next(outputElement.lastPromiseValue);\n",
              "  return Promise.resolve(next.value.promise).then((value) => {\n",
              "    // Cache the last promise value to make it available to the next\n",
              "    // step of the generator.\n",
              "    outputElement.lastPromiseValue = value;\n",
              "    return next.value.response;\n",
              "  });\n",
              "}\n",
              "\n",
              "/**\n",
              " * Generator function which is called between each async step of the upload\n",
              " * process.\n",
              " * @param {string} inputId Element ID of the input file picker element.\n",
              " * @param {string} outputId Element ID of the output display.\n",
              " * @return {!Iterable<!Object>} Iterable of next steps.\n",
              " */\n",
              "function* uploadFilesStep(inputId, outputId) {\n",
              "  const inputElement = document.getElementById(inputId);\n",
              "  inputElement.disabled = false;\n",
              "\n",
              "  const outputElement = document.getElementById(outputId);\n",
              "  outputElement.innerHTML = '';\n",
              "\n",
              "  const pickedPromise = new Promise((resolve) => {\n",
              "    inputElement.addEventListener('change', (e) => {\n",
              "      resolve(e.target.files);\n",
              "    });\n",
              "  });\n",
              "\n",
              "  const cancel = document.createElement('button');\n",
              "  inputElement.parentElement.appendChild(cancel);\n",
              "  cancel.textContent = 'Cancel upload';\n",
              "  const cancelPromise = new Promise((resolve) => {\n",
              "    cancel.onclick = () => {\n",
              "      resolve(null);\n",
              "    };\n",
              "  });\n",
              "\n",
              "  // Wait for the user to pick the files.\n",
              "  const files = yield {\n",
              "    promise: Promise.race([pickedPromise, cancelPromise]),\n",
              "    response: {\n",
              "      action: 'starting',\n",
              "    }\n",
              "  };\n",
              "\n",
              "  cancel.remove();\n",
              "\n",
              "  // Disable the input element since further picks are not allowed.\n",
              "  inputElement.disabled = true;\n",
              "\n",
              "  if (!files) {\n",
              "    return {\n",
              "      response: {\n",
              "        action: 'complete',\n",
              "      }\n",
              "    };\n",
              "  }\n",
              "\n",
              "  for (const file of files) {\n",
              "    const li = document.createElement('li');\n",
              "    li.append(span(file.name, {fontWeight: 'bold'}));\n",
              "    li.append(span(\n",
              "        `(${file.type || 'n/a'}) - ${file.size} bytes, ` +\n",
              "        `last modified: ${\n",
              "            file.lastModifiedDate ? file.lastModifiedDate.toLocaleDateString() :\n",
              "                                    'n/a'} - `));\n",
              "    const percent = span('0% done');\n",
              "    li.appendChild(percent);\n",
              "\n",
              "    outputElement.appendChild(li);\n",
              "\n",
              "    const fileDataPromise = new Promise((resolve) => {\n",
              "      const reader = new FileReader();\n",
              "      reader.onload = (e) => {\n",
              "        resolve(e.target.result);\n",
              "      };\n",
              "      reader.readAsArrayBuffer(file);\n",
              "    });\n",
              "    // Wait for the data to be ready.\n",
              "    let fileData = yield {\n",
              "      promise: fileDataPromise,\n",
              "      response: {\n",
              "        action: 'continue',\n",
              "      }\n",
              "    };\n",
              "\n",
              "    // Use a chunked sending to avoid message size limits. See b/62115660.\n",
              "    let position = 0;\n",
              "    do {\n",
              "      const length = Math.min(fileData.byteLength - position, MAX_PAYLOAD_SIZE);\n",
              "      const chunk = new Uint8Array(fileData, position, length);\n",
              "      position += length;\n",
              "\n",
              "      const base64 = btoa(String.fromCharCode.apply(null, chunk));\n",
              "      yield {\n",
              "        response: {\n",
              "          action: 'append',\n",
              "          file: file.name,\n",
              "          data: base64,\n",
              "        },\n",
              "      };\n",
              "\n",
              "      let percentDone = fileData.byteLength === 0 ?\n",
              "          100 :\n",
              "          Math.round((position / fileData.byteLength) * 100);\n",
              "      percent.textContent = `${percentDone}% done`;\n",
              "\n",
              "    } while (position < fileData.byteLength);\n",
              "  }\n",
              "\n",
              "  // All done.\n",
              "  yield {\n",
              "    response: {\n",
              "      action: 'complete',\n",
              "    }\n",
              "  };\n",
              "}\n",
              "\n",
              "scope.google = scope.google || {};\n",
              "scope.google.colab = scope.google.colab || {};\n",
              "scope.google.colab._files = {\n",
              "  _uploadFiles,\n",
              "  _uploadFilesContinue,\n",
              "};\n",
              "})(self);\n",
              "</script> "
            ]
          },
          "metadata": {}
        },
        {
          "output_type": "stream",
          "name": "stdout",
          "text": [
            "Saving kaggle.json to kaggle.json\n",
            "Warning: Your Kaggle API key is readable by other users on this system! To fix this, you can run 'chmod 600 /content/kaggle.json'\n",
            "Dataset URL: https://www.kaggle.com/datasets/rishidamarla/costs-for-cancer-treatment\n",
            "License(s): CC0-1.0\n",
            "Downloading costs-for-cancer-treatment.zip to /content\n",
            "  0% 0.00/21.6k [00:00<?, ?B/s]\n",
            "100% 21.6k/21.6k [00:00<00:00, 52.7MB/s]\n",
            "Archive:  costs-for-cancer-treatment.zip\n",
            "  inflating: DowloadableDataFull_2011.01.12.csv  \n"
          ]
        }
      ]
    },
    {
      "cell_type": "markdown",
      "source": [
        "Mengunduh dataset dari Kaggle dan mengekstrak data."
      ],
      "metadata": {
        "id": "UCZA-ds3X_mN"
      }
    },
    {
      "cell_type": "markdown",
      "source": [
        "# Memuat dataset dan eksplorasi awal"
      ],
      "metadata": {
        "id": "kX4MEKLgRmrU"
      }
    },
    {
      "cell_type": "markdown",
      "source": [
        "### Muat dataset"
      ],
      "metadata": {
        "id": "BpGqA1Ncr9pR"
      }
    },
    {
      "cell_type": "code",
      "source": [
        "url = 'DowloadableDataFull_2011.01.12.csv'"
      ],
      "metadata": {
        "id": "xVA5brxaDSlz"
      },
      "execution_count": 3,
      "outputs": []
    },
    {
      "cell_type": "markdown",
      "source": [
        "Menyimpan nama atau path dari file CSV ke dalam variabel url."
      ],
      "metadata": {
        "id": "meZG-mAbDS4P"
      }
    },
    {
      "cell_type": "code",
      "source": [
        "data = pd.read_csv(url, skiprows=2)"
      ],
      "metadata": {
        "id": "CApBRGs5DWlM"
      },
      "execution_count": 4,
      "outputs": []
    },
    {
      "cell_type": "markdown",
      "source": [
        " Membaca file CSV dengan pandas dan menyimpannya dalam data. Parameter skiprows=2 melewati dua baris pertama, sehingga data dimulai dari baris ketiga. Ini berguna jika file CSV berisi header tambahan atau keterangan di baris awal."
      ],
      "metadata": {
        "id": "lfoW4rGJDW88"
      }
    },
    {
      "cell_type": "code",
      "source": [
        "data.columns = data.iloc[0]"
      ],
      "metadata": {
        "id": "ft0SXcK7DYcC"
      },
      "execution_count": 5,
      "outputs": []
    },
    {
      "cell_type": "markdown",
      "source": [
        "Mengambil baris pertama data yang dimuat (setelah melewati dua baris awal) dan menggunakannya sebagai nama kolom. Ini dilakukan agar nama kolom sesuai dengan data yang dimuat."
      ],
      "metadata": {
        "id": "Bl-t_tJTDY4d"
      }
    },
    {
      "cell_type": "code",
      "source": [
        "data = data[1:]"
      ],
      "metadata": {
        "id": "L0shvZ3eDfQ1"
      },
      "execution_count": 6,
      "outputs": []
    },
    {
      "cell_type": "markdown",
      "source": [
        "Menghapus baris pertama data (yang sekarang menjadi nama kolom) dari dataset, sehingga data hanya berisi data aktual tanpa pengulangan header."
      ],
      "metadata": {
        "id": "LM8P_8DJDgaT"
      }
    },
    {
      "cell_type": "markdown",
      "source": [
        "### Ubah kolom menjadi numerik"
      ],
      "metadata": {
        "id": "BVB_GQK0sAYb"
      }
    },
    {
      "cell_type": "code",
      "source": [
        "data['Year'] = pd.to_numeric(data['Year'], errors='coerce')"
      ],
      "metadata": {
        "id": "CYi4fZBUsJHh"
      },
      "execution_count": 7,
      "outputs": []
    },
    {
      "cell_type": "markdown",
      "source": [
        "- Mengonversi kolom 'Year' ke dalam tipe numerik menggunakan pd.to_numeric().\n",
        "- Parameter errors='coerce' digunakan untuk menangani nilai yang tidak dapat diubah ke angka. Nilai-nilai tersebut akan diubah menjadi NaN (Not a Number), yang menandakan data tidak valid untuk keperluan numerik."
      ],
      "metadata": {
        "id": "9m_GMP_7DvOw"
      }
    },
    {
      "cell_type": "code",
      "source": [
        "data['Total Costs'] = pd.to_numeric(data['Total Costs'], errors='coerce')"
      ],
      "metadata": {
        "id": "FdTHfc4FD0Pa"
      },
      "execution_count": 8,
      "outputs": []
    },
    {
      "cell_type": "markdown",
      "source": [
        "- Sama seperti sebelumnya, namun diterapkan pada kolom 'Total Costs'.\n",
        "- Kolom ini diubah ke tipe numerik agar dapat digunakan dalam operasi matematis seperti penjumlahan, rata-rata, atau analisis lainnya."
      ],
      "metadata": {
        "id": "rny36yiqYNYE"
      }
    },
    {
      "cell_type": "code",
      "source": [
        "print(data.head())"
      ],
      "metadata": {
        "colab": {
          "base_uri": "https://localhost:8080/"
        },
        "id": "IYZI39mdsLfw",
        "outputId": "96caab5c-35d7-43c4-835b-257c672d35c2"
      },
      "execution_count": 9,
      "outputs": [
        {
          "output_type": "stream",
          "name": "stdout",
          "text": [
            "0 Cancer Site  Year         Sex       Age  \\\n",
            "1    AllSites  2010  Both sexes  All ages   \n",
            "2    AllSites  2010  Both sexes  All ages   \n",
            "3    AllSites  2010  Both sexes  All ages   \n",
            "4    AllSites  2010  Both sexes  All ages   \n",
            "5    AllSites  2010  Both sexes  All ages   \n",
            "\n",
            "0                 Incidence and Survival Assumptions  \\\n",
            "1               Incidence, Survival at constant rate   \n",
            "2  Incidence follows recent trend, Survival constant   \n",
            "3  Survival follows recent trend, Incidence constant   \n",
            "4           Incidence, Survival follow recent trends   \n",
            "5           Incidence, Survival follow recent trends   \n",
            "\n",
            "0 Annual Cost Increase (applied to initial and last phases)  Total Costs  \\\n",
            "1                                                 0%            124565.6   \n",
            "2                                                 0%            122420.8   \n",
            "3                                                 0%            125397.7   \n",
            "4                                                 0%            123236.3   \n",
            "5                                                 2%            123236.3   \n",
            "\n",
            "0 Initial Year After Diagnosis Cost Continuing Phase Cost  \\\n",
            "1                           40463.5               46642.8   \n",
            "2                           38552.7               46671.9   \n",
            "3                           40463.5               47136.3   \n",
            "4                           38552.7               47155.7   \n",
            "5                           38552.7               47155.7   \n",
            "\n",
            "0 Last Year of Life Cost  \n",
            "1                37459.2  \n",
            "2                37196.3  \n",
            "3                37797.9  \n",
            "4                37527.8  \n",
            "5                37527.8  \n"
          ]
        }
      ]
    },
    {
      "cell_type": "markdown",
      "source": [
        "## Deskripsi Variabel"
      ],
      "metadata": {
        "id": "GUVrOy2HRt13"
      }
    },
    {
      "cell_type": "markdown",
      "source": [
        "### Tampilkan nama kolom dan tipe data"
      ],
      "metadata": {
        "id": "NUInNdDvsVEo"
      }
    },
    {
      "cell_type": "code",
      "source": [
        "print(\"Tipe Data dan Nilai Null:\\n\", data.info())\n",
        "print(\"Statistik Ringkas:\\n\", data.describe())"
      ],
      "metadata": {
        "colab": {
          "base_uri": "https://localhost:8080/"
        },
        "id": "jhyI9mzTRvq0",
        "outputId": "37b48ee5-442f-44e4-c20d-e72c00d4984b"
      },
      "execution_count": 10,
      "outputs": [
        {
          "output_type": "stream",
          "name": "stdout",
          "text": [
            "<class 'pandas.core.frame.DataFrame'>\n",
            "RangeIndex: 1254 entries, 1 to 1254\n",
            "Data columns (total 10 columns):\n",
            " #   Column                                                     Non-Null Count  Dtype  \n",
            "---  ------                                                     --------------  -----  \n",
            " 0   Cancer Site                                                1254 non-null   object \n",
            " 1   Year                                                       1254 non-null   int64  \n",
            " 2   Sex                                                        1254 non-null   object \n",
            " 3   Age                                                        1254 non-null   object \n",
            " 4   Incidence and Survival Assumptions                         1254 non-null   object \n",
            " 5   Annual Cost Increase (applied to initial and last phases)  1254 non-null   object \n",
            " 6   Total Costs                                                1254 non-null   float64\n",
            " 7   Initial Year After Diagnosis Cost                          1254 non-null   object \n",
            " 8   Continuing Phase Cost                                      1254 non-null   object \n",
            " 9   Last Year of Life Cost                                     1254 non-null   object \n",
            "dtypes: float64(1), int64(1), object(8)\n",
            "memory usage: 98.1+ KB\n",
            "Tipe Data dan Nilai Null:\n",
            " None\n",
            "Statistik Ringkas:\n",
            " 0             Year    Total Costs\n",
            "count  1254.000000    1254.000000\n",
            "mean   2015.000000   15221.008852\n",
            "std       3.163539   31489.503603\n",
            "min    2010.000000    1204.600000\n",
            "25%    2012.000000    2866.625000\n",
            "50%    2015.000000    5107.350000\n",
            "75%    2018.000000   14178.925000\n",
            "max    2020.000000  206587.100000\n"
          ]
        }
      ]
    },
    {
      "cell_type": "markdown",
      "source": [
        "### Memeriksa apakah ada nilai yang hilang pada kolom-kolom dalam dataset."
      ],
      "metadata": {
        "id": "n6XfjNmtcpOt"
      }
    },
    {
      "cell_type": "code",
      "source": [
        "print(\"Pemeriksaan Missing Values:\")\n",
        "print(data.isnull().sum())"
      ],
      "metadata": {
        "colab": {
          "base_uri": "https://localhost:8080/"
        },
        "id": "_HeO0_iBE03X",
        "outputId": "2bfb9c97-caf3-44b6-fccb-7a6ddba6d281"
      },
      "execution_count": 11,
      "outputs": [
        {
          "output_type": "stream",
          "name": "stdout",
          "text": [
            "Pemeriksaan Missing Values:\n",
            "0\n",
            "Cancer Site                                                  0\n",
            "Year                                                         0\n",
            "Sex                                                          0\n",
            "Age                                                          0\n",
            "Incidence and Survival Assumptions                           0\n",
            "Annual Cost Increase (applied to initial and last phases)    0\n",
            "Total Costs                                                  0\n",
            "Initial Year After Diagnosis Cost                            0\n",
            "Continuing Phase Cost                                        0\n",
            "Last Year of Life Cost                                       0\n",
            "dtype: int64\n"
          ]
        }
      ]
    },
    {
      "cell_type": "markdown",
      "source": [
        "### Memeriksa apakah ada duplikasi data."
      ],
      "metadata": {
        "id": "8lgMuiOKMko_"
      }
    },
    {
      "cell_type": "code",
      "source": [
        "print(\"\\nPemeriksaan Duplikat:\")\n",
        "print(f\"Jumlah baris duplikat: {data.duplicated().sum()}\")"
      ],
      "metadata": {
        "colab": {
          "base_uri": "https://localhost:8080/"
        },
        "id": "YsHDrYcnFkUM",
        "outputId": "b6bcd4d4-8714-4024-d249-24c2d33fca16"
      },
      "execution_count": 12,
      "outputs": [
        {
          "output_type": "stream",
          "name": "stdout",
          "text": [
            "\n",
            "Pemeriksaan Duplikat:\n",
            "Jumlah baris duplikat: 0\n"
          ]
        }
      ]
    },
    {
      "cell_type": "markdown",
      "source": [
        "### Plot diagram batang untuk 'Cancer Site'"
      ],
      "metadata": {
        "id": "r1jJ3d1usaIL"
      }
    },
    {
      "cell_type": "code",
      "source": [
        "plt.figure(figsize=(12, 6))\n",
        "sns.countplot(x='Cancer Site', data=data)\n",
        "\n",
        "plt.title('Distribusi Kasus Berdasarkan Cancer Site')\n",
        "plt.xlabel('Cancer Site')\n",
        "plt.ylabel('Jumlah Kasus')\n",
        "\n",
        "plt.xticks(rotation=45)\n",
        "\n",
        "plt.show()"
      ],
      "metadata": {
        "colab": {
          "base_uri": "https://localhost:8080/",
          "height": 413
        },
        "id": "aXgBIRAE-9no",
        "outputId": "42a9601e-1611-4230-f95f-aa7f6f0b809a"
      },
      "execution_count": 13,
      "outputs": [
        {
          "output_type": "display_data",
          "data": {
            "text/plain": [
              "<Figure size 1200x600 with 1 Axes>"
            ],
            "image/png": "[encoded data removed]"
          },
          "metadata": {}
        }
      ]
    },
    {
      "cell_type": "markdown",
      "source": [
        "Diagram menunjukan jumlah kasus sama masning 66 kasus."
      ],
      "metadata": {
        "id": "Yed2rxSHdAyp"
      }
    },
    {
      "cell_type": "markdown",
      "source": [
        "### Diagram Batang untuk Total Costs berdasarkan Cancer Site"
      ],
      "metadata": {
        "id": "c4tXNPSYBHS1"
      }
    },
    {
      "cell_type": "code",
      "source": [
        "plt.figure(figsize=(12, 6))\n",
        "sns.barplot(x='Cancer Site', y='Total Costs', data=data, estimator='mean')\n",
        "\n",
        "plt.title('Rata-rata Total Costs Berdasarkan Cancer Site')\n",
        "plt.xlabel('Cancer Site')\n",
        "plt.ylabel('Rata-rata Total Costs')\n",
        "\n",
        "plt.xticks(rotation=45)\n",
        "\n",
        "plt.show()"
      ],
      "metadata": {
        "colab": {
          "base_uri": "https://localhost:8080/",
          "height": 400
        },
        "id": "p34PsgmmBJIF",
        "outputId": "c666fc4e-9281-43ae-caf1-a0b947532a9e"
      },
      "execution_count": 14,
      "outputs": [
        {
          "output_type": "display_data",
          "data": {
            "text/plain": [
              "<Figure size 1200x600 with 1 Axes>"
            ],
            "image/png": "[encoded data removed]"
          },
          "metadata": {}
        }
      ]
    },
    {
      "cell_type": "markdown",
      "source": [
        "diagram menunjukan biaya terbesar secara berurut yaitu all sites, other , breast, colorectal, lymphoma"
      ],
      "metadata": {
        "id": "06qvQyM5dEw5"
      }
    },
    {
      "cell_type": "markdown",
      "source": [
        "### diagram batang untuk Total Costs berdasarkan Cancer Site dan Sex"
      ],
      "metadata": {
        "id": "SiTNSUZaBZR9"
      }
    },
    {
      "cell_type": "code",
      "source": [
        "plt.figure(figsize=(12, 6))\n",
        "sns.barplot(x='Cancer Site', y='Total Costs', hue='Sex', data=data)\n",
        "\n",
        "plt.title('Rata-rata Total Costs Berdasarkan Cancer Site dan Sex')\n",
        "plt.xlabel('Cancer Site')\n",
        "plt.ylabel('Rata-rata Total Costs')\n",
        "\n",
        "plt.xticks(rotation=45)\n",
        "\n",
        "plt.show()"
      ],
      "metadata": {
        "colab": {
          "base_uri": "https://localhost:8080/",
          "height": 400
        },
        "id": "AgCoebdCBbrx",
        "outputId": "2ea3dc2d-fa1e-4618-ec68-b8d1b2e75095"
      },
      "execution_count": 15,
      "outputs": [
        {
          "output_type": "display_data",
          "data": {
            "text/plain": [
              "<Figure size 1200x600 with 1 Axes>"
            ],
            "image/png": "[encoded data removed]"
          },
          "metadata": {}
        }
      ]
    },
    {
      "cell_type": "markdown",
      "source": [
        "diagram menunjukan yang paling banyak untuk wanita yaitu breast dan yang paling banyak untuk pria yaitu prostat."
      ],
      "metadata": {
        "id": "p8w1ZcGndH7E"
      }
    },
    {
      "cell_type": "markdown",
      "source": [
        "# Persiapan Data"
      ],
      "metadata": {
        "id": "jNGcBU_eSCuN"
      }
    },
    {
      "cell_type": "markdown",
      "source": [
        "### Menghapus simbol '%' pada kolom 'Annual Cost Increase' dan mengonversinya menjadi float"
      ],
      "metadata": {
        "id": "_2MFjJEMuGBl"
      }
    },
    {
      "cell_type": "code",
      "source": [
        "data['Annual Cost Increase (applied to initial and last phases)'] = (\n",
        "    data['Annual Cost Increase (applied to initial and last phases)']\n",
        "    .replace('%', '', regex=True)\n",
        "    .astype(float) / 100\n",
        ")"
      ],
      "metadata": {
        "id": "vrhwvmwCSCOl"
      },
      "execution_count": 16,
      "outputs": []
    },
    {
      "cell_type": "markdown",
      "source": [
        "Proses ini dilakukan untuk membersihkan dan mengonversi data dari format string ke format numerik (float). Simbol '%' dihapus agar kolom tersebut dapat dikonversi menjadi nilai float dan diubah menjadi bentuk desimal dengan membagi 10"
      ],
      "metadata": {
        "id": "XkVU4q7gdMKI"
      }
    },
    {
      "cell_type": "markdown",
      "source": [
        "### One-Hot Encoding untuk kolom kategorikal"
      ],
      "metadata": {
        "id": "_ISzkeSjuJJP"
      }
    },
    {
      "cell_type": "code",
      "source": [
        "data_encoded = pd.get_dummies(data, columns=['Cancer Site', 'Sex', 'Age', 'Incidence and Survival Assumptions'], drop_first=True)\n"
      ],
      "metadata": {
        "id": "tdFLnymhTv7_"
      },
      "execution_count": 17,
      "outputs": []
    },
    {
      "cell_type": "markdown",
      "source": [
        "One-Hot Encoding digunakan untuk mengubah data kategorikal menjadi format numerik dengan cara membuat kolom biner (0 dan 1) untuk setiap kategori yang ada."
      ],
      "metadata": {
        "id": "kk5jx6HudQnI"
      }
    },
    {
      "cell_type": "markdown",
      "source": [
        "### Tampilkan 5 baris pertama untuk inspeksi awal"
      ],
      "metadata": {
        "id": "wtuO_tNUuL9f"
      }
    },
    {
      "cell_type": "code",
      "source": [
        "print(data.head())"
      ],
      "metadata": {
        "colab": {
          "base_uri": "https://localhost:8080/"
        },
        "id": "30VvNCA4Tyn-",
        "outputId": "d33fc945-a940-41ff-f73f-b7fbbcf88613"
      },
      "execution_count": 18,
      "outputs": [
        {
          "output_type": "stream",
          "name": "stdout",
          "text": [
            "0 Cancer Site  Year         Sex       Age  \\\n",
            "1    AllSites  2010  Both sexes  All ages   \n",
            "2    AllSites  2010  Both sexes  All ages   \n",
            "3    AllSites  2010  Both sexes  All ages   \n",
            "4    AllSites  2010  Both sexes  All ages   \n",
            "5    AllSites  2010  Both sexes  All ages   \n",
            "\n",
            "0                 Incidence and Survival Assumptions  \\\n",
            "1               Incidence, Survival at constant rate   \n",
            "2  Incidence follows recent trend, Survival constant   \n",
            "3  Survival follows recent trend, Incidence constant   \n",
            "4           Incidence, Survival follow recent trends   \n",
            "5           Incidence, Survival follow recent trends   \n",
            "\n",
            "0  Annual Cost Increase (applied to initial and last phases)  Total Costs  \\\n",
            "1                                               0.00             124565.6   \n",
            "2                                               0.00             122420.8   \n",
            "3                                               0.00             125397.7   \n",
            "4                                               0.00             123236.3   \n",
            "5                                               0.02             123236.3   \n",
            "\n",
            "0 Initial Year After Diagnosis Cost Continuing Phase Cost  \\\n",
            "1                           40463.5               46642.8   \n",
            "2                           38552.7               46671.9   \n",
            "3                           40463.5               47136.3   \n",
            "4                           38552.7               47155.7   \n",
            "5                           38552.7               47155.7   \n",
            "\n",
            "0 Last Year of Life Cost  \n",
            "1                37459.2  \n",
            "2                37196.3  \n",
            "3                37797.9  \n",
            "4                37527.8  \n",
            "5                37527.8  \n"
          ]
        }
      ]
    },
    {
      "cell_type": "markdown",
      "source": [
        "### Tentukan fitur dan target"
      ],
      "metadata": {
        "id": "cBCQJU8buPZm"
      }
    },
    {
      "cell_type": "code",
      "source": [
        "fitur = data_encoded.drop(columns=['Total Costs'])  # Gantilah dengan nama kolom target jika berbeda\n",
        "target = data_encoded['Total Costs']"
      ],
      "metadata": {
        "id": "h8aZC6UgT0yj"
      },
      "execution_count": 19,
      "outputs": []
    },
    {
      "cell_type": "markdown",
      "source": [
        "Proses ini memisahkan variabel independen (fitur) dari variabel dependen (target) yang akan diprediksi."
      ],
      "metadata": {
        "id": "jX-4SyY7dZwz"
      }
    },
    {
      "cell_type": "markdown",
      "source": [
        "### Pisahkan data menjadi set pelatihan dan pengujian"
      ],
      "metadata": {
        "id": "TwCZNk0cuSK3"
      }
    },
    {
      "cell_type": "code",
      "source": [
        "X_train, X_test, y_train, y_test = train_test_split(fitur, target, test_size=0.2, random_state=42)"
      ],
      "metadata": {
        "id": "DVprhljDT3ss"
      },
      "execution_count": 20,
      "outputs": []
    },
    {
      "cell_type": "markdown",
      "source": [
        "Data dibagi menjadi set pelatihan (80%) dan set pengujian (20%). random_state=42 digunakan untuk memastikan hasil pembagian yang konsisten di setiap eksekusi."
      ],
      "metadata": {
        "id": "jEQOIBEkde6w"
      }
    },
    {
      "cell_type": "markdown",
      "source": [
        "### Cek ukuran sampel"
      ],
      "metadata": {
        "id": "SmDm95r8uUh0"
      }
    },
    {
      "cell_type": "code",
      "source": [
        "print(\"Jumlah sampel pelatihan:\", len(X_train))\n",
        "print(\"Jumlah sampel pengujian:\", len(X_test))"
      ],
      "metadata": {
        "colab": {
          "base_uri": "https://localhost:8080/"
        },
        "id": "u_unoOmpT5jr",
        "outputId": "701d746b-828d-4b1b-f2ea-678b83c162fe"
      },
      "execution_count": 21,
      "outputs": [
        {
          "output_type": "stream",
          "name": "stdout",
          "text": [
            "Jumlah sampel pelatihan: 1003\n",
            "Jumlah sampel pengujian: 251\n"
          ]
        }
      ]
    },
    {
      "cell_type": "markdown",
      "source": [
        "### Standarisasi fitur"
      ],
      "metadata": {
        "id": "OLQGtv8FuXtO"
      }
    },
    {
      "cell_type": "code",
      "source": [
        "scaler = StandardScaler()\n",
        "X_train = scaler.fit_transform(X_train)\n",
        "X_test = scaler.transform(X_test)\n",
        "\n",
        "print(\"Rata-rata X_train:\", X_train.mean(axis=0))\n",
        "print(\"Deviasi standar X_train:\", X_train.std(axis=0))"
      ],
      "metadata": {
        "colab": {
          "base_uri": "https://localhost:8080/"
        },
        "id": "hw7ijU6XT7vY",
        "outputId": "c74db61f-f15f-4f21-da18-cd1cb6972cb7"
      },
      "execution_count": 22,
      "outputs": [
        {
          "output_type": "stream",
          "name": "stdout",
          "text": [
            "Rata-rata X_train: [-1.30472790e-14  1.23973060e-17  0.00000000e+00 -6.46430954e-17\n",
            "  4.11767662e-17 -3.36498305e-17 -7.43838357e-17  5.75589205e-17\n",
            "  7.08417483e-18 -2.47946119e-17 -7.08417483e-18 -6.02154861e-17\n",
            "  6.02154861e-17 -1.77104371e-17  2.83366993e-17  1.06262622e-17\n",
            "  3.09932649e-17 -8.50100980e-17  2.47946119e-17 -5.49023550e-17\n",
            " -2.74511775e-17 -8.14680106e-17  6.72996609e-17 -6.37575735e-17\n",
            " -2.74511775e-17  1.45225584e-16 -5.66733987e-17 -2.65656556e-17]\n",
            "Deviasi standar X_train: [1. 1. 1. 1. 1. 1. 1. 1. 1. 1. 1. 1. 1. 1. 1. 1. 1. 1. 1. 1. 1. 1. 1. 1.\n",
            " 1. 1. 1. 1.]\n"
          ]
        }
      ]
    },
    {
      "cell_type": "markdown",
      "source": [
        "Standarisasi dilakukan untuk menyelaraskan skala fitur-fitur dalam dataset agar memiliki distribusi yang sama (mean 0 dan standar deviasi 1)."
      ],
      "metadata": {
        "id": "fcMAnGW5dsS3"
      }
    },
    {
      "cell_type": "markdown",
      "source": [
        "# Pengembangan Model"
      ],
      "metadata": {
        "id": "AbBX8XTWUCCi"
      }
    },
    {
      "cell_type": "markdown",
      "source": [
        "### DataFrame untuk perbandingan model"
      ],
      "metadata": {
        "id": "2xcxZ9sfufCk"
      }
    },
    {
      "cell_type": "code",
      "source": [
        "hasil_model = pd.DataFrame(columns=['Model', 'MSE', 'RMSE', 'R2'])"
      ],
      "metadata": {
        "id": "Yvzyleh6UBDc"
      },
      "execution_count": 23,
      "outputs": []
    },
    {
      "cell_type": "markdown",
      "source": [
        "Membuat DataFrame kosong untuk menyimpan hasil evaluasi model."
      ],
      "metadata": {
        "id": "36Mw9PXCd9nt"
      }
    },
    {
      "cell_type": "markdown",
      "source": [
        "## Random Forest Regressor"
      ],
      "metadata": {
        "id": "ytxF1HM5ujAO"
      }
    },
    {
      "cell_type": "markdown",
      "source": [
        "### Tahap pertama dengan parameter default"
      ],
      "metadata": {
        "id": "eGg_hf2tutft"
      }
    },
    {
      "cell_type": "code",
      "source": [
        "rf_model = RandomForestRegressor(random_state=42)\n",
        "rf_model.fit(X_train, y_train)\n",
        "y_pred_rf = rf_model.predict(X_test)\n",
        "mse_rf = mean_squared_error(y_test, y_pred_rf)\n",
        "rmse_rf = np.sqrt(mse_rf)\n",
        "r2_rf = r2_score(y_test, y_pred_rf)"
      ],
      "metadata": {
        "id": "sJb2-LwY4OBC"
      },
      "execution_count": 24,
      "outputs": []
    },
    {
      "cell_type": "markdown",
      "source": [
        "Kode ini melatih model Random Forest Regressor dengan data pelatihan, kemudian menggunakan model tersebut untuk memprediksi target pada data uji."
      ],
      "metadata": {
        "id": "Yjgxlbo3eAnK"
      }
    },
    {
      "cell_type": "markdown",
      "source": [
        "### Tambahkan hasil Random Forest dengan parameter default ke dalam hasil_model"
      ],
      "metadata": {
        "id": "1mKS54H5uwm-"
      }
    },
    {
      "cell_type": "code",
      "source": [
        "hasil_model = pd.concat([hasil_model, pd.DataFrame({'Model': ['Random Forest (default)'], 'MSE': [mse_rf], 'RMSE': [rmse_rf], 'R2': [r2_rf]})], ignore_index=True)\n"
      ],
      "metadata": {
        "colab": {
          "base_uri": "https://localhost:8080/"
        },
        "id": "J0iUqZXh4Q4A",
        "outputId": "1e40679f-145f-4c33-fb55-1377e86a3073"
      },
      "execution_count": 25,
      "outputs": [
        {
          "output_type": "stream",
          "name": "stderr",
          "text": [
            "<ipython-input-25-c34ba99a4ef1>:1: FutureWarning: The behavior of DataFrame concatenation with empty or all-NA entries is deprecated. In a future version, this will no longer exclude empty or all-NA columns when determining the result dtypes. To retain the old behavior, exclude the relevant entries before the concat operation.\n",
            "  hasil_model = pd.concat([hasil_model, pd.DataFrame({'Model': ['Random Forest (default)'], 'MSE': [mse_rf], 'RMSE': [rmse_rf], 'R2': [r2_rf]})], ignore_index=True)\n"
          ]
        }
      ]
    },
    {
      "cell_type": "markdown",
      "source": [
        "Kode ini menambahkan hasil evaluasi model Random Forest ke dalam DataFrame hasil_model untuk membandingkan kinerja berbagai model."
      ],
      "metadata": {
        "id": "fGV7Qph6iYvt"
      }
    },
    {
      "cell_type": "markdown",
      "source": [
        "## Linear Regression"
      ],
      "metadata": {
        "id": "mh3M0vgAu9Yk"
      }
    },
    {
      "cell_type": "code",
      "source": [
        "lr_model = LinearRegression()\n",
        "lr_model.fit(X_train, y_train)\n",
        "y_pred_lr = lr_model.predict(X_test)\n",
        "mse_lr = mean_squared_error(y_test, y_pred_lr)\n",
        "rmse_lr = np.sqrt(mse_lr)\n",
        "r2_lr = r2_score(y_test, y_pred_lr)"
      ],
      "metadata": {
        "id": "dHsliYXo6IjE"
      },
      "execution_count": 26,
      "outputs": []
    },
    {
      "cell_type": "markdown",
      "source": [
        "Kode ini melatih model Linear Regression pada data pelatihan untuk memprediksi biaya pengobatan pada data pengujian, kemudian menghitung metrik evaluasi: MSE, RMSE, dan R²."
      ],
      "metadata": {
        "id": "gFEgyA4ieLaa"
      }
    },
    {
      "cell_type": "markdown",
      "source": [
        "### Tambahkan hasil Linear Regression ke dalam hasil_model"
      ],
      "metadata": {
        "id": "NRdOTjygvBpx"
      }
    },
    {
      "cell_type": "code",
      "source": [
        "hasil_model = pd.concat([hasil_model, pd.DataFrame({'Model': ['Linear Regression'], 'MSE': [mse_lr], 'RMSE': [rmse_lr], 'R2': [r2_lr]})], ignore_index=True)\n"
      ],
      "metadata": {
        "id": "Yvmlb4a-vD0k"
      },
      "execution_count": 27,
      "outputs": []
    },
    {
      "cell_type": "markdown",
      "source": [
        "Kode ini menambahkan hasil evaluasi model Linear Regression ke dalam DataFrame hasil_model untuk membandingkan kinerja model yang berbeda."
      ],
      "metadata": {
        "id": "XNp9vS9Gi0cn"
      }
    },
    {
      "cell_type": "markdown",
      "source": [
        "# Evaluasi Model"
      ],
      "metadata": {
        "id": "YtpDCUScUKiF"
      }
    },
    {
      "cell_type": "markdown",
      "source": [
        "### Tampilkan hasil evaluasi model"
      ],
      "metadata": {
        "id": "igqJ6PoWvXN2"
      }
    },
    {
      "cell_type": "code",
      "source": [
        "print(\"\\nHasil Evaluasi Model:\\n\", hasil_model)\n",
        "\n",
        "fig, ax = plt.subplots(figsize=(10, 6))\n",
        "hasil_model.set_index('Model')[['MSE', 'RMSE', 'R2']].plot(kind='bar', ax=ax)\n",
        "plt.title(\"Perbandingan Kinerja Model\")\n",
        "plt.ylabel(\"Metrik\")\n",
        "plt.show()"
      ],
      "metadata": {
        "colab": {
          "base_uri": "https://localhost:8080/",
          "height": 633
        },
        "id": "GsTbgDxEUOBg",
        "outputId": "0fef91c2-4ef4-4d5e-f2e8-2bb74a90e2b6"
      },
      "execution_count": 28,
      "outputs": [
        {
          "output_type": "stream",
          "name": "stdout",
          "text": [
            "\n",
            "Hasil Evaluasi Model:\n",
            "                      Model            MSE        RMSE        R2\n",
            "0  Random Forest (default)  469475.096036  685.182528  0.999227\n",
            "1        Linear Regression       0.003453    0.058760  1.000000\n"
          ]
        },
        {
          "output_type": "display_data",
          "data": {
            "text/plain": [
              "<Figure size 1000x600 with 1 Axes>"
            ],
            "image/png": "[encoded data removed]"
          },
          "metadata": {}
        }
      ]
    },
    {
      "cell_type": "markdown",
      "source": [
        "Membuat visualisasi perbandingan kinerja model berdasarkan MSE, RMSE, dan R²."
      ],
      "metadata": {
        "id": "-8tz55soeT-o"
      }
    },
    {
      "cell_type": "markdown",
      "source": [
        "### Prediksi dan pengujian dengan model Linear Regression"
      ],
      "metadata": {
        "id": "vksudEiyvfzs"
      }
    },
    {
      "cell_type": "code",
      "source": [
        "y_pred_lr_test = lr_model.predict(X_test)\n"
      ],
      "metadata": {
        "id": "narMLlG1UUQi"
      },
      "execution_count": 29,
      "outputs": []
    },
    {
      "cell_type": "markdown",
      "source": [
        "Model Linear Regression digunakan untuk membuat prediksi berdasarkan data uji (X_test). Hasil prediksi disimpan dalam y_pred_lr_test."
      ],
      "metadata": {
        "id": "0Wj0l6Z_ew5o"
      }
    },
    {
      "cell_type": "markdown",
      "source": [
        "### Menghitung metrik evaluasi untuk Linear Regression pada data uji"
      ],
      "metadata": {
        "id": "7hcU83AXvmic"
      }
    },
    {
      "cell_type": "code",
      "source": [
        "mse_lr_test = mean_squared_error(y_test, y_pred_lr_test)\n",
        "rmse_lr_test = np.sqrt(mse_lr_test)\n",
        "r2_lr_test = r2_score(y_test, y_pred_lr_test)"
      ],
      "metadata": {
        "id": "TutKO2_1vptV"
      },
      "execution_count": 30,
      "outputs": []
    },
    {
      "cell_type": "markdown",
      "source": [
        "Metrik evaluasi yang sama seperti di atas (MSE, RMSE, dan R²) dihitung untuk model Linear Regression."
      ],
      "metadata": {
        "id": "F4ZKbfH4e5qr"
      }
    },
    {
      "cell_type": "code",
      "source": [
        "print(\"Model Linear Regression - Evaluasi Set Pengujian\")\n",
        "print(f\"MSE: {mse_lr_test:.2f}\")\n",
        "print(f\"RMSE: {rmse_lr_test:.2f}\")\n",
        "print(f\"R²: {r2_lr_test:.2f}\")\n",
        "print(\"\\n\")"
      ],
      "metadata": {
        "colab": {
          "base_uri": "https://localhost:8080/"
        },
        "id": "dotuohQ2UVdf",
        "outputId": "b4ba15ab-3b4f-4e5f-c25d-2934b8fbe2ef"
      },
      "execution_count": 31,
      "outputs": [
        {
          "output_type": "stream",
          "name": "stdout",
          "text": [
            "Model Linear Regression - Evaluasi Set Pengujian\n",
            "MSE: 0.00\n",
            "RMSE: 0.06\n",
            "R²: 1.00\n",
            "\n",
            "\n"
          ]
        }
      ]
    },
    {
      "cell_type": "markdown",
      "source": [
        "### Prediksi dan pengujian dengan model Random Forest Regressor"
      ],
      "metadata": {
        "id": "tFQkiDpovtgc"
      }
    },
    {
      "cell_type": "code",
      "source": [
        "y_pred_rf_test = rf_model.predict(X_test)"
      ],
      "metadata": {
        "id": "JPxBvGgMvwwu"
      },
      "execution_count": 32,
      "outputs": []
    },
    {
      "cell_type": "markdown",
      "source": [
        "Model Random Forest Regressor digunakan untuk membuat prediksi berdasarkan data uji (X_test). Hasil prediksi disimpan dalam y_pred_rf_test."
      ],
      "metadata": {
        "id": "zkyvU622fIXC"
      }
    },
    {
      "cell_type": "markdown",
      "source": [
        "### Menghitung metrik evaluasi untuk Random Forest pada data uji"
      ],
      "metadata": {
        "id": "U40wQJSivzA4"
      }
    },
    {
      "cell_type": "code",
      "source": [
        "mse_rf_test = mean_squared_error(y_test, y_pred_rf_test)\n",
        "rmse_rf_test = np.sqrt(mse_rf_test)\n",
        "r2_rf_test = r2_score(y_test, y_pred_rf_test)"
      ],
      "metadata": {
        "id": "ufukFVeGUdp_"
      },
      "execution_count": 33,
      "outputs": []
    },
    {
      "cell_type": "markdown",
      "source": [
        "Metrik evaluasi yang sama seperti di atas (MSE, RMSE, dan R²) dihitung untuk model Random Forest Regressor."
      ],
      "metadata": {
        "id": "LXJqk1QZfKPG"
      }
    },
    {
      "cell_type": "code",
      "source": [
        "print(\"Model Random Forest - Evaluasi Set Pengujian\")\n",
        "print(f\"MSE: {mse_rf_test:.2f}\")\n",
        "print(f\"RMSE: {rmse_rf_test:.2f}\")\n",
        "print(f\"R²: {r2_rf_test:.2f}\")"
      ],
      "metadata": {
        "colab": {
          "base_uri": "https://localhost:8080/"
        },
        "id": "-CrBJKnLUfSe",
        "outputId": "994481eb-dedd-427a-ed20-45856ee48aba"
      },
      "execution_count": 34,
      "outputs": [
        {
          "output_type": "stream",
          "name": "stdout",
          "text": [
            "Model Random Forest - Evaluasi Set Pengujian\n",
            "MSE: 469475.10\n",
            "RMSE: 685.18\n",
            "R²: 1.00\n"
          ]
        }
      ]
    }
  ]
}