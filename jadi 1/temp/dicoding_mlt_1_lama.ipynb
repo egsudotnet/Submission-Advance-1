{
  "nbformat": 4,
  "nbformat_minor": 0,
  "metadata": {
    "colab": {
      "provenance": [],
      "gpuType": "T4"
    },
    "kernelspec": {
      "name": "python3",
      "display_name": "Python 3"
    },
    "language_info": {
      "name": "python"
    },
    "accelerator": "GPU"
  },
  "cells": [
    {
      "cell_type": "markdown",
      "source": [
        "# Impor pustaka yang diperlukan"
      ],
      "metadata": {
        "id": "0SvcHhTgRUOh"
      }
    },
    {
      "cell_type": "code",
      "source": [
        "import pandas as pd\n",
        "import numpy as np\n",
        "import matplotlib.pyplot as plt\n",
        "import seaborn as sns\n",
        "\n",
        "from sklearn.model_selection import train_test_split\n",
        "from sklearn.ensemble import RandomForestRegressor\n",
        "from sklearn.linear_model import LinearRegression\n",
        "from sklearn.metrics import mean_squared_error, r2_score\n",
        "from sklearn.preprocessing import StandardScaler\n",
        "from sklearn.model_selection import GridSearchCV\n"
      ],
      "metadata": {
        "id": "rH2JGIA5RQhd"
      },
      "execution_count": 50,
      "outputs": []
    },
    {
      "cell_type": "markdown",
      "source": [
        "# Memuat Data"
      ],
      "metadata": {
        "id": "PY1KRyl1RcWB"
      }
    },
    {
      "cell_type": "code",
      "source": [
        "!pip install kaggle\n",
        "\n",
        "from google.colab import files\n",
        "files.upload()\n",
        "\n",
        "import os\n",
        "os.environ['KAGGLE_CONFIG_DIR'] = '/content'\n",
        "\n",
        "!kaggle datasets download -d rishidamarla/costs-for-cancer-treatment\n",
        "\n",
        "!unzip costs-for-cancer-treatment.zip"
      ],
      "metadata": {
        "colab": {
          "base_uri": "https://localhost:8080/",
          "height": 439
        },
        "id": "69RymwnRRbT7",
        "outputId": "f77c5122-bee0-4b70-f39c-c8608f2a654c"
      },
      "execution_count": 51,
      "outputs": [
        {
          "output_type": "stream",
          "name": "stdout",
          "text": [
            "Requirement already satisfied: kaggle in /usr/local/lib/python3.10/dist-packages (1.6.17)\n",
            "Requirement already satisfied: six>=1.10 in /usr/local/lib/python3.10/dist-packages (from kaggle) (1.16.0)\n",
            "Requirement already satisfied: certifi>=2023.7.22 in /usr/local/lib/python3.10/dist-packages (from kaggle) (2024.8.30)\n",
            "Requirement already satisfied: python-dateutil in /usr/local/lib/python3.10/dist-packages (from kaggle) (2.8.2)\n",
            "Requirement already satisfied: requests in /usr/local/lib/python3.10/dist-packages (from kaggle) (2.32.3)\n",
            "Requirement already satisfied: tqdm in /usr/local/lib/python3.10/dist-packages (from kaggle) (4.66.6)\n",
            "Requirement already satisfied: python-slugify in /usr/local/lib/python3.10/dist-packages (from kaggle) (8.0.4)\n",
            "Requirement already satisfied: urllib3 in /usr/local/lib/python3.10/dist-packages (from kaggle) (2.2.3)\n",
            "Requirement already satisfied: bleach in /usr/local/lib/python3.10/dist-packages (from kaggle) (6.2.0)\n",
            "Requirement already satisfied: webencodings in /usr/local/lib/python3.10/dist-packages (from bleach->kaggle) (0.5.1)\n",
            "Requirement already satisfied: text-unidecode>=1.3 in /usr/local/lib/python3.10/dist-packages (from python-slugify->kaggle) (1.3)\n",
            "Requirement already satisfied: charset-normalizer<4,>=2 in /usr/local/lib/python3.10/dist-packages (from requests->kaggle) (3.4.0)\n",
            "Requirement already satisfied: idna<4,>=2.5 in /usr/local/lib/python3.10/dist-packages (from requests->kaggle) (3.10)\n"
          ]
        },
        {
          "output_type": "display_data",
          "data": {
            "text/plain": [
              "<IPython.core.display.HTML object>"
            ],
            "text/html": [
              "\n",
              "     <input type=\"file\" id=\"files-2334baf5-190f-4bf6-af8d-b77587240c51\" name=\"files[]\" multiple disabled\n",
              "        style=\"border:none\" />\n",
              "     <output id=\"result-2334baf5-190f-4bf6-af8d-b77587240c51\">\n",
              "      Upload widget is only available when the cell has been executed in the\n",
              "      current browser session. Please rerun this cell to enable.\n",
              "      </output>\n",
              "      <script>// Copyright 2017 Google LLC\n",
              "//\n",
              "// Licensed under the Apache License, Version 2.0 (the \"License\");\n",
              "// you may not use this file except in compliance with the License.\n",
              "// You may obtain a copy of the License at\n",
              "//\n",
              "//      http://www.apache.org/licenses/LICENSE-2.0\n",
              "//\n",
              "// Unless required by applicable law or agreed to in writing, software\n",
              "// distributed under the License is distributed on an \"AS IS\" BASIS,\n",
              "// WITHOUT WARRANTIES OR CONDITIONS OF ANY KIND, either express or implied.\n",
              "// See the License for the specific language governing permissions and\n",
              "// limitations under the License.\n",
              "\n",
              "/**\n",
              " * @fileoverview Helpers for google.colab Python module.\n",
              " */\n",
              "(function(scope) {\n",
              "function span(text, styleAttributes = {}) {\n",
              "  const element = document.createElement('span');\n",
              "  element.textContent = text;\n",
              "  for (const key of Object.keys(styleAttributes)) {\n",
              "    element.style[key] = styleAttributes[key];\n",
              "  }\n",
              "  return element;\n",
              "}\n",
              "\n",
              "// Max number of bytes which will be uploaded at a time.\n",
              "const MAX_PAYLOAD_SIZE = 100 * 1024;\n",
              "\n",
              "function _uploadFiles(inputId, outputId) {\n",
              "  const steps = uploadFilesStep(inputId, outputId);\n",
              "  const outputElement = document.getElementById(outputId);\n",
              "  // Cache steps on the outputElement to make it available for the next call\n",
              "  // to uploadFilesContinue from Python.\n",
              "  outputElement.steps = steps;\n",
              "\n",
              "  return _uploadFilesContinue(outputId);\n",
              "}\n",
              "\n",
              "// This is roughly an async generator (not supported in the browser yet),\n",
              "// where there are multiple asynchronous steps and the Python side is going\n",
              "// to poll for completion of each step.\n",
              "// This uses a Promise to block the python side on completion of each step,\n",
              "// then passes the result of the previous step as the input to the next step.\n",
              "function _uploadFilesContinue(outputId) {\n",
              "  const outputElement = document.getElementById(outputId);\n",
              "  const steps = outputElement.steps;\n",
              "\n",
              "  const next = steps.next(outputElement.lastPromiseValue);\n",
              "  return Promise.resolve(next.value.promise).then((value) => {\n",
              "    // Cache the last promise value to make it available to the next\n",
              "    // step of the generator.\n",
              "    outputElement.lastPromiseValue = value;\n",
              "    return next.value.response;\n",
              "  });\n",
              "}\n",
              "\n",
              "/**\n",
              " * Generator function which is called between each async step of the upload\n",
              " * process.\n",
              " * @param {string} inputId Element ID of the input file picker element.\n",
              " * @param {string} outputId Element ID of the output display.\n",
              " * @return {!Iterable<!Object>} Iterable of next steps.\n",
              " */\n",
              "function* uploadFilesStep(inputId, outputId) {\n",
              "  const inputElement = document.getElementById(inputId);\n",
              "  inputElement.disabled = false;\n",
              "\n",
              "  const outputElement = document.getElementById(outputId);\n",
              "  outputElement.innerHTML = '';\n",
              "\n",
              "  const pickedPromise = new Promise((resolve) => {\n",
              "    inputElement.addEventListener('change', (e) => {\n",
              "      resolve(e.target.files);\n",
              "    });\n",
              "  });\n",
              "\n",
              "  const cancel = document.createElement('button');\n",
              "  inputElement.parentElement.appendChild(cancel);\n",
              "  cancel.textContent = 'Cancel upload';\n",
              "  const cancelPromise = new Promise((resolve) => {\n",
              "    cancel.onclick = () => {\n",
              "      resolve(null);\n",
              "    };\n",
              "  });\n",
              "\n",
              "  // Wait for the user to pick the files.\n",
              "  const files = yield {\n",
              "    promise: Promise.race([pickedPromise, cancelPromise]),\n",
              "    response: {\n",
              "      action: 'starting',\n",
              "    }\n",
              "  };\n",
              "\n",
              "  cancel.remove();\n",
              "\n",
              "  // Disable the input element since further picks are not allowed.\n",
              "  inputElement.disabled = true;\n",
              "\n",
              "  if (!files) {\n",
              "    return {\n",
              "      response: {\n",
              "        action: 'complete',\n",
              "      }\n",
              "    };\n",
              "  }\n",
              "\n",
              "  for (const file of files) {\n",
              "    const li = document.createElement('li');\n",
              "    li.append(span(file.name, {fontWeight: 'bold'}));\n",
              "    li.append(span(\n",
              "        `(${file.type || 'n/a'}) - ${file.size} bytes, ` +\n",
              "        `last modified: ${\n",
              "            file.lastModifiedDate ? file.lastModifiedDate.toLocaleDateString() :\n",
              "                                    'n/a'} - `));\n",
              "    const percent = span('0% done');\n",
              "    li.appendChild(percent);\n",
              "\n",
              "    outputElement.appendChild(li);\n",
              "\n",
              "    const fileDataPromise = new Promise((resolve) => {\n",
              "      const reader = new FileReader();\n",
              "      reader.onload = (e) => {\n",
              "        resolve(e.target.result);\n",
              "      };\n",
              "      reader.readAsArrayBuffer(file);\n",
              "    });\n",
              "    // Wait for the data to be ready.\n",
              "    let fileData = yield {\n",
              "      promise: fileDataPromise,\n",
              "      response: {\n",
              "        action: 'continue',\n",
              "      }\n",
              "    };\n",
              "\n",
              "    // Use a chunked sending to avoid message size limits. See b/62115660.\n",
              "    let position = 0;\n",
              "    do {\n",
              "      const length = Math.min(fileData.byteLength - position, MAX_PAYLOAD_SIZE);\n",
              "      const chunk = new Uint8Array(fileData, position, length);\n",
              "      position += length;\n",
              "\n",
              "      const base64 = btoa(String.fromCharCode.apply(null, chunk));\n",
              "      yield {\n",
              "        response: {\n",
              "          action: 'append',\n",
              "          file: file.name,\n",
              "          data: base64,\n",
              "        },\n",
              "      };\n",
              "\n",
              "      let percentDone = fileData.byteLength === 0 ?\n",
              "          100 :\n",
              "          Math.round((position / fileData.byteLength) * 100);\n",
              "      percent.textContent = `${percentDone}% done`;\n",
              "\n",
              "    } while (position < fileData.byteLength);\n",
              "  }\n",
              "\n",
              "  // All done.\n",
              "  yield {\n",
              "    response: {\n",
              "      action: 'complete',\n",
              "    }\n",
              "  };\n",
              "}\n",
              "\n",
              "scope.google = scope.google || {};\n",
              "scope.google.colab = scope.google.colab || {};\n",
              "scope.google.colab._files = {\n",
              "  _uploadFiles,\n",
              "  _uploadFilesContinue,\n",
              "};\n",
              "})(self);\n",
              "</script> "
            ]
          },
          "metadata": {}
        },
        {
          "output_type": "stream",
          "name": "stdout",
          "text": [
            "Saving kaggle.json to kaggle (1).json\n",
            "Warning: Your Kaggle API key is readable by other users on this system! To fix this, you can run 'chmod 600 /content/kaggle.json'\n",
            "Dataset URL: https://www.kaggle.com/datasets/rishidamarla/costs-for-cancer-treatment\n",
            "License(s): CC0-1.0\n",
            "costs-for-cancer-treatment.zip: Skipping, found more recently modified local copy (use --force to force download)\n",
            "Archive:  costs-for-cancer-treatment.zip\n",
            "replace DowloadableDataFull_2011.01.12.csv? [y]es, [n]o, [A]ll, [N]one, [r]ename: A\n",
            "  inflating: DowloadableDataFull_2011.01.12.csv  \n"
          ]
        }
      ]
    },
    {
      "cell_type": "markdown",
      "source": [
        "# Memuat dataset dan eksplorasi awal"
      ],
      "metadata": {
        "id": "kX4MEKLgRmrU"
      }
    },
    {
      "cell_type": "markdown",
      "source": [
        "###Muat dataset"
      ],
      "metadata": {
        "id": "BpGqA1Ncr9pR"
      }
    },
    {
      "cell_type": "code",
      "source": [
        "url = 'DowloadableDataFull_2011.01.12.csv'\n",
        "data = pd.read_csv(url, skiprows=2)\n",
        "data.columns = data.iloc[0]\n",
        "data = data[1:]\n",
        "\n"
      ],
      "metadata": {
        "id": "iQoMeOsnRk1E"
      },
      "execution_count": 70,
      "outputs": []
    },
    {
      "cell_type": "markdown",
      "source": [],
      "metadata": {
        "id": "Q0yzjCc-xsAm"
      }
    },
    {
      "cell_type": "markdown",
      "source": [
        "###Ubah kolom menjadi numerik"
      ],
      "metadata": {
        "id": "BVB_GQK0sAYb"
      }
    },
    {
      "cell_type": "code",
      "source": [
        "data['Year'] = pd.to_numeric(data['Year'], errors='coerce')\n",
        "data['Total Costs'] = pd.to_numeric(data['Total Costs'], errors='coerce')\n"
      ],
      "metadata": {
        "id": "CYi4fZBUsJHh"
      },
      "execution_count": 71,
      "outputs": []
    },
    {
      "cell_type": "markdown",
      "source": [
        "Tampilkan 5 baris pertama untuk inspeksi awal"
      ],
      "metadata": {
        "id": "0qTIhA0vsK_v"
      }
    },
    {
      "cell_type": "code",
      "source": [
        "print(data.head())"
      ],
      "metadata": {
        "colab": {
          "base_uri": "https://localhost:8080/"
        },
        "id": "IYZI39mdsLfw",
        "outputId": "4cbbd386-c3f7-461b-c0e9-8064618a2215"
      },
      "execution_count": 72,
      "outputs": [
        {
          "output_type": "stream",
          "name": "stdout",
          "text": [
            "0 Cancer Site  Year         Sex       Age  \\\n",
            "1    AllSites  2010  Both sexes  All ages   \n",
            "2    AllSites  2010  Both sexes  All ages   \n",
            "3    AllSites  2010  Both sexes  All ages   \n",
            "4    AllSites  2010  Both sexes  All ages   \n",
            "5    AllSites  2010  Both sexes  All ages   \n",
            "\n",
            "0                 Incidence and Survival Assumptions  \\\n",
            "1               Incidence, Survival at constant rate   \n",
            "2  Incidence follows recent trend, Survival constant   \n",
            "3  Survival follows recent trend, Incidence constant   \n",
            "4           Incidence, Survival follow recent trends   \n",
            "5           Incidence, Survival follow recent trends   \n",
            "\n",
            "0 Annual Cost Increase (applied to initial and last phases)  Total Costs  \\\n",
            "1                                                 0%            124565.6   \n",
            "2                                                 0%            122420.8   \n",
            "3                                                 0%            125397.7   \n",
            "4                                                 0%            123236.3   \n",
            "5                                                 2%            123236.3   \n",
            "\n",
            "0 Initial Year After Diagnosis Cost Continuing Phase Cost  \\\n",
            "1                           40463.5               46642.8   \n",
            "2                           38552.7               46671.9   \n",
            "3                           40463.5               47136.3   \n",
            "4                           38552.7               47155.7   \n",
            "5                           38552.7               47155.7   \n",
            "\n",
            "0 Last Year of Life Cost  \n",
            "1                37459.2  \n",
            "2                37196.3  \n",
            "3                37797.9  \n",
            "4                37527.8  \n",
            "5                37527.8  \n"
          ]
        }
      ]
    },
    {
      "cell_type": "markdown",
      "source": [
        "## Deskripsi Variabel"
      ],
      "metadata": {
        "id": "GUVrOy2HRt13"
      }
    },
    {
      "cell_type": "markdown",
      "source": [
        "### Tampilkan nama kolom dan tipe data"
      ],
      "metadata": {
        "id": "NUInNdDvsVEo"
      }
    },
    {
      "cell_type": "code",
      "source": [
        "print(\"Tipe Data dan Nilai Null:\\n\", data.info())\n",
        "print(\"Statistik Ringkas:\\n\", data.describe())"
      ],
      "metadata": {
        "colab": {
          "base_uri": "https://localhost:8080/"
        },
        "id": "jhyI9mzTRvq0",
        "outputId": "741ada07-d560-480f-b15e-f6463a11db17"
      },
      "execution_count": 73,
      "outputs": [
        {
          "output_type": "stream",
          "name": "stdout",
          "text": [
            "<class 'pandas.core.frame.DataFrame'>\n",
            "RangeIndex: 1254 entries, 1 to 1254\n",
            "Data columns (total 10 columns):\n",
            " #   Column                                                     Non-Null Count  Dtype  \n",
            "---  ------                                                     --------------  -----  \n",
            " 0   Cancer Site                                                1254 non-null   object \n",
            " 1   Year                                                       1254 non-null   int64  \n",
            " 2   Sex                                                        1254 non-null   object \n",
            " 3   Age                                                        1254 non-null   object \n",
            " 4   Incidence and Survival Assumptions                         1254 non-null   object \n",
            " 5   Annual Cost Increase (applied to initial and last phases)  1254 non-null   object \n",
            " 6   Total Costs                                                1254 non-null   float64\n",
            " 7   Initial Year After Diagnosis Cost                          1254 non-null   object \n",
            " 8   Continuing Phase Cost                                      1254 non-null   object \n",
            " 9   Last Year of Life Cost                                     1254 non-null   object \n",
            "dtypes: float64(1), int64(1), object(8)\n",
            "memory usage: 98.1+ KB\n",
            "Tipe Data dan Nilai Null:\n",
            " None\n",
            "Statistik Ringkas:\n",
            " 0             Year    Total Costs\n",
            "count  1254.000000    1254.000000\n",
            "mean   2015.000000   15221.008852\n",
            "std       3.163539   31489.503603\n",
            "min    2010.000000    1204.600000\n",
            "25%    2012.000000    2866.625000\n",
            "50%    2015.000000    5107.350000\n",
            "75%    2018.000000   14178.925000\n",
            "max    2020.000000  206587.100000\n"
          ]
        }
      ]
    },
    {
      "cell_type": "markdown",
      "source": [
        "###Plot diagram batang untuk 'Cancer Site'"
      ],
      "metadata": {
        "id": "r1jJ3d1usaIL"
      }
    },
    {
      "cell_type": "code",
      "source": [
        "plt.figure(figsize=(12, 6))\n",
        "sns.countplot(x='Cancer Site', data=data)\n",
        "\n",
        "plt.title('Distribusi Kasus Berdasarkan Cancer Site')\n",
        "plt.xlabel('Cancer Site')\n",
        "plt.ylabel('Jumlah Kasus')\n",
        "\n",
        "plt.xticks(rotation=45)\n",
        "\n",
        "plt.show()"
      ],
      "metadata": {
        "colab": {
          "base_uri": "https://localhost:8080/",
          "height": 472
        },
        "id": "aXgBIRAE-9no",
        "outputId": "fdcc2347-3d55-4792-9d33-0f9fa215b65a"
      },
      "execution_count": 74,
      "outputs": [
        {
          "output_type": "display_data",
          "data": {
            "text/plain": [
              "<Figure size 1200x600 with 1 Axes>"
            ],
            "image/png": "[encoded data removed]"
          },
          "metadata": {}
        }
      ]
    },
    {
      "cell_type": "markdown",
      "source": [
        "###Diagram Batang untuk Total Costs berdasarkan Cancer Site"
      ],
      "metadata": {
        "id": "c4tXNPSYBHS1"
      }
    },
    {
      "cell_type": "code",
      "source": [
        "plt.figure(figsize=(12, 6))\n",
        "sns.barplot(x='Cancer Site', y='Total Costs', data=data, estimator='mean')\n",
        "\n",
        "plt.title('Rata-rata Total Costs Berdasarkan Cancer Site')\n",
        "plt.xlabel('Cancer Site')\n",
        "plt.ylabel('Rata-rata Total Costs')\n",
        "\n",
        "plt.xticks(rotation=45)\n",
        "\n",
        "plt.show()"
      ],
      "metadata": {
        "colab": {
          "base_uri": "https://localhost:8080/",
          "height": 456
        },
        "id": "p34PsgmmBJIF",
        "outputId": "056f1825-77ff-4026-d0d0-060cbd112b39"
      },
      "execution_count": 75,
      "outputs": [
        {
          "output_type": "display_data",
          "data": {
            "text/plain": [
              "<Figure size 1200x600 with 1 Axes>"
            ],
            "image/png": "[encoded data removed]"
          },
          "metadata": {}
        }
      ]
    },
    {
      "cell_type": "markdown",
      "source": [
        "###diagram batang untuk Total Costs berdasarkan Cancer Site dan Sex"
      ],
      "metadata": {
        "id": "SiTNSUZaBZR9"
      }
    },
    {
      "cell_type": "code",
      "source": [
        "plt.figure(figsize=(12, 6))\n",
        "sns.barplot(x='Cancer Site', y='Total Costs', hue='Sex', data=data)\n",
        "\n",
        "plt.title('Rata-rata Total Costs Berdasarkan Cancer Site dan Sex')\n",
        "plt.xlabel('Cancer Site')\n",
        "plt.ylabel('Rata-rata Total Costs')\n",
        "\n",
        "plt.xticks(rotation=45)\n",
        "\n",
        "plt.show()"
      ],
      "metadata": {
        "colab": {
          "base_uri": "https://localhost:8080/",
          "height": 456
        },
        "id": "AgCoebdCBbrx",
        "outputId": "c459d5ad-3258-4bfe-f719-ccaf8a2ec093"
      },
      "execution_count": 76,
      "outputs": [
        {
          "output_type": "display_data",
          "data": {
            "text/plain": [
              "<Figure size 1200x600 with 1 Axes>"
            ],
            "image/png": "[encoded data removed]"
          },
          "metadata": {}
        }
      ]
    },
    {
      "cell_type": "markdown",
      "source": [
        "# Persiapan Data"
      ],
      "metadata": {
        "id": "jNGcBU_eSCuN"
      }
    },
    {
      "cell_type": "markdown",
      "source": [
        "###Menghapus simbol '%' pada kolom 'Annual Cost Increase' dan mengonversinya menjadi float"
      ],
      "metadata": {
        "id": "_2MFjJEMuGBl"
      }
    },
    {
      "cell_type": "code",
      "source": [
        "data['Annual Cost Increase (applied to initial and last phases)'] = (\n",
        "    data['Annual Cost Increase (applied to initial and last phases)']\n",
        "    .replace('%', '', regex=True)\n",
        "    .astype(float) / 100\n",
        ")"
      ],
      "metadata": {
        "id": "vrhwvmwCSCOl"
      },
      "execution_count": 77,
      "outputs": []
    },
    {
      "cell_type": "markdown",
      "source": [
        "###One-Hot Encoding untuk kolom kategorikal"
      ],
      "metadata": {
        "id": "_ISzkeSjuJJP"
      }
    },
    {
      "cell_type": "code",
      "source": [
        "data_encoded = pd.get_dummies(data, columns=['Cancer Site', 'Sex', 'Age', 'Incidence and Survival Assumptions'], drop_first=True)\n"
      ],
      "metadata": {
        "id": "tdFLnymhTv7_"
      },
      "execution_count": 78,
      "outputs": []
    },
    {
      "cell_type": "markdown",
      "source": [
        "###Tampilkan 5 baris pertama untuk inspeksi awal"
      ],
      "metadata": {
        "id": "wtuO_tNUuL9f"
      }
    },
    {
      "cell_type": "code",
      "source": [
        "print(data.head())"
      ],
      "metadata": {
        "colab": {
          "base_uri": "https://localhost:8080/"
        },
        "id": "30VvNCA4Tyn-",
        "outputId": "2391566a-df76-4f0f-cd34-3490400b0ed3"
      },
      "execution_count": 79,
      "outputs": [
        {
          "output_type": "stream",
          "name": "stdout",
          "text": [
            "0 Cancer Site  Year         Sex       Age  \\\n",
            "1    AllSites  2010  Both sexes  All ages   \n",
            "2    AllSites  2010  Both sexes  All ages   \n",
            "3    AllSites  2010  Both sexes  All ages   \n",
            "4    AllSites  2010  Both sexes  All ages   \n",
            "5    AllSites  2010  Both sexes  All ages   \n",
            "\n",
            "0                 Incidence and Survival Assumptions  \\\n",
            "1               Incidence, Survival at constant rate   \n",
            "2  Incidence follows recent trend, Survival constant   \n",
            "3  Survival follows recent trend, Incidence constant   \n",
            "4           Incidence, Survival follow recent trends   \n",
            "5           Incidence, Survival follow recent trends   \n",
            "\n",
            "0  Annual Cost Increase (applied to initial and last phases)  Total Costs  \\\n",
            "1                                               0.00             124565.6   \n",
            "2                                               0.00             122420.8   \n",
            "3                                               0.00             125397.7   \n",
            "4                                               0.00             123236.3   \n",
            "5                                               0.02             123236.3   \n",
            "\n",
            "0 Initial Year After Diagnosis Cost Continuing Phase Cost  \\\n",
            "1                           40463.5               46642.8   \n",
            "2                           38552.7               46671.9   \n",
            "3                           40463.5               47136.3   \n",
            "4                           38552.7               47155.7   \n",
            "5                           38552.7               47155.7   \n",
            "\n",
            "0 Last Year of Life Cost  \n",
            "1                37459.2  \n",
            "2                37196.3  \n",
            "3                37797.9  \n",
            "4                37527.8  \n",
            "5                37527.8  \n"
          ]
        }
      ]
    },
    {
      "cell_type": "markdown",
      "source": [
        "###Tentukan fitur dan target"
      ],
      "metadata": {
        "id": "cBCQJU8buPZm"
      }
    },
    {
      "cell_type": "code",
      "source": [
        "fitur = data_encoded.drop(columns=['Total Costs'])  # Gantilah dengan nama kolom target jika berbeda\n",
        "target = data_encoded['Total Costs']"
      ],
      "metadata": {
        "id": "h8aZC6UgT0yj"
      },
      "execution_count": 80,
      "outputs": []
    },
    {
      "cell_type": "markdown",
      "source": [
        "###Pisahkan data menjadi set pelatihan dan pengujian"
      ],
      "metadata": {
        "id": "TwCZNk0cuSK3"
      }
    },
    {
      "cell_type": "code",
      "source": [
        "X_train, X_test, y_train, y_test = train_test_split(fitur, target, test_size=0.2, random_state=42)"
      ],
      "metadata": {
        "id": "DVprhljDT3ss"
      },
      "execution_count": 81,
      "outputs": []
    },
    {
      "cell_type": "markdown",
      "source": [
        "###Cek ukuran sampel"
      ],
      "metadata": {
        "id": "SmDm95r8uUh0"
      }
    },
    {
      "cell_type": "code",
      "source": [
        "print(\"Jumlah sampel pelatihan:\", len(X_train))\n",
        "print(\"Jumlah sampel pengujian:\", len(X_test))"
      ],
      "metadata": {
        "colab": {
          "base_uri": "https://localhost:8080/"
        },
        "id": "u_unoOmpT5jr",
        "outputId": "a9fcf13d-40f6-4738-c6dc-6ad77816a322"
      },
      "execution_count": 82,
      "outputs": [
        {
          "output_type": "stream",
          "name": "stdout",
          "text": [
            "Jumlah sampel pelatihan: 1003\n",
            "Jumlah sampel pengujian: 251\n"
          ]
        }
      ]
    },
    {
      "cell_type": "markdown",
      "source": [
        "###Standarisasi fitur"
      ],
      "metadata": {
        "id": "OLQGtv8FuXtO"
      }
    },
    {
      "cell_type": "code",
      "source": [
        "scaler = StandardScaler()\n",
        "X_train = scaler.fit_transform(X_train)\n",
        "X_test = scaler.transform(X_test)\n",
        "\n",
        "print(\"Rata-rata X_train:\", X_train.mean(axis=0))\n",
        "print(\"Deviasi standar X_train:\", X_train.std(axis=0))"
      ],
      "metadata": {
        "colab": {
          "base_uri": "https://localhost:8080/"
        },
        "id": "hw7ijU6XT7vY",
        "outputId": "2470f79b-3c8f-42c1-be8f-0b3a5eabcc75"
      },
      "execution_count": 83,
      "outputs": [
        {
          "output_type": "stream",
          "name": "stdout",
          "text": [
            "Rata-rata X_train: [-1.30472790e-14  1.23973060e-17  0.00000000e+00 -6.46430954e-17\n",
            "  4.11767662e-17 -3.36498305e-17 -7.43838357e-17  5.75589205e-17\n",
            "  7.08417483e-18 -2.47946119e-17 -7.08417483e-18 -6.02154861e-17\n",
            "  6.02154861e-17 -1.77104371e-17  2.83366993e-17  1.06262622e-17\n",
            "  3.09932649e-17 -8.50100980e-17  2.47946119e-17 -5.49023550e-17\n",
            " -2.74511775e-17 -8.14680106e-17  6.72996609e-17 -6.37575735e-17\n",
            " -2.74511775e-17  1.45225584e-16 -5.66733987e-17 -2.65656556e-17]\n",
            "Deviasi standar X_train: [1. 1. 1. 1. 1. 1. 1. 1. 1. 1. 1. 1. 1. 1. 1. 1. 1. 1. 1. 1. 1. 1. 1. 1.\n",
            " 1. 1. 1. 1.]\n"
          ]
        }
      ]
    },
    {
      "cell_type": "markdown",
      "source": [
        "# Pengembangan Model"
      ],
      "metadata": {
        "id": "AbBX8XTWUCCi"
      }
    },
    {
      "cell_type": "markdown",
      "source": [
        "###DataFrame untuk perbandingan model"
      ],
      "metadata": {
        "id": "2xcxZ9sfufCk"
      }
    },
    {
      "cell_type": "code",
      "source": [
        "hasil_model = pd.DataFrame(columns=['Model', 'MSE', 'RMSE', 'R2'])"
      ],
      "metadata": {
        "id": "Yvzyleh6UBDc"
      },
      "execution_count": 85,
      "outputs": []
    },
    {
      "cell_type": "markdown",
      "source": [
        "##Random Forest Regressor"
      ],
      "metadata": {
        "id": "ytxF1HM5ujAO"
      }
    },
    {
      "cell_type": "markdown",
      "source": [
        "###Tahap pertama dengan parameter default"
      ],
      "metadata": {
        "id": "eGg_hf2tutft"
      }
    },
    {
      "cell_type": "code",
      "source": [
        "rf_model = RandomForestRegressor(random_state=42)\n",
        "rf_model.fit(X_train, y_train)\n",
        "y_pred_rf = rf_model.predict(X_test)\n",
        "mse_rf = mean_squared_error(y_test, y_pred_rf)\n",
        "rmse_rf = np.sqrt(mse_rf)\n",
        "r2_rf = r2_score(y_test, y_pred_rf)"
      ],
      "metadata": {
        "id": "sJb2-LwY4OBC"
      },
      "execution_count": 87,
      "outputs": []
    },
    {
      "cell_type": "markdown",
      "source": [
        "### Tambahkan hasil Random Forest dengan parameter default ke dalam hasil_model"
      ],
      "metadata": {
        "id": "1mKS54H5uwm-"
      }
    },
    {
      "cell_type": "code",
      "source": [
        "hasil_model = pd.concat([hasil_model, pd.DataFrame({'Model': ['Random Forest (default)'], 'MSE': [mse_rf], 'RMSE': [rmse_rf], 'R2': [r2_rf]})], ignore_index=True)\n"
      ],
      "metadata": {
        "colab": {
          "base_uri": "https://localhost:8080/"
        },
        "id": "J0iUqZXh4Q4A",
        "outputId": "68667ce1-0236-4888-aa1b-111831c34df4"
      },
      "execution_count": 88,
      "outputs": [
        {
          "output_type": "stream",
          "name": "stderr",
          "text": [
            "<ipython-input-88-c34ba99a4ef1>:1: FutureWarning: The behavior of DataFrame concatenation with empty or all-NA entries is deprecated. In a future version, this will no longer exclude empty or all-NA columns when determining the result dtypes. To retain the old behavior, exclude the relevant entries before the concat operation.\n",
            "  hasil_model = pd.concat([hasil_model, pd.DataFrame({'Model': ['Random Forest (default)'], 'MSE': [mse_rf], 'RMSE': [rmse_rf], 'R2': [r2_rf]})], ignore_index=True)\n"
          ]
        }
      ]
    },
    {
      "cell_type": "markdown",
      "source": [
        "###Hyperparameter Tuning yang lebih cepat untuk Random Forest"
      ],
      "metadata": {
        "id": "ELk0tsAguzm9"
      }
    },
    {
      "cell_type": "code",
      "source": [
        "param_grid_quick = {\n",
        "    'n_estimators': [100, 150],  # Mengurangi jumlah opsi untuk n_estimators\n",
        "    'max_depth': [10, 20, None],  # Membatasi kedalaman pohon\n",
        "    'min_samples_split': [2, 5],  # Mengurangi jumlah opsi untuk pembagian\n",
        "    'min_samples_leaf': [1, 2]    # Mengurangi jumlah opsi untuk jumlah sampel minimum di daun\n",
        "}\n",
        "grid_search_rf_quick = GridSearchCV(\n",
        "    estimator=RandomForestRegressor(random_state=42),\n",
        "    param_grid=param_grid_quick,\n",
        "    cv=2,  # Mengurangi jumlah lipatan untuk mempercepat\n",
        "    scoring='neg_mean_squared_error',\n",
        "    verbose=1,  # Mengurangi level verbosity\n",
        "    n_jobs=-1\n",
        ")\n",
        "grid_search_rf_quick.fit(X_train, y_train)"
      ],
      "metadata": {
        "colab": {
          "base_uri": "https://localhost:8080/",
          "height": 153
        },
        "id": "KNSlXUjU4YMS",
        "outputId": "c1923211-d087-4f1b-88cc-7b9805e4e569"
      },
      "execution_count": 89,
      "outputs": [
        {
          "output_type": "stream",
          "name": "stdout",
          "text": [
            "Fitting 2 folds for each of 24 candidates, totalling 48 fits\n"
          ]
        },
        {
          "output_type": "execute_result",
          "data": {
            "text/plain": [
              "GridSearchCV(cv=2, estimator=RandomForestRegressor(random_state=42), n_jobs=-1,\n",
              "             param_grid={'max_depth': [10, 20, None],\n",
              "                         'min_samples_leaf': [1, 2],\n",
              "                         'min_samples_split': [2, 5],\n",
              "                         'n_estimators': [100, 150]},\n",
              "             scoring='neg_mean_squared_error', verbose=1)"
            ],
            "text/html": [
              "<style>#sk-container-id-2 {\n",
              "  /* Definition of color scheme common for light and dark mode */\n",
              "  --sklearn-color-text: black;\n",
              "  --sklearn-color-line: gray;\n",
              "  /* Definition of color scheme for unfitted estimators */\n",
              "  --sklearn-color-unfitted-level-0: #fff5e6;\n",
              "  --sklearn-color-unfitted-level-1: #f6e4d2;\n",
              "  --sklearn-color-unfitted-level-2: #ffe0b3;\n",
              "  --sklearn-color-unfitted-level-3: chocolate;\n",
              "  /* Definition of color scheme for fitted estimators */\n",
              "  --sklearn-color-fitted-level-0: #f0f8ff;\n",
              "  --sklearn-color-fitted-level-1: #d4ebff;\n",
              "  --sklearn-color-fitted-level-2: #b3dbfd;\n",
              "  --sklearn-color-fitted-level-3: cornflowerblue;\n",
              "\n",
              "  /* Specific color for light theme */\n",
              "  --sklearn-color-text-on-default-background: var(--sg-text-color, var(--theme-code-foreground, var(--jp-content-font-color1, black)));\n",
              "  --sklearn-color-background: var(--sg-background-color, var(--theme-background, var(--jp-layout-color0, white)));\n",
              "  --sklearn-color-border-box: var(--sg-text-color, var(--theme-code-foreground, var(--jp-content-font-color1, black)));\n",
              "  --sklearn-color-icon: #696969;\n",
              "\n",
              "  @media (prefers-color-scheme: dark) {\n",
              "    /* Redefinition of color scheme for dark theme */\n",
              "    --sklearn-color-text-on-default-background: var(--sg-text-color, var(--theme-code-foreground, var(--jp-content-font-color1, white)));\n",
              "    --sklearn-color-background: var(--sg-background-color, var(--theme-background, var(--jp-layout-color0, #111)));\n",
              "    --sklearn-color-border-box: var(--sg-text-color, var(--theme-code-foreground, var(--jp-content-font-color1, white)));\n",
              "    --sklearn-color-icon: #878787;\n",
              "  }\n",
              "}\n",
              "\n",
              "#sk-container-id-2 {\n",
              "  color: var(--sklearn-color-text);\n",
              "}\n",
              "\n",
              "#sk-container-id-2 pre {\n",
              "  padding: 0;\n",
              "}\n",
              "\n",
              "#sk-container-id-2 input.sk-hidden--visually {\n",
              "  border: 0;\n",
              "  clip: rect(1px 1px 1px 1px);\n",
              "  clip: rect(1px, 1px, 1px, 1px);\n",
              "  height: 1px;\n",
              "  margin: -1px;\n",
              "  overflow: hidden;\n",
              "  padding: 0;\n",
              "  position: absolute;\n",
              "  width: 1px;\n",
              "}\n",
              "\n",
              "#sk-container-id-2 div.sk-dashed-wrapped {\n",
              "  border: 1px dashed var(--sklearn-color-line);\n",
              "  margin: 0 0.4em 0.5em 0.4em;\n",
              "  box-sizing: border-box;\n",
              "  padding-bottom: 0.4em;\n",
              "  background-color: var(--sklearn-color-background);\n",
              "}\n",
              "\n",
              "#sk-container-id-2 div.sk-container {\n",
              "  /* jupyter's `normalize.less` sets `[hidden] { display: none; }`\n",
              "     but bootstrap.min.css set `[hidden] { display: none !important; }`\n",
              "     so we also need the `!important` here to be able to override the\n",
              "     default hidden behavior on the sphinx rendered scikit-learn.org.\n",
              "     See: https://github.com/scikit-learn/scikit-learn/issues/21755 */\n",
              "  display: inline-block !important;\n",
              "  position: relative;\n",
              "}\n",
              "\n",
              "#sk-container-id-2 div.sk-text-repr-fallback {\n",
              "  display: none;\n",
              "}\n",
              "\n",
              "div.sk-parallel-item,\n",
              "div.sk-serial,\n",
              "div.sk-item {\n",
              "  /* draw centered vertical line to link estimators */\n",
              "  background-image: linear-gradient(var(--sklearn-color-text-on-default-background), var(--sklearn-color-text-on-default-background));\n",
              "  background-size: 2px 100%;\n",
              "  background-repeat: no-repeat;\n",
              "  background-position: center center;\n",
              "}\n",
              "\n",
              "/* Parallel-specific style estimator block */\n",
              "\n",
              "#sk-container-id-2 div.sk-parallel-item::after {\n",
              "  content: \"\";\n",
              "  width: 100%;\n",
              "  border-bottom: 2px solid var(--sklearn-color-text-on-default-background);\n",
              "  flex-grow: 1;\n",
              "}\n",
              "\n",
              "#sk-container-id-2 div.sk-parallel {\n",
              "  display: flex;\n",
              "  align-items: stretch;\n",
              "  justify-content: center;\n",
              "  background-color: var(--sklearn-color-background);\n",
              "  position: relative;\n",
              "}\n",
              "\n",
              "#sk-container-id-2 div.sk-parallel-item {\n",
              "  display: flex;\n",
              "  flex-direction: column;\n",
              "}\n",
              "\n",
              "#sk-container-id-2 div.sk-parallel-item:first-child::after {\n",
              "  align-self: flex-end;\n",
              "  width: 50%;\n",
              "}\n",
              "\n",
              "#sk-container-id-2 div.sk-parallel-item:last-child::after {\n",
              "  align-self: flex-start;\n",
              "  width: 50%;\n",
              "}\n",
              "\n",
              "#sk-container-id-2 div.sk-parallel-item:only-child::after {\n",
              "  width: 0;\n",
              "}\n",
              "\n",
              "/* Serial-specific style estimator block */\n",
              "\n",
              "#sk-container-id-2 div.sk-serial {\n",
              "  display: flex;\n",
              "  flex-direction: column;\n",
              "  align-items: center;\n",
              "  background-color: var(--sklearn-color-background);\n",
              "  padding-right: 1em;\n",
              "  padding-left: 1em;\n",
              "}\n",
              "\n",
              "\n",
              "/* Toggleable style: style used for estimator/Pipeline/ColumnTransformer box that is\n",
              "clickable and can be expanded/collapsed.\n",
              "- Pipeline and ColumnTransformer use this feature and define the default style\n",
              "- Estimators will overwrite some part of the style using the `sk-estimator` class\n",
              "*/\n",
              "\n",
              "/* Pipeline and ColumnTransformer style (default) */\n",
              "\n",
              "#sk-container-id-2 div.sk-toggleable {\n",
              "  /* Default theme specific background. It is overwritten whether we have a\n",
              "  specific estimator or a Pipeline/ColumnTransformer */\n",
              "  background-color: var(--sklearn-color-background);\n",
              "}\n",
              "\n",
              "/* Toggleable label */\n",
              "#sk-container-id-2 label.sk-toggleable__label {\n",
              "  cursor: pointer;\n",
              "  display: block;\n",
              "  width: 100%;\n",
              "  margin-bottom: 0;\n",
              "  padding: 0.5em;\n",
              "  box-sizing: border-box;\n",
              "  text-align: center;\n",
              "}\n",
              "\n",
              "#sk-container-id-2 label.sk-toggleable__label-arrow:before {\n",
              "  /* Arrow on the left of the label */\n",
              "  content: \"▸\";\n",
              "  float: left;\n",
              "  margin-right: 0.25em;\n",
              "  color: var(--sklearn-color-icon);\n",
              "}\n",
              "\n",
              "#sk-container-id-2 label.sk-toggleable__label-arrow:hover:before {\n",
              "  color: var(--sklearn-color-text);\n",
              "}\n",
              "\n",
              "/* Toggleable content - dropdown */\n",
              "\n",
              "#sk-container-id-2 div.sk-toggleable__content {\n",
              "  max-height: 0;\n",
              "  max-width: 0;\n",
              "  overflow: hidden;\n",
              "  text-align: left;\n",
              "  /* unfitted */\n",
              "  background-color: var(--sklearn-color-unfitted-level-0);\n",
              "}\n",
              "\n",
              "#sk-container-id-2 div.sk-toggleable__content.fitted {\n",
              "  /* fitted */\n",
              "  background-color: var(--sklearn-color-fitted-level-0);\n",
              "}\n",
              "\n",
              "#sk-container-id-2 div.sk-toggleable__content pre {\n",
              "  margin: 0.2em;\n",
              "  border-radius: 0.25em;\n",
              "  color: var(--sklearn-color-text);\n",
              "  /* unfitted */\n",
              "  background-color: var(--sklearn-color-unfitted-level-0);\n",
              "}\n",
              "\n",
              "#sk-container-id-2 div.sk-toggleable__content.fitted pre {\n",
              "  /* unfitted */\n",
              "  background-color: var(--sklearn-color-fitted-level-0);\n",
              "}\n",
              "\n",
              "#sk-container-id-2 input.sk-toggleable__control:checked~div.sk-toggleable__content {\n",
              "  /* Expand drop-down */\n",
              "  max-height: 200px;\n",
              "  max-width: 100%;\n",
              "  overflow: auto;\n",
              "}\n",
              "\n",
              "#sk-container-id-2 input.sk-toggleable__control:checked~label.sk-toggleable__label-arrow:before {\n",
              "  content: \"▾\";\n",
              "}\n",
              "\n",
              "/* Pipeline/ColumnTransformer-specific style */\n",
              "\n",
              "#sk-container-id-2 div.sk-label input.sk-toggleable__control:checked~label.sk-toggleable__label {\n",
              "  color: var(--sklearn-color-text);\n",
              "  background-color: var(--sklearn-color-unfitted-level-2);\n",
              "}\n",
              "\n",
              "#sk-container-id-2 div.sk-label.fitted input.sk-toggleable__control:checked~label.sk-toggleable__label {\n",
              "  background-color: var(--sklearn-color-fitted-level-2);\n",
              "}\n",
              "\n",
              "/* Estimator-specific style */\n",
              "\n",
              "/* Colorize estimator box */\n",
              "#sk-container-id-2 div.sk-estimator input.sk-toggleable__control:checked~label.sk-toggleable__label {\n",
              "  /* unfitted */\n",
              "  background-color: var(--sklearn-color-unfitted-level-2);\n",
              "}\n",
              "\n",
              "#sk-container-id-2 div.sk-estimator.fitted input.sk-toggleable__control:checked~label.sk-toggleable__label {\n",
              "  /* fitted */\n",
              "  background-color: var(--sklearn-color-fitted-level-2);\n",
              "}\n",
              "\n",
              "#sk-container-id-2 div.sk-label label.sk-toggleable__label,\n",
              "#sk-container-id-2 div.sk-label label {\n",
              "  /* The background is the default theme color */\n",
              "  color: var(--sklearn-color-text-on-default-background);\n",
              "}\n",
              "\n",
              "/* On hover, darken the color of the background */\n",
              "#sk-container-id-2 div.sk-label:hover label.sk-toggleable__label {\n",
              "  color: var(--sklearn-color-text);\n",
              "  background-color: var(--sklearn-color-unfitted-level-2);\n",
              "}\n",
              "\n",
              "/* Label box, darken color on hover, fitted */\n",
              "#sk-container-id-2 div.sk-label.fitted:hover label.sk-toggleable__label.fitted {\n",
              "  color: var(--sklearn-color-text);\n",
              "  background-color: var(--sklearn-color-fitted-level-2);\n",
              "}\n",
              "\n",
              "/* Estimator label */\n",
              "\n",
              "#sk-container-id-2 div.sk-label label {\n",
              "  font-family: monospace;\n",
              "  font-weight: bold;\n",
              "  display: inline-block;\n",
              "  line-height: 1.2em;\n",
              "}\n",
              "\n",
              "#sk-container-id-2 div.sk-label-container {\n",
              "  text-align: center;\n",
              "}\n",
              "\n",
              "/* Estimator-specific */\n",
              "#sk-container-id-2 div.sk-estimator {\n",
              "  font-family: monospace;\n",
              "  border: 1px dotted var(--sklearn-color-border-box);\n",
              "  border-radius: 0.25em;\n",
              "  box-sizing: border-box;\n",
              "  margin-bottom: 0.5em;\n",
              "  /* unfitted */\n",
              "  background-color: var(--sklearn-color-unfitted-level-0);\n",
              "}\n",
              "\n",
              "#sk-container-id-2 div.sk-estimator.fitted {\n",
              "  /* fitted */\n",
              "  background-color: var(--sklearn-color-fitted-level-0);\n",
              "}\n",
              "\n",
              "/* on hover */\n",
              "#sk-container-id-2 div.sk-estimator:hover {\n",
              "  /* unfitted */\n",
              "  background-color: var(--sklearn-color-unfitted-level-2);\n",
              "}\n",
              "\n",
              "#sk-container-id-2 div.sk-estimator.fitted:hover {\n",
              "  /* fitted */\n",
              "  background-color: var(--sklearn-color-fitted-level-2);\n",
              "}\n",
              "\n",
              "/* Specification for estimator info (e.g. \"i\" and \"?\") */\n",
              "\n",
              "/* Common style for \"i\" and \"?\" */\n",
              "\n",
              ".sk-estimator-doc-link,\n",
              "a:link.sk-estimator-doc-link,\n",
              "a:visited.sk-estimator-doc-link {\n",
              "  float: right;\n",
              "  font-size: smaller;\n",
              "  line-height: 1em;\n",
              "  font-family: monospace;\n",
              "  background-color: var(--sklearn-color-background);\n",
              "  border-radius: 1em;\n",
              "  height: 1em;\n",
              "  width: 1em;\n",
              "  text-decoration: none !important;\n",
              "  margin-left: 1ex;\n",
              "  /* unfitted */\n",
              "  border: var(--sklearn-color-unfitted-level-1) 1pt solid;\n",
              "  color: var(--sklearn-color-unfitted-level-1);\n",
              "}\n",
              "\n",
              ".sk-estimator-doc-link.fitted,\n",
              "a:link.sk-estimator-doc-link.fitted,\n",
              "a:visited.sk-estimator-doc-link.fitted {\n",
              "  /* fitted */\n",
              "  border: var(--sklearn-color-fitted-level-1) 1pt solid;\n",
              "  color: var(--sklearn-color-fitted-level-1);\n",
              "}\n",
              "\n",
              "/* On hover */\n",
              "div.sk-estimator:hover .sk-estimator-doc-link:hover,\n",
              ".sk-estimator-doc-link:hover,\n",
              "div.sk-label-container:hover .sk-estimator-doc-link:hover,\n",
              ".sk-estimator-doc-link:hover {\n",
              "  /* unfitted */\n",
              "  background-color: var(--sklearn-color-unfitted-level-3);\n",
              "  color: var(--sklearn-color-background);\n",
              "  text-decoration: none;\n",
              "}\n",
              "\n",
              "div.sk-estimator.fitted:hover .sk-estimator-doc-link.fitted:hover,\n",
              ".sk-estimator-doc-link.fitted:hover,\n",
              "div.sk-label-container:hover .sk-estimator-doc-link.fitted:hover,\n",
              ".sk-estimator-doc-link.fitted:hover {\n",
              "  /* fitted */\n",
              "  background-color: var(--sklearn-color-fitted-level-3);\n",
              "  color: var(--sklearn-color-background);\n",
              "  text-decoration: none;\n",
              "}\n",
              "\n",
              "/* Span, style for the box shown on hovering the info icon */\n",
              ".sk-estimator-doc-link span {\n",
              "  display: none;\n",
              "  z-index: 9999;\n",
              "  position: relative;\n",
              "  font-weight: normal;\n",
              "  right: .2ex;\n",
              "  padding: .5ex;\n",
              "  margin: .5ex;\n",
              "  width: min-content;\n",
              "  min-width: 20ex;\n",
              "  max-width: 50ex;\n",
              "  color: var(--sklearn-color-text);\n",
              "  box-shadow: 2pt 2pt 4pt #999;\n",
              "  /* unfitted */\n",
              "  background: var(--sklearn-color-unfitted-level-0);\n",
              "  border: .5pt solid var(--sklearn-color-unfitted-level-3);\n",
              "}\n",
              "\n",
              ".sk-estimator-doc-link.fitted span {\n",
              "  /* fitted */\n",
              "  background: var(--sklearn-color-fitted-level-0);\n",
              "  border: var(--sklearn-color-fitted-level-3);\n",
              "}\n",
              "\n",
              ".sk-estimator-doc-link:hover span {\n",
              "  display: block;\n",
              "}\n",
              "\n",
              "/* \"?\"-specific style due to the `<a>` HTML tag */\n",
              "\n",
              "#sk-container-id-2 a.estimator_doc_link {\n",
              "  float: right;\n",
              "  font-size: 1rem;\n",
              "  line-height: 1em;\n",
              "  font-family: monospace;\n",
              "  background-color: var(--sklearn-color-background);\n",
              "  border-radius: 1rem;\n",
              "  height: 1rem;\n",
              "  width: 1rem;\n",
              "  text-decoration: none;\n",
              "  /* unfitted */\n",
              "  color: var(--sklearn-color-unfitted-level-1);\n",
              "  border: var(--sklearn-color-unfitted-level-1) 1pt solid;\n",
              "}\n",
              "\n",
              "#sk-container-id-2 a.estimator_doc_link.fitted {\n",
              "  /* fitted */\n",
              "  border: var(--sklearn-color-fitted-level-1) 1pt solid;\n",
              "  color: var(--sklearn-color-fitted-level-1);\n",
              "}\n",
              "\n",
              "/* On hover */\n",
              "#sk-container-id-2 a.estimator_doc_link:hover {\n",
              "  /* unfitted */\n",
              "  background-color: var(--sklearn-color-unfitted-level-3);\n",
              "  color: var(--sklearn-color-background);\n",
              "  text-decoration: none;\n",
              "}\n",
              "\n",
              "#sk-container-id-2 a.estimator_doc_link.fitted:hover {\n",
              "  /* fitted */\n",
              "  background-color: var(--sklearn-color-fitted-level-3);\n",
              "}\n",
              "</style><div id=\"sk-container-id-2\" class=\"sk-top-container\"><div class=\"sk-text-repr-fallback\"><pre>GridSearchCV(cv=2, estimator=RandomForestRegressor(random_state=42), n_jobs=-1,\n",
              "             param_grid={&#x27;max_depth&#x27;: [10, 20, None],\n",
              "                         &#x27;min_samples_leaf&#x27;: [1, 2],\n",
              "                         &#x27;min_samples_split&#x27;: [2, 5],\n",
              "                         &#x27;n_estimators&#x27;: [100, 150]},\n",
              "             scoring=&#x27;neg_mean_squared_error&#x27;, verbose=1)</pre><b>In a Jupyter environment, please rerun this cell to show the HTML representation or trust the notebook. <br />On GitHub, the HTML representation is unable to render, please try loading this page with nbviewer.org.</b></div><div class=\"sk-container\" hidden><div class=\"sk-item sk-dashed-wrapped\"><div class=\"sk-label-container\"><div class=\"sk-label fitted sk-toggleable\"><input class=\"sk-toggleable__control sk-hidden--visually\" id=\"sk-estimator-id-4\" type=\"checkbox\" ><label for=\"sk-estimator-id-4\" class=\"sk-toggleable__label fitted sk-toggleable__label-arrow fitted\">&nbsp;&nbsp;GridSearchCV<a class=\"sk-estimator-doc-link fitted\" rel=\"noreferrer\" target=\"_blank\" href=\"https://scikit-learn.org/1.5/modules/generated/sklearn.model_selection.GridSearchCV.html\">?<span>Documentation for GridSearchCV</span></a><span class=\"sk-estimator-doc-link fitted\">i<span>Fitted</span></span></label><div class=\"sk-toggleable__content fitted\"><pre>GridSearchCV(cv=2, estimator=RandomForestRegressor(random_state=42), n_jobs=-1,\n",
              "             param_grid={&#x27;max_depth&#x27;: [10, 20, None],\n",
              "                         &#x27;min_samples_leaf&#x27;: [1, 2],\n",
              "                         &#x27;min_samples_split&#x27;: [2, 5],\n",
              "                         &#x27;n_estimators&#x27;: [100, 150]},\n",
              "             scoring=&#x27;neg_mean_squared_error&#x27;, verbose=1)</pre></div> </div></div><div class=\"sk-parallel\"><div class=\"sk-parallel-item\"><div class=\"sk-item\"><div class=\"sk-label-container\"><div class=\"sk-label fitted sk-toggleable\"><input class=\"sk-toggleable__control sk-hidden--visually\" id=\"sk-estimator-id-5\" type=\"checkbox\" ><label for=\"sk-estimator-id-5\" class=\"sk-toggleable__label fitted sk-toggleable__label-arrow fitted\">best_estimator_: RandomForestRegressor</label><div class=\"sk-toggleable__content fitted\"><pre>RandomForestRegressor(max_depth=20, random_state=42)</pre></div> </div></div><div class=\"sk-serial\"><div class=\"sk-item\"><div class=\"sk-estimator fitted sk-toggleable\"><input class=\"sk-toggleable__control sk-hidden--visually\" id=\"sk-estimator-id-6\" type=\"checkbox\" ><label for=\"sk-estimator-id-6\" class=\"sk-toggleable__label fitted sk-toggleable__label-arrow fitted\">&nbsp;RandomForestRegressor<a class=\"sk-estimator-doc-link fitted\" rel=\"noreferrer\" target=\"_blank\" href=\"https://scikit-learn.org/1.5/modules/generated/sklearn.ensemble.RandomForestRegressor.html\">?<span>Documentation for RandomForestRegressor</span></a></label><div class=\"sk-toggleable__content fitted\"><pre>RandomForestRegressor(max_depth=20, random_state=42)</pre></div> </div></div></div></div></div></div></div></div></div>"
            ]
          },
          "metadata": {},
          "execution_count": 89
        }
      ]
    },
    {
      "cell_type": "markdown",
      "source": [
        "###Model terbaik setelah tuning cepat"
      ],
      "metadata": {
        "id": "tfI6VyV_u4MI"
      }
    },
    {
      "cell_type": "code",
      "source": [
        "best_rf_model_quick = grid_search_rf_quick.best_estimator_\n",
        "y_pred_rf_quick = best_rf_model_quick.predict(X_test)\n",
        "mse_rf_quick = mean_squared_error(y_test, y_pred_rf_quick)\n",
        "rmse_rf_quick = np.sqrt(mse_rf_quick)\n",
        "r2_rf_quick = r2_score(y_test, y_pred_rf_quick)\n",
        "\n",
        "print(\"Hasil Hyperparameter Tuning Cepat untuk Random Forest:\")\n",
        "print(f\"MSE: {mse_rf_quick:.2f}\")\n",
        "print(f\"RMSE: {rmse_rf_quick:.2f}\")\n",
        "print(f\"R²: {r2_rf_quick:.2f}\")"
      ],
      "metadata": {
        "colab": {
          "base_uri": "https://localhost:8080/"
        },
        "id": "KMqKPTXp6BLs",
        "outputId": "e33ceaea-b722-40bc-ca0c-7b9c5dda00ce"
      },
      "execution_count": 90,
      "outputs": [
        {
          "output_type": "stream",
          "name": "stdout",
          "text": [
            "Hasil Hyperparameter Tuning Cepat untuk Random Forest:\n",
            "MSE: 470485.99\n",
            "RMSE: 685.92\n",
            "R²: 1.00\n"
          ]
        }
      ]
    },
    {
      "cell_type": "markdown",
      "source": [
        "## Linear Regression"
      ],
      "metadata": {
        "id": "mh3M0vgAu9Yk"
      }
    },
    {
      "cell_type": "code",
      "source": [
        "lr_model = LinearRegression()\n",
        "lr_model.fit(X_train, y_train)\n",
        "y_pred_lr = lr_model.predict(X_test)\n",
        "mse_lr = mean_squared_error(y_test, y_pred_lr)\n",
        "rmse_lr = np.sqrt(mse_lr)\n",
        "r2_lr = r2_score(y_test, y_pred_lr)"
      ],
      "metadata": {
        "id": "dHsliYXo6IjE"
      },
      "execution_count": 91,
      "outputs": []
    },
    {
      "cell_type": "markdown",
      "source": [
        "###Tambahkan hasil Linear Regression ke dalam hasil_model"
      ],
      "metadata": {
        "id": "NRdOTjygvBpx"
      }
    },
    {
      "cell_type": "code",
      "source": [
        "hasil_model = pd.concat([hasil_model, pd.DataFrame({'Model': ['Linear Regression'], 'MSE': [mse_lr], 'RMSE': [rmse_lr], 'R2': [r2_lr]})], ignore_index=True)\n"
      ],
      "metadata": {
        "id": "Yvmlb4a-vD0k"
      },
      "execution_count": 92,
      "outputs": []
    },
    {
      "cell_type": "markdown",
      "source": [
        "# Evaluasi Model"
      ],
      "metadata": {
        "id": "YtpDCUScUKiF"
      }
    },
    {
      "cell_type": "markdown",
      "source": [
        "###Tampilkan hasil evaluasi model"
      ],
      "metadata": {
        "id": "igqJ6PoWvXN2"
      }
    },
    {
      "cell_type": "code",
      "source": [
        "print(\"\\nHasil Evaluasi Model:\\n\", hasil_model)\n",
        "\n",
        "fig, ax = plt.subplots(figsize=(10, 6))\n",
        "hasil_model.set_index('Model')[['MSE', 'RMSE', 'R2']].plot(kind='bar', ax=ax)\n",
        "plt.title(\"Perbandingan Kinerja Model\")\n",
        "plt.ylabel(\"Metrik\")\n",
        "plt.show()"
      ],
      "metadata": {
        "colab": {
          "base_uri": "https://localhost:8080/",
          "height": 711
        },
        "id": "GsTbgDxEUOBg",
        "outputId": "5453f96b-6382-4911-c4cb-64f2dd5b7560"
      },
      "execution_count": 93,
      "outputs": [
        {
          "output_type": "stream",
          "name": "stdout",
          "text": [
            "\n",
            "Hasil Evaluasi Model:\n",
            "                      Model            MSE        RMSE        R2\n",
            "0  Random Forest (default)  469475.096036  685.182528  0.999227\n",
            "1        Linear Regression       0.003453    0.058760  1.000000\n"
          ]
        },
        {
          "output_type": "display_data",
          "data": {
            "text/plain": [
              "<Figure size 1000x600 with 1 Axes>"
            ],
            "image/png": "[encoded data removed]"
          },
          "metadata": {}
        }
      ]
    },
    {
      "cell_type": "markdown",
      "source": [
        "###Prediksi dan pengujian dengan model Linear Regression"
      ],
      "metadata": {
        "id": "vksudEiyvfzs"
      }
    },
    {
      "cell_type": "code",
      "source": [
        "y_pred_lr_test = lr_model.predict(X_test)\n"
      ],
      "metadata": {
        "id": "narMLlG1UUQi"
      },
      "execution_count": 94,
      "outputs": []
    },
    {
      "cell_type": "markdown",
      "source": [
        "###Menghitung metrik evaluasi untuk Linear Regression pada data uji"
      ],
      "metadata": {
        "id": "7hcU83AXvmic"
      }
    },
    {
      "cell_type": "code",
      "source": [
        "mse_lr_test = mean_squared_error(y_test, y_pred_lr_test)\n",
        "rmse_lr_test = np.sqrt(mse_lr_test)\n",
        "r2_lr_test = r2_score(y_test, y_pred_lr_test)"
      ],
      "metadata": {
        "id": "TutKO2_1vptV"
      },
      "execution_count": 95,
      "outputs": []
    },
    {
      "cell_type": "code",
      "source": [
        "print(\"Model Linear Regression - Evaluasi Set Pengujian\")\n",
        "print(f\"MSE: {mse_lr_test:.2f}\")\n",
        "print(f\"RMSE: {rmse_lr_test:.2f}\")\n",
        "print(f\"R²: {r2_lr_test:.2f}\")\n",
        "print(\"\\n\")"
      ],
      "metadata": {
        "colab": {
          "base_uri": "https://localhost:8080/"
        },
        "id": "dotuohQ2UVdf",
        "outputId": "9141b495-7c06-409f-dc8a-050a165c8033"
      },
      "execution_count": 96,
      "outputs": [
        {
          "output_type": "stream",
          "name": "stdout",
          "text": [
            "Model Linear Regression - Evaluasi Set Pengujian\n",
            "MSE: 0.00\n",
            "RMSE: 0.06\n",
            "R²: 1.00\n",
            "\n",
            "\n"
          ]
        }
      ]
    },
    {
      "cell_type": "markdown",
      "source": [
        "###Prediksi dan pengujian dengan model Random Forest Regressor"
      ],
      "metadata": {
        "id": "tFQkiDpovtgc"
      }
    },
    {
      "cell_type": "code",
      "source": [
        "y_pred_rf_test = rf_model.predict(X_test)"
      ],
      "metadata": {
        "id": "JPxBvGgMvwwu"
      },
      "execution_count": 97,
      "outputs": []
    },
    {
      "cell_type": "markdown",
      "source": [
        "###Menghitung metrik evaluasi untuk Random Forest pada data uji"
      ],
      "metadata": {
        "id": "U40wQJSivzA4"
      }
    },
    {
      "cell_type": "code",
      "source": [
        "mse_rf_test = mean_squared_error(y_test, y_pred_rf_test)\n",
        "rmse_rf_test = np.sqrt(mse_rf_test)\n",
        "r2_rf_test = r2_score(y_test, y_pred_rf_test)"
      ],
      "metadata": {
        "id": "ufukFVeGUdp_"
      },
      "execution_count": 99,
      "outputs": []
    },
    {
      "cell_type": "code",
      "source": [
        "print(\"Model Random Forest - Evaluasi Set Pengujian\")\n",
        "print(f\"MSE: {mse_rf_test:.2f}\")\n",
        "print(f\"RMSE: {rmse_rf_test:.2f}\")\n",
        "print(f\"R²: {r2_rf_test:.2f}\")"
      ],
      "metadata": {
        "colab": {
          "base_uri": "https://localhost:8080/"
        },
        "id": "-CrBJKnLUfSe",
        "outputId": "eab6607a-dc37-42e1-df9c-82b34cde6d4f"
      },
      "execution_count": 100,
      "outputs": [
        {
          "output_type": "stream",
          "name": "stdout",
          "text": [
            "Model Random Forest - Evaluasi Set Pengujian\n",
            "MSE: 469475.10\n",
            "RMSE: 685.18\n",
            "R²: 1.00\n"
          ]
        }
      ]
    },
    {
      "cell_type": "markdown",
      "source": [
        "# Inferensi"
      ],
      "metadata": {
        "id": "9RrLQ6cZUiqB"
      }
    },
    {
      "cell_type": "markdown",
      "source": [
        "###Membuat data prediksi sesuai dengan kolom fitur yang ada pada data pelatihan"
      ],
      "metadata": {
        "id": "8RI5lwHav2lU"
      }
    },
    {
      "cell_type": "code",
      "source": [
        "data_prediksi = pd.DataFrame({\n",
        "    'Year': [2024],  # Tahun saat prediksi\n",
        "    'Annual Cost Increase (applied to initial and last phases)': [0.02],  # Angka kenaikan biaya tahunan\n",
        "    'Initial Year After Diagnosis Cost': [10000],  # Biaya untuk tahun pertama setelah diagnosis\n",
        "    'Continuing Phase Cost': [5000],  # Biaya untuk fase lanjutan\n",
        "    'Last Year of Life Cost': [20000],  # Biaya pada tahun terakhir hidup\n",
        "    'Cancer Site_Bladder': [0],\n",
        "    'Cancer Site_Brain': [0],\n",
        "    'Cancer Site_Breast': [0],\n",
        "    'Cancer Site_Cervix': [1],  # Kanker serviks\n",
        "    'Cancer Site_Colorectal': [0],\n",
        "    'Cancer Site_Esophagus': [0],\n",
        "    'Cancer Site_Head_Neck': [0],\n",
        "    'Cancer Site_Kidney': [0],\n",
        "    'Cancer Site_Leukemia': [0],\n",
        "    'Cancer Site_Lung': [0],\n",
        "    'Cancer Site_Lymphoma': [0],\n",
        "    'Cancer Site_Melanoma': [0],\n",
        "    'Cancer Site_Other': [0],\n",
        "    'Cancer Site_Ovary': [0],\n",
        "    'Cancer Site_Pancreas': [0],\n",
        "    'Cancer Site_Prostate': [0],\n",
        "    'Cancer Site_Stomach': [0],\n",
        "    'Cancer Site_Uterus': [0],\n",
        "    'Sex_Females': [1],  # Pasien perempuan\n",
        "    'Sex_Males': [0],\n",
        "    'Incidence and Survival Assumptions_Incidence, Survival at constant rate': [0],\n",
        "    'Incidence and Survival Assumptions_Incidence, Survival follow recent trends': [0],\n",
        "    'Incidence and Survival Assumptions_Survival follows recent trend, Incidence constant': [1],\n",
        "})\n"
      ],
      "metadata": {
        "id": "RLaO5EN2VJrx"
      },
      "execution_count": 101,
      "outputs": []
    },
    {
      "cell_type": "markdown",
      "source": [
        "###Standarisasi data prediksi menggunakan scaler yang sudah dilatih"
      ],
      "metadata": {
        "id": "Y_3UtuN8wI_U"
      }
    },
    {
      "cell_type": "code",
      "source": [
        "data_prediksi_scaled = scaler.transform(data_prediksi)"
      ],
      "metadata": {
        "id": "ZI9Zkn7DwPmD"
      },
      "execution_count": 102,
      "outputs": []
    },
    {
      "cell_type": "markdown",
      "source": [
        "###Menggunakan model Random Forest terbaik untuk prediksi"
      ],
      "metadata": {
        "id": "iH7zG4vgwKhr"
      }
    },
    {
      "cell_type": "code",
      "source": [
        "prediksi_total_cost = best_rf_model_quick.predict(data_prediksi_scaled)"
      ],
      "metadata": {
        "id": "VZEqUPCewQ01"
      },
      "execution_count": 103,
      "outputs": []
    },
    {
      "cell_type": "markdown",
      "source": [
        "###Menampilkan hasil prediksi"
      ],
      "metadata": {
        "id": "OYTtInN_wNzF"
      }
    },
    {
      "cell_type": "code",
      "source": [
        "print(\"Hasil Prediksi Total Biaya Perawatan:\")\n",
        "print(f\"Total Costs (predicted): {prediksi_total_cost[0]:,.2f}\")\n"
      ],
      "metadata": {
        "colab": {
          "base_uri": "https://localhost:8080/"
        },
        "id": "DHgsGAeOwSsD",
        "outputId": "d9209aff-2e40-40fc-bc22-81e9c9dbd3d7"
      },
      "execution_count": 105,
      "outputs": [
        {
          "output_type": "stream",
          "name": "stdout",
          "text": [
            "Hasil Prediksi Total Biaya Perawatan:\n",
            "Total Costs (predicted): 21,411.08\n"
          ]
        }
      ]
    }
  ]
}