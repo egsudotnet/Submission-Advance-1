{
  "nbformat": 4,
  "nbformat_minor": 0,
  "metadata": {
    "colab": {
      "provenance": []
    },
    "kernelspec": {
      "name": "python3",
      "display_name": "Python 3"
    },
    "language_info": {
      "name": "python"
    }
  },
  "cells": [
    {
      "cell_type": "markdown",
      "source": [
        "# Data Understanding"
      ],
      "metadata": {
        "id": "CIPpyb_FNvnF"
      }
    },
    {
      "cell_type": "markdown",
      "source": [
        "## Impor modul"
      ],
      "metadata": {
        "id": "-WJVWAcwSUJS"
      }
    },
    {
      "cell_type": "code",
      "execution_count": null,
      "metadata": {
        "id": "hj3E8ODHNgto"
      },
      "outputs": [],
      "source": [
        "import pandas as pd\n",
        "import numpy as np\n",
        "\n",
        "from sklearn.feature_extraction.text import TfidfVectorizer\n",
        "from sklearn.metrics.pairwise import cosine_similarity"
      ]
    },
    {
      "cell_type": "markdown",
      "source": [
        "Mengimpor pustaka untuk manipulasi data:\n",
        "pandas digunakan untuk membaca dan mengolah dataset, sedangkan numpy digunakan untuk operasi numerik seperti perhitungan matriks.\n",
        "TfidfVectorizer untuk mengubah teks deskripsi menjadi representasi numerik berbobot menggunakan metode TF-IDF\n",
        "cosine_similarity untuk menghitung kesamaan antar vektor, digunakan untuk mengukur kemiripan antara pengguna atau tempat wisata."
      ],
      "metadata": {
        "id": "Q9jHeYYgVRRC"
      }
    },
    {
      "cell_type": "markdown",
      "source": [
        "## Download dulu dataset dengan kode berikut."
      ],
      "metadata": {
        "id": "gEzS6CX5N4Mi"
      }
    },
    {
      "cell_type": "code",
      "source": [
        "!pip install kaggle\n",
        "\n",
        "from google.colab import files\n",
        "files.upload()\n",
        "\n",
        "import os\n",
        "os.environ['KAGGLE_CONFIG_DIR'] = '/content'\n",
        "\n",
        "!kaggle datasets download -d aprabowo/indonesia-tourism-destination\n"
      ],
      "metadata": {
        "colab": {
          "base_uri": "https://localhost:8080/",
          "height": 393
        },
        "id": "xhJG1wq5N8xg",
        "outputId": "bdf29d26-b31e-4dcb-da43-123d68077ad0"
      },
      "execution_count": null,
      "outputs": [
        {
          "output_type": "stream",
          "name": "stdout",
          "text": [
            "Requirement already satisfied: kaggle in /usr/local/lib/python3.10/dist-packages (1.6.17)\n",
            "Requirement already satisfied: six>=1.10 in /usr/local/lib/python3.10/dist-packages (from kaggle) (1.16.0)\n",
            "Requirement already satisfied: certifi>=2023.7.22 in /usr/local/lib/python3.10/dist-packages (from kaggle) (2024.8.30)\n",
            "Requirement already satisfied: python-dateutil in /usr/local/lib/python3.10/dist-packages (from kaggle) (2.8.2)\n",
            "Requirement already satisfied: requests in /usr/local/lib/python3.10/dist-packages (from kaggle) (2.32.3)\n",
            "Requirement already satisfied: tqdm in /usr/local/lib/python3.10/dist-packages (from kaggle) (4.66.6)\n",
            "Requirement already satisfied: python-slugify in /usr/local/lib/python3.10/dist-packages (from kaggle) (8.0.4)\n",
            "Requirement already satisfied: urllib3 in /usr/local/lib/python3.10/dist-packages (from kaggle) (2.2.3)\n",
            "Requirement already satisfied: bleach in /usr/local/lib/python3.10/dist-packages (from kaggle) (6.2.0)\n",
            "Requirement already satisfied: webencodings in /usr/local/lib/python3.10/dist-packages (from bleach->kaggle) (0.5.1)\n",
            "Requirement already satisfied: text-unidecode>=1.3 in /usr/local/lib/python3.10/dist-packages (from python-slugify->kaggle) (1.3)\n",
            "Requirement already satisfied: charset-normalizer<4,>=2 in /usr/local/lib/python3.10/dist-packages (from requests->kaggle) (3.4.0)\n",
            "Requirement already satisfied: idna<4,>=2.5 in /usr/local/lib/python3.10/dist-packages (from requests->kaggle) (3.10)\n"
          ]
        },
        {
          "output_type": "display_data",
          "data": {
            "text/plain": [
              "<IPython.core.display.HTML object>"
            ],
            "text/html": [
              "\n",
              "     <input type=\"file\" id=\"files-7a106ce0-4f9c-4a76-8138-af9ddd3cec7c\" name=\"files[]\" multiple disabled\n",
              "        style=\"border:none\" />\n",
              "     <output id=\"result-7a106ce0-4f9c-4a76-8138-af9ddd3cec7c\">\n",
              "      Upload widget is only available when the cell has been executed in the\n",
              "      current browser session. Please rerun this cell to enable.\n",
              "      </output>\n",
              "      <script>// Copyright 2017 Google LLC\n",
              "//\n",
              "// Licensed under the Apache License, Version 2.0 (the \"License\");\n",
              "// you may not use this file except in compliance with the License.\n",
              "// You may obtain a copy of the License at\n",
              "//\n",
              "//      http://www.apache.org/licenses/LICENSE-2.0\n",
              "//\n",
              "// Unless required by applicable law or agreed to in writing, software\n",
              "// distributed under the License is distributed on an \"AS IS\" BASIS,\n",
              "// WITHOUT WARRANTIES OR CONDITIONS OF ANY KIND, either express or implied.\n",
              "// See the License for the specific language governing permissions and\n",
              "// limitations under the License.\n",
              "\n",
              "/**\n",
              " * @fileoverview Helpers for google.colab Python module.\n",
              " */\n",
              "(function(scope) {\n",
              "function span(text, styleAttributes = {}) {\n",
              "  const element = document.createElement('span');\n",
              "  element.textContent = text;\n",
              "  for (const key of Object.keys(styleAttributes)) {\n",
              "    element.style[key] = styleAttributes[key];\n",
              "  }\n",
              "  return element;\n",
              "}\n",
              "\n",
              "// Max number of bytes which will be uploaded at a time.\n",
              "const MAX_PAYLOAD_SIZE = 100 * 1024;\n",
              "\n",
              "function _uploadFiles(inputId, outputId) {\n",
              "  const steps = uploadFilesStep(inputId, outputId);\n",
              "  const outputElement = document.getElementById(outputId);\n",
              "  // Cache steps on the outputElement to make it available for the next call\n",
              "  // to uploadFilesContinue from Python.\n",
              "  outputElement.steps = steps;\n",
              "\n",
              "  return _uploadFilesContinue(outputId);\n",
              "}\n",
              "\n",
              "// This is roughly an async generator (not supported in the browser yet),\n",
              "// where there are multiple asynchronous steps and the Python side is going\n",
              "// to poll for completion of each step.\n",
              "// This uses a Promise to block the python side on completion of each step,\n",
              "// then passes the result of the previous step as the input to the next step.\n",
              "function _uploadFilesContinue(outputId) {\n",
              "  const outputElement = document.getElementById(outputId);\n",
              "  const steps = outputElement.steps;\n",
              "\n",
              "  const next = steps.next(outputElement.lastPromiseValue);\n",
              "  return Promise.resolve(next.value.promise).then((value) => {\n",
              "    // Cache the last promise value to make it available to the next\n",
              "    // step of the generator.\n",
              "    outputElement.lastPromiseValue = value;\n",
              "    return next.value.response;\n",
              "  });\n",
              "}\n",
              "\n",
              "/**\n",
              " * Generator function which is called between each async step of the upload\n",
              " * process.\n",
              " * @param {string} inputId Element ID of the input file picker element.\n",
              " * @param {string} outputId Element ID of the output display.\n",
              " * @return {!Iterable<!Object>} Iterable of next steps.\n",
              " */\n",
              "function* uploadFilesStep(inputId, outputId) {\n",
              "  const inputElement = document.getElementById(inputId);\n",
              "  inputElement.disabled = false;\n",
              "\n",
              "  const outputElement = document.getElementById(outputId);\n",
              "  outputElement.innerHTML = '';\n",
              "\n",
              "  const pickedPromise = new Promise((resolve) => {\n",
              "    inputElement.addEventListener('change', (e) => {\n",
              "      resolve(e.target.files);\n",
              "    });\n",
              "  });\n",
              "\n",
              "  const cancel = document.createElement('button');\n",
              "  inputElement.parentElement.appendChild(cancel);\n",
              "  cancel.textContent = 'Cancel upload';\n",
              "  const cancelPromise = new Promise((resolve) => {\n",
              "    cancel.onclick = () => {\n",
              "      resolve(null);\n",
              "    };\n",
              "  });\n",
              "\n",
              "  // Wait for the user to pick the files.\n",
              "  const files = yield {\n",
              "    promise: Promise.race([pickedPromise, cancelPromise]),\n",
              "    response: {\n",
              "      action: 'starting',\n",
              "    }\n",
              "  };\n",
              "\n",
              "  cancel.remove();\n",
              "\n",
              "  // Disable the input element since further picks are not allowed.\n",
              "  inputElement.disabled = true;\n",
              "\n",
              "  if (!files) {\n",
              "    return {\n",
              "      response: {\n",
              "        action: 'complete',\n",
              "      }\n",
              "    };\n",
              "  }\n",
              "\n",
              "  for (const file of files) {\n",
              "    const li = document.createElement('li');\n",
              "    li.append(span(file.name, {fontWeight: 'bold'}));\n",
              "    li.append(span(\n",
              "        `(${file.type || 'n/a'}) - ${file.size} bytes, ` +\n",
              "        `last modified: ${\n",
              "            file.lastModifiedDate ? file.lastModifiedDate.toLocaleDateString() :\n",
              "                                    'n/a'} - `));\n",
              "    const percent = span('0% done');\n",
              "    li.appendChild(percent);\n",
              "\n",
              "    outputElement.appendChild(li);\n",
              "\n",
              "    const fileDataPromise = new Promise((resolve) => {\n",
              "      const reader = new FileReader();\n",
              "      reader.onload = (e) => {\n",
              "        resolve(e.target.result);\n",
              "      };\n",
              "      reader.readAsArrayBuffer(file);\n",
              "    });\n",
              "    // Wait for the data to be ready.\n",
              "    let fileData = yield {\n",
              "      promise: fileDataPromise,\n",
              "      response: {\n",
              "        action: 'continue',\n",
              "      }\n",
              "    };\n",
              "\n",
              "    // Use a chunked sending to avoid message size limits. See b/62115660.\n",
              "    let position = 0;\n",
              "    do {\n",
              "      const length = Math.min(fileData.byteLength - position, MAX_PAYLOAD_SIZE);\n",
              "      const chunk = new Uint8Array(fileData, position, length);\n",
              "      position += length;\n",
              "\n",
              "      const base64 = btoa(String.fromCharCode.apply(null, chunk));\n",
              "      yield {\n",
              "        response: {\n",
              "          action: 'append',\n",
              "          file: file.name,\n",
              "          data: base64,\n",
              "        },\n",
              "      };\n",
              "\n",
              "      let percentDone = fileData.byteLength === 0 ?\n",
              "          100 :\n",
              "          Math.round((position / fileData.byteLength) * 100);\n",
              "      percent.textContent = `${percentDone}% done`;\n",
              "\n",
              "    } while (position < fileData.byteLength);\n",
              "  }\n",
              "\n",
              "  // All done.\n",
              "  yield {\n",
              "    response: {\n",
              "      action: 'complete',\n",
              "    }\n",
              "  };\n",
              "}\n",
              "\n",
              "scope.google = scope.google || {};\n",
              "scope.google.colab = scope.google.colab || {};\n",
              "scope.google.colab._files = {\n",
              "  _uploadFiles,\n",
              "  _uploadFilesContinue,\n",
              "};\n",
              "})(self);\n",
              "</script> "
            ]
          },
          "metadata": {}
        },
        {
          "output_type": "stream",
          "name": "stdout",
          "text": [
            "Saving kaggle.json to kaggle (1).json\n",
            "Warning: Your Kaggle API key is readable by other users on this system! To fix this, you can run 'chmod 600 /content/kaggle.json'\n",
            "Dataset URL: https://www.kaggle.com/datasets/aprabowo/indonesia-tourism-destination\n",
            "License(s): copyright-authors\n",
            "indonesia-tourism-destination.zip: Skipping, found more recently modified local copy (use --force to force download)\n"
          ]
        }
      ]
    },
    {
      "cell_type": "markdown",
      "source": [
        "Blok kode ini digunakan untuk mengunduh dataset dari Kaggle ke Google Colab. Pertama, **`!pip install kaggle`** menginstal pustaka Kaggle. Kemudian, **`files.upload()`** memungkinkan Anda mengunggah file `kaggle.json` (API Key Kaggle) untuk autentikasi. Variabel lingkungan **`os.environ['KAGGLE_CONFIG_DIR']`** mengatur lokasi file konfigurasi Kaggle. Terakhir, **`!kaggle datasets download`** mengunduh dataset dari URL Kaggle yang ditentukan."
      ],
      "metadata": {
        "id": "SzqFFT0oVqKh"
      }
    },
    {
      "cell_type": "code",
      "source": [
        "!unzip indonesia-tourism-destination.zip"
      ],
      "metadata": {
        "colab": {
          "base_uri": "https://localhost:8080/"
        },
        "id": "z8BzW219QMpm",
        "outputId": "534cd105-7c77-465c-8455-d24adecf020f"
      },
      "execution_count": null,
      "outputs": [
        {
          "output_type": "stream",
          "name": "stdout",
          "text": [
            "Archive:  indonesia-tourism-destination.zip\n",
            "replace package_tourism.csv? [y]es, [n]o, [A]ll, [N]one, [r]ename: A\n",
            "  inflating: package_tourism.csv     \n",
            "  inflating: tourism_rating.csv      \n",
            "  inflating: tourism_with_id.csv     \n",
            "  inflating: user.csv                \n"
          ]
        }
      ]
    },
    {
      "cell_type": "markdown",
      "source": [
        "Perintah !unzip indonesia-tourism-destination.zip digunakan untuk mengekstrak file zip yang berisi dataset Indonesia Tourism Destination yang telah diunduh. File zip tersebut akan diekstrak ke dalam direktori saat ini di Google Colab, sehingga Anda dapat mengakses data yang ada di dalamnya untuk diproses lebih lanjut."
      ],
      "metadata": {
        "id": "oRtwbZl7V2ay"
      }
    },
    {
      "cell_type": "markdown",
      "source": [
        "## # Membaca dataset"
      ],
      "metadata": {
        "id": "-pqb7uSvkRxZ"
      }
    },
    {
      "cell_type": "code",
      "source": [
        "package_tourism = pd.read_csv('/content/package_tourism.csv')\n",
        "tourism_rating = pd.read_csv('/content/tourism_rating.csv')\n",
        "tourism_with_id = pd.read_csv('/content/tourism_with_id.csv')\n",
        "user = pd.read_csv('/content/user.csv')"
      ],
      "metadata": {
        "id": "aasKReMfidyQ"
      },
      "execution_count": null,
      "outputs": []
    },
    {
      "cell_type": "markdown",
      "source": [
        "Blok kode ini digunakan untuk membaca file CSV yang telah diekstrak dan memuatnya ke dalam variabel menggunakan pandas.read_csv(). Setiap file yang dibaca akan disimpan sebagai DataFrame, yang memungkinkan Anda untuk mengolah dan menganalisis data lebih lanjut."
      ],
      "metadata": {
        "id": "54xJ_dDzV-Nq"
      }
    },
    {
      "cell_type": "markdown",
      "source": [
        "## Menampilkan jumlah data unik di setiap dataset"
      ],
      "metadata": {
        "id": "m67cX8GnkZ6d"
      }
    },
    {
      "cell_type": "code",
      "source": [
        "print('Jumlah data paket wisata: ', len(package_tourism['Package'].unique()))\n",
        "print('Jumlah data rating wisata: ', len(tourism_rating['Place_Ratings'].unique()))\n",
        "print('Jumlah data destinasi wisata dengan ID: ', len(tourism_with_id['Place_Id'].unique()))\n",
        "print('Jumlah data pengguna: ', len(user['User_Id'].unique()))"
      ],
      "metadata": {
        "colab": {
          "base_uri": "https://localhost:8080/"
        },
        "id": "zLMyulDrkYFx",
        "outputId": "8e67377f-1fe7-4ea8-b43d-bb29636c3eac"
      },
      "execution_count": null,
      "outputs": [
        {
          "output_type": "stream",
          "name": "stdout",
          "text": [
            "Jumlah data paket wisata:  100\n",
            "Jumlah data rating wisata:  5\n",
            "Jumlah data destinasi wisata dengan ID:  437\n",
            "Jumlah data pengguna:  300\n"
          ]
        }
      ]
    },
    {
      "cell_type": "markdown",
      "source": [
        "Blok kode ini digunakan untuk menampilkan jumlah data unik dari masing-masing kolom yang relevan dalam dataset."
      ],
      "metadata": {
        "id": "Tn3VsYLNWGiM"
      }
    },
    {
      "cell_type": "markdown",
      "source": [
        "# Univariate Exploratory Data Analysis"
      ],
      "metadata": {
        "id": "PYkitxMWjukU"
      }
    },
    {
      "cell_type": "markdown",
      "source": [
        "## Package Tourism Variabel"
      ],
      "metadata": {
        "id": "9uv8l3o4R3ZU"
      }
    },
    {
      "cell_type": "code",
      "source": [
        "package_tourism.info()"
      ],
      "metadata": {
        "colab": {
          "base_uri": "https://localhost:8080/"
        },
        "id": "X6r1nFfvjuNb",
        "outputId": "ca97fb21-5fda-4b54-a9b8-0f9243a1510d"
      },
      "execution_count": null,
      "outputs": [
        {
          "output_type": "stream",
          "name": "stdout",
          "text": [
            "<class 'pandas.core.frame.DataFrame'>\n",
            "RangeIndex: 100 entries, 0 to 99\n",
            "Data columns (total 7 columns):\n",
            " #   Column          Non-Null Count  Dtype \n",
            "---  ------          --------------  ----- \n",
            " 0   Package         100 non-null    int64 \n",
            " 1   City            100 non-null    object\n",
            " 2   Place_Tourism1  100 non-null    object\n",
            " 3   Place_Tourism2  100 non-null    object\n",
            " 4   Place_Tourism3  100 non-null    object\n",
            " 5   Place_Tourism4  66 non-null     object\n",
            " 6   Place_Tourism5  39 non-null     object\n",
            "dtypes: int64(1), object(6)\n",
            "memory usage: 5.6+ KB\n"
          ]
        }
      ]
    },
    {
      "cell_type": "markdown",
      "source": [
        "Kode `package_tourism.info()` digunakan untuk menampilkan informasi ringkas tentang dataset `package_tourism`, yang meliputi jumlah kolom, tipe data, jumlah nilai non-null (data yang tidak kosong), dan tipe data untuk setiap kolom.\n",
        "\n",
        "**Hasilnya** adalah sebagai berikut:\n",
        "\n",
        "- **Package**: Tipe data `int64` dengan 100 nilai non-null, artinya semua 100 baris memiliki data yang valid.\n",
        "- **City**: Tipe data `object` (biasanya string) dengan 100 nilai non-null, artinya kolom ini lengkap.\n",
        "- **Place_Tourism1**: Tipe data `object` dengan 100 nilai non-null, semua data ada.\n",
        "- **Place_Tourism2**: Tipe data `object` dengan 100 nilai non-null, lengkap.\n",
        "- **Place_Tourism3**: Tipe data `object` dengan 100 nilai non-null, lengkap.\n",
        "- **Place_Tourism4**: Tipe data `object` dengan 66 nilai non-null, artinya ada 34 nilai yang hilang (NaN).\n",
        "- **Place_Tourism5**: Tipe data `object` dengan 39 nilai non-null, artinya ada 61 nilai yang hilang (NaN).\n",
        "\n",
        "Secara keseluruhan, kolom `Place_Tourism4` dan `Place_Tourism5` memiliki nilai yang hilang (NaN), sedangkan kolom lainnya lengkap dengan data."
      ],
      "metadata": {
        "id": "GTAM4fE-Wf21"
      }
    },
    {
      "cell_type": "code",
      "source": [
        "package_tourism.head()"
      ],
      "metadata": {
        "colab": {
          "base_uri": "https://localhost:8080/",
          "height": 206
        },
        "id": "PAsqRFE1bzy-",
        "outputId": "cd4000b6-2518-46d1-ea43-a7e205c8f031"
      },
      "execution_count": null,
      "outputs": [
        {
          "output_type": "execute_result",
          "data": {
            "text/plain": [
              "   Package     City         Place_Tourism1      Place_Tourism2  \\\n",
              "0        1  Jakarta      Pasar Tanah Abang        Taman Ayodya   \n",
              "1        2  Jakarta      Pasar Tanah Abang  Pasar Taman Puring   \n",
              "2        3  Jakarta  Perpustakaan Nasional               Monas   \n",
              "3        4  Jakarta           Pulau Tidung      Pulau Bidadari   \n",
              "4        5  Jakarta  Museum Satria Mandala       Museum Wayang   \n",
              "\n",
              "          Place_Tourism3                                     Place_Tourism4  \\\n",
              "0         Museum Tekstil                                                NaN   \n",
              "1   Pasar Petak Sembilan                                                NaN   \n",
              "2        Masjid Istiqlal                                                NaN   \n",
              "3             Pulau Pari                                      Pulau Pramuka   \n",
              "4  Museum Bahari Jakarta  Museum Macan (Modern and Contemporary Art in N...   \n",
              "\n",
              "  Place_Tourism5  \n",
              "0            NaN  \n",
              "1            NaN  \n",
              "2            NaN  \n",
              "3  Pulau Pelangi  \n",
              "4            NaN  "
            ],
            "text/html": [
              "\n",
              "  <div id=\"df-49e65819-32ff-4808-a970-6bf7ccaf9acf\" class=\"colab-df-container\">\n",
              "    <div>\n",
              "<style scoped>\n",
              "    .dataframe tbody tr th:only-of-type {\n",
              "        vertical-align: middle;\n",
              "    }\n",
              "\n",
              "    .dataframe tbody tr th {\n",
              "        vertical-align: top;\n",
              "    }\n",
              "\n",
              "    .dataframe thead th {\n",
              "        text-align: right;\n",
              "    }\n",
              "</style>\n",
              "<table border=\"1\" class=\"dataframe\">\n",
              "  <thead>\n",
              "    <tr style=\"text-align: right;\">\n",
              "      <th></th>\n",
              "      <th>Package</th>\n",
              "      <th>City</th>\n",
              "      <th>Place_Tourism1</th>\n",
              "      <th>Place_Tourism2</th>\n",
              "      <th>Place_Tourism3</th>\n",
              "      <th>Place_Tourism4</th>\n",
              "      <th>Place_Tourism5</th>\n",
              "    </tr>\n",
              "  </thead>\n",
              "  <tbody>\n",
              "    <tr>\n",
              "      <th>0</th>\n",
              "      <td>1</td>\n",
              "      <td>Jakarta</td>\n",
              "      <td>Pasar Tanah Abang</td>\n",
              "      <td>Taman Ayodya</td>\n",
              "      <td>Museum Tekstil</td>\n",
              "      <td>NaN</td>\n",
              "      <td>NaN</td>\n",
              "    </tr>\n",
              "    <tr>\n",
              "      <th>1</th>\n",
              "      <td>2</td>\n",
              "      <td>Jakarta</td>\n",
              "      <td>Pasar Tanah Abang</td>\n",
              "      <td>Pasar Taman Puring</td>\n",
              "      <td>Pasar Petak Sembilan</td>\n",
              "      <td>NaN</td>\n",
              "      <td>NaN</td>\n",
              "    </tr>\n",
              "    <tr>\n",
              "      <th>2</th>\n",
              "      <td>3</td>\n",
              "      <td>Jakarta</td>\n",
              "      <td>Perpustakaan Nasional</td>\n",
              "      <td>Monas</td>\n",
              "      <td>Masjid Istiqlal</td>\n",
              "      <td>NaN</td>\n",
              "      <td>NaN</td>\n",
              "    </tr>\n",
              "    <tr>\n",
              "      <th>3</th>\n",
              "      <td>4</td>\n",
              "      <td>Jakarta</td>\n",
              "      <td>Pulau Tidung</td>\n",
              "      <td>Pulau Bidadari</td>\n",
              "      <td>Pulau Pari</td>\n",
              "      <td>Pulau Pramuka</td>\n",
              "      <td>Pulau Pelangi</td>\n",
              "    </tr>\n",
              "    <tr>\n",
              "      <th>4</th>\n",
              "      <td>5</td>\n",
              "      <td>Jakarta</td>\n",
              "      <td>Museum Satria Mandala</td>\n",
              "      <td>Museum Wayang</td>\n",
              "      <td>Museum Bahari Jakarta</td>\n",
              "      <td>Museum Macan (Modern and Contemporary Art in N...</td>\n",
              "      <td>NaN</td>\n",
              "    </tr>\n",
              "  </tbody>\n",
              "</table>\n",
              "</div>\n",
              "    <div class=\"colab-df-buttons\">\n",
              "\n",
              "  <div class=\"colab-df-container\">\n",
              "    <button class=\"colab-df-convert\" onclick=\"convertToInteractive('df-49e65819-32ff-4808-a970-6bf7ccaf9acf')\"\n",
              "            title=\"Convert this dataframe to an interactive table.\"\n",
              "            style=\"display:none;\">\n",
              "\n",
              "  <svg xmlns=\"http://www.w3.org/2000/svg\" height=\"24px\" viewBox=\"0 -960 960 960\">\n",
              "    <path d=\"M120-120v-720h720v720H120Zm60-500h600v-160H180v160Zm220 220h160v-160H400v160Zm0 220h160v-160H400v160ZM180-400h160v-160H180v160Zm440 0h160v-160H620v160ZM180-180h160v-160H180v160Zm440 0h160v-160H620v160Z\"/>\n",
              "  </svg>\n",
              "    </button>\n",
              "\n",
              "  <style>\n",
              "    .colab-df-container {\n",
              "      display:flex;\n",
              "      gap: 12px;\n",
              "    }\n",
              "\n",
              "    .colab-df-convert {\n",
              "      background-color: #E8F0FE;\n",
              "      border: none;\n",
              "      border-radius: 50%;\n",
              "      cursor: pointer;\n",
              "      display: none;\n",
              "      fill: #1967D2;\n",
              "      height: 32px;\n",
              "      padding: 0 0 0 0;\n",
              "      width: 32px;\n",
              "    }\n",
              "\n",
              "    .colab-df-convert:hover {\n",
              "      background-color: #E2EBFA;\n",
              "      box-shadow: 0px 1px 2px rgba(60, 64, 67, 0.3), 0px 1px 3px 1px rgba(60, 64, 67, 0.15);\n",
              "      fill: #174EA6;\n",
              "    }\n",
              "\n",
              "    .colab-df-buttons div {\n",
              "      margin-bottom: 4px;\n",
              "    }\n",
              "\n",
              "    [theme=dark] .colab-df-convert {\n",
              "      background-color: #3B4455;\n",
              "      fill: #D2E3FC;\n",
              "    }\n",
              "\n",
              "    [theme=dark] .colab-df-convert:hover {\n",
              "      background-color: #434B5C;\n",
              "      box-shadow: 0px 1px 3px 1px rgba(0, 0, 0, 0.15);\n",
              "      filter: drop-shadow(0px 1px 2px rgba(0, 0, 0, 0.3));\n",
              "      fill: #FFFFFF;\n",
              "    }\n",
              "  </style>\n",
              "\n",
              "    <script>\n",
              "      const buttonEl =\n",
              "        document.querySelector('#df-49e65819-32ff-4808-a970-6bf7ccaf9acf button.colab-df-convert');\n",
              "      buttonEl.style.display =\n",
              "        google.colab.kernel.accessAllowed ? 'block' : 'none';\n",
              "\n",
              "      async function convertToInteractive(key) {\n",
              "        const element = document.querySelector('#df-49e65819-32ff-4808-a970-6bf7ccaf9acf');\n",
              "        const dataTable =\n",
              "          await google.colab.kernel.invokeFunction('convertToInteractive',\n",
              "                                                    [key], {});\n",
              "        if (!dataTable) return;\n",
              "\n",
              "        const docLinkHtml = 'Like what you see? Visit the ' +\n",
              "          '<a target=\"_blank\" href=https://colab.research.google.com/notebooks/data_table.ipynb>data table notebook</a>'\n",
              "          + ' to learn more about interactive tables.';\n",
              "        element.innerHTML = '';\n",
              "        dataTable['output_type'] = 'display_data';\n",
              "        await google.colab.output.renderOutput(dataTable, element);\n",
              "        const docLink = document.createElement('div');\n",
              "        docLink.innerHTML = docLinkHtml;\n",
              "        element.appendChild(docLink);\n",
              "      }\n",
              "    </script>\n",
              "  </div>\n",
              "\n",
              "\n",
              "<div id=\"df-86edd061-042b-46e6-bb57-56d21ead0981\">\n",
              "  <button class=\"colab-df-quickchart\" onclick=\"quickchart('df-86edd061-042b-46e6-bb57-56d21ead0981')\"\n",
              "            title=\"Suggest charts\"\n",
              "            style=\"display:none;\">\n",
              "\n",
              "<svg xmlns=\"http://www.w3.org/2000/svg\" height=\"24px\"viewBox=\"0 0 24 24\"\n",
              "     width=\"24px\">\n",
              "    <g>\n",
              "        <path d=\"M19 3H5c-1.1 0-2 .9-2 2v14c0 1.1.9 2 2 2h14c1.1 0 2-.9 2-2V5c0-1.1-.9-2-2-2zM9 17H7v-7h2v7zm4 0h-2V7h2v10zm4 0h-2v-4h2v4z\"/>\n",
              "    </g>\n",
              "</svg>\n",
              "  </button>\n",
              "\n",
              "<style>\n",
              "  .colab-df-quickchart {\n",
              "      --bg-color: #E8F0FE;\n",
              "      --fill-color: #1967D2;\n",
              "      --hover-bg-color: #E2EBFA;\n",
              "      --hover-fill-color: #174EA6;\n",
              "      --disabled-fill-color: #AAA;\n",
              "      --disabled-bg-color: #DDD;\n",
              "  }\n",
              "\n",
              "  [theme=dark] .colab-df-quickchart {\n",
              "      --bg-color: #3B4455;\n",
              "      --fill-color: #D2E3FC;\n",
              "      --hover-bg-color: #434B5C;\n",
              "      --hover-fill-color: #FFFFFF;\n",
              "      --disabled-bg-color: #3B4455;\n",
              "      --disabled-fill-color: #666;\n",
              "  }\n",
              "\n",
              "  .colab-df-quickchart {\n",
              "    background-color: var(--bg-color);\n",
              "    border: none;\n",
              "    border-radius: 50%;\n",
              "    cursor: pointer;\n",
              "    display: none;\n",
              "    fill: var(--fill-color);\n",
              "    height: 32px;\n",
              "    padding: 0;\n",
              "    width: 32px;\n",
              "  }\n",
              "\n",
              "  .colab-df-quickchart:hover {\n",
              "    background-color: var(--hover-bg-color);\n",
              "    box-shadow: 0 1px 2px rgba(60, 64, 67, 0.3), 0 1px 3px 1px rgba(60, 64, 67, 0.15);\n",
              "    fill: var(--button-hover-fill-color);\n",
              "  }\n",
              "\n",
              "  .colab-df-quickchart-complete:disabled,\n",
              "  .colab-df-quickchart-complete:disabled:hover {\n",
              "    background-color: var(--disabled-bg-color);\n",
              "    fill: var(--disabled-fill-color);\n",
              "    box-shadow: none;\n",
              "  }\n",
              "\n",
              "  .colab-df-spinner {\n",
              "    border: 2px solid var(--fill-color);\n",
              "    border-color: transparent;\n",
              "    border-bottom-color: var(--fill-color);\n",
              "    animation:\n",
              "      spin 1s steps(1) infinite;\n",
              "  }\n",
              "\n",
              "  @keyframes spin {\n",
              "    0% {\n",
              "      border-color: transparent;\n",
              "      border-bottom-color: var(--fill-color);\n",
              "      border-left-color: var(--fill-color);\n",
              "    }\n",
              "    20% {\n",
              "      border-color: transparent;\n",
              "      border-left-color: var(--fill-color);\n",
              "      border-top-color: var(--fill-color);\n",
              "    }\n",
              "    30% {\n",
              "      border-color: transparent;\n",
              "      border-left-color: var(--fill-color);\n",
              "      border-top-color: var(--fill-color);\n",
              "      border-right-color: var(--fill-color);\n",
              "    }\n",
              "    40% {\n",
              "      border-color: transparent;\n",
              "      border-right-color: var(--fill-color);\n",
              "      border-top-color: var(--fill-color);\n",
              "    }\n",
              "    60% {\n",
              "      border-color: transparent;\n",
              "      border-right-color: var(--fill-color);\n",
              "    }\n",
              "    80% {\n",
              "      border-color: transparent;\n",
              "      border-right-color: var(--fill-color);\n",
              "      border-bottom-color: var(--fill-color);\n",
              "    }\n",
              "    90% {\n",
              "      border-color: transparent;\n",
              "      border-bottom-color: var(--fill-color);\n",
              "    }\n",
              "  }\n",
              "</style>\n",
              "\n",
              "  <script>\n",
              "    async function quickchart(key) {\n",
              "      const quickchartButtonEl =\n",
              "        document.querySelector('#' + key + ' button');\n",
              "      quickchartButtonEl.disabled = true;  // To prevent multiple clicks.\n",
              "      quickchartButtonEl.classList.add('colab-df-spinner');\n",
              "      try {\n",
              "        const charts = await google.colab.kernel.invokeFunction(\n",
              "            'suggestCharts', [key], {});\n",
              "      } catch (error) {\n",
              "        console.error('Error during call to suggestCharts:', error);\n",
              "      }\n",
              "      quickchartButtonEl.classList.remove('colab-df-spinner');\n",
              "      quickchartButtonEl.classList.add('colab-df-quickchart-complete');\n",
              "    }\n",
              "    (() => {\n",
              "      let quickchartButtonEl =\n",
              "        document.querySelector('#df-86edd061-042b-46e6-bb57-56d21ead0981 button');\n",
              "      quickchartButtonEl.style.display =\n",
              "        google.colab.kernel.accessAllowed ? 'block' : 'none';\n",
              "    })();\n",
              "  </script>\n",
              "</div>\n",
              "\n",
              "    </div>\n",
              "  </div>\n"
            ],
            "application/vnd.google.colaboratory.intrinsic+json": {
              "type": "dataframe",
              "variable_name": "package_tourism",
              "summary": "{\n  \"name\": \"package_tourism\",\n  \"rows\": 100,\n  \"fields\": [\n    {\n      \"column\": \"Package\",\n      \"properties\": {\n        \"dtype\": \"number\",\n        \"std\": 29,\n        \"min\": 1,\n        \"max\": 100,\n        \"num_unique_values\": 100,\n        \"samples\": [\n          84,\n          54,\n          71\n        ],\n        \"semantic_type\": \"\",\n        \"description\": \"\"\n      }\n    },\n    {\n      \"column\": \"City\",\n      \"properties\": {\n        \"dtype\": \"category\",\n        \"num_unique_values\": 5,\n        \"samples\": [\n          \"Yogyakarta\",\n          \"Surabaya\",\n          \"Bandung\"\n        ],\n        \"semantic_type\": \"\",\n        \"description\": \"\"\n      }\n    },\n    {\n      \"column\": \"Place_Tourism1\",\n      \"properties\": {\n        \"dtype\": \"string\",\n        \"num_unique_values\": 89,\n        \"samples\": [\n          \"Caringin Tilu\",\n          \"Museum Gedung Sate\",\n          \"Desa Wisata Sungai Code Jogja Kota\"\n        ],\n        \"semantic_type\": \"\",\n        \"description\": \"\"\n      }\n    },\n    {\n      \"column\": \"Place_Tourism2\",\n      \"properties\": {\n        \"dtype\": \"string\",\n        \"num_unique_values\": 93,\n        \"samples\": [\n          \"Museum Sri Baduga\",\n          \"Pantai Nglambor\",\n          \"Lembang Park & Zoo\"\n        ],\n        \"semantic_type\": \"\",\n        \"description\": \"\"\n      }\n    },\n    {\n      \"column\": \"Place_Tourism3\",\n      \"properties\": {\n        \"dtype\": \"string\",\n        \"num_unique_values\": 92,\n        \"samples\": [\n          \"Museum Mandala Wangsit Siliwangi\",\n          \"Sindu Kusuma Edupark (SKE)\",\n          \"Sam Poo Kong Temple\"\n        ],\n        \"semantic_type\": \"\",\n        \"description\": \"\"\n      }\n    },\n    {\n      \"column\": \"Place_Tourism4\",\n      \"properties\": {\n        \"dtype\": \"string\",\n        \"num_unique_values\": 61,\n        \"samples\": [\n          \"Pulau Pramuka\",\n          \"Pasar Petak Sembilan\",\n          \"Pantai Cipta\"\n        ],\n        \"semantic_type\": \"\",\n        \"description\": \"\"\n      }\n    },\n    {\n      \"column\": \"Place_Tourism5\",\n      \"properties\": {\n        \"dtype\": \"category\",\n        \"num_unique_values\": 38,\n        \"samples\": [\n          \"Museum De Javasche Bank\",\n          \"Taman Air Mancur Menari Kenjeran\",\n          \"Museum Perangko\"\n        ],\n        \"semantic_type\": \"\",\n        \"description\": \"\"\n      }\n    }\n  ]\n}"
            }
          },
          "metadata": {},
          "execution_count": 49
        }
      ]
    },
    {
      "cell_type": "code",
      "source": [
        "print('Banyak data: ', len(package_tourism.Package.unique()))\n",
        "print('Kota: ', package_tourism.City.unique())\n",
        "print('Destinasi 1: ', package_tourism.Place_Tourism1.unique())\n",
        "print('Destinasi 2: ', package_tourism.Place_Tourism2.unique())\n",
        "print('Destinasi 3: ', package_tourism.Place_Tourism3.unique())\n",
        "print('Destinasi 4: ', package_tourism.Place_Tourism4.unique())\n",
        "\n"
      ],
      "metadata": {
        "colab": {
          "base_uri": "https://localhost:8080/"
        },
        "id": "orprhssMkQhh",
        "outputId": "d5cf7cc7-01da-4717-a3db-454b929c3332"
      },
      "execution_count": null,
      "outputs": [
        {
          "output_type": "stream",
          "name": "stdout",
          "text": [
            "Banyak data:  100\n",
            "Kota:  ['Jakarta' 'Yogyakarta' 'Bandung' 'Semarang' 'Surabaya']\n",
            "Destinasi 1:  ['Pasar Tanah Abang' 'Perpustakaan Nasional' 'Pulau Tidung'\n",
            " 'Museum Satria Mandala' 'Waterboom PIK (Pantai Indah Kapuk)'\n",
            " 'Alive Museum Ancol' 'Kota Tua' 'Galeri Nasional Indonesia'\n",
            " 'Taman Impian Jaya Ancol' 'Hutan Kota Srengseng'\n",
            " 'Taman Mini Indonesia Indah (TMII)' 'Mall Thamrin City' 'Museum Joang 45'\n",
            " 'Museum Sumpah Pemuda' 'Klenteng Jin De Yuan' 'Taman Menteng'\n",
            " 'Wisata Agro Edukatif Istana Susu Cibugary' 'Nol Kilometer Jl.Malioboro'\n",
            " 'Air Terjun Kedung Pedut' 'Alun-alun Utara Keraton Yogyakarta'\n",
            " 'Pantai Indrayanti' 'Candi Ijo' 'Hutan Pinus Pengger' 'Candi Prambanan'\n",
            " 'Pantai Patihan' 'Gembira Loka Zoo' 'The Lost World Castle'\n",
            " 'Puncak Segoro' 'Bukit Wisata Pulepayung' 'Pantai Glagah'\n",
            " 'Desa Wisata Sungai Code Jogja Kota' 'Kampung Wisata Taman Sari'\n",
            " 'Jurang Tembelan Kanigoro' 'De Mata Museum Jogja' 'Watu Lumbung'\n",
            " 'Sindu Kusuma Edupark (SKE)' 'Pasar Beringharjo' 'Dago Dreampark'\n",
            " 'Gunung Tangkuban Perahu' 'Museum Geologi Bandung'\n",
            " 'Museum Konferensi Asia Afrika' 'Kyotoku Floating Market'\n",
            " 'Glamping Lakeside Rancabali' 'Gereja Katedral Santo Petrus Bandung'\n",
            " 'Caringin Tilu' 'NuArt Sculpture Park' 'Taman Hutan Raya Ir. H. Djuanda'\n",
            " 'Situ Patenggang' 'Taman Begonia' 'Alun-Alun Kota Bandung'\n",
            " 'Rainbow Garden' 'Masjid Raya Bandung' 'Kawah Putih' 'Museum Gedung Sate'\n",
            " 'Kebun Binatang Bandung' 'Kawasan Punclut' 'Curug Dago'\n",
            " 'Candi Gedong Songo' 'Grand Maerakaca' 'Pantai Baruna'\n",
            " 'Indonesia Kaya Park' 'Jembatan Biru Ambarawa' 'Air Terjun Semirang'\n",
            " 'Saloka Theme Park' 'Water Blaster Bukit Candi Golf' 'Waduk Jatibarang'\n",
            " 'Kampoeng Djadhoel Semarang' 'Wisata Lereng Kelir'\n",
            " 'GPIB Immanuel Semarang (Gereja Blenduk)' 'Monumen Palagan Ambarawa'\n",
            " 'Kampung Pelangi' 'Wisata Mangrove Tapak' 'Tirto Argo Siwarak'\n",
            " 'Desa Wisata Lembah Kalipancur' 'Taman Prestasi'\n",
            " 'Museum Sepuluh Nopember Kota Surabaya' 'Masjid Muhammad Cheng Hoo'\n",
            " 'Ciputra Waterpark' 'Air Mancur Menari' 'Museum De Javasche Bank'\n",
            " 'Surabaya North Quay' 'Taman Buah Surabaya' 'Rumah Batik'\n",
            " 'Monumen Tugu Pahlawan' 'Ekowisata Mangrove Wonorejo'\n",
            " 'Taman Kunang-Kunang' 'Museum TNI AL Loka Jala Crana'\n",
            " 'Museum Kesehatan Dr. Adhyatma' 'Taman Ekspresi Dan Perpustakaan']\n",
            "Destinasi 2:  ['Taman Ayodya' 'Pasar Taman Puring' 'Monas' 'Pulau Bidadari'\n",
            " 'Museum Wayang' 'Jakarta Aquarium dan Safari' 'Ocean Ecopark'\n",
            " 'Museum Bank Indonesia' 'Museum Seni Rupa dan Kramik' 'Kota Tua'\n",
            " 'Jembatan Kota Intan' 'Taman Cattleya' 'Museum Satria Mandala'\n",
            " 'Grand Indonesia Mall' 'Museum Fatahillah' 'Tugu Proklamasi'\n",
            " 'Masjid Istiqlal' 'Taman Suropati' 'Bumi Perkemahan Cibubur'\n",
            " 'Alun Alun Selatan Yogyakarta' 'Puncak Gunung Api Purba - Nglanggeran'\n",
            " 'Candi Ijo' 'Pantai Nglambor' 'Pasar Beringharjo'\n",
            " 'Bentara Budaya Yogyakarta (BBY)' 'Candi Borobudur' 'Pantai Kukup'\n",
            " 'Kampung Wisata Kadipaten' 'Monumen Sanapati' 'Taman Pelangi Jogja'\n",
            " 'Hutan Pinus Asri' 'Pantai Drini' 'Kawasan Malioboro'\n",
            " 'Monumen Serangan Umum 1 Maret' 'Lava Bantal' 'Bunker Kaliadem Merapi'\n",
            " 'Taman Pelangi Yogyakarta' 'Pasar Kebon Empring Bintaran'\n",
            " 'Orchid Forest Cikole' 'Gunung Papandayan' 'Museum Sri Baduga'\n",
            " 'Monumen Perjuangan Rakyat Jawa Barat' 'Mountain View Golf Club'\n",
            " 'Taman Miniatur Kereta Api' 'Masjid Pusdai' 'Curug Anom'\n",
            " 'Pesona Nirwana Waterpark & Cottages' 'Tebing Karaton' 'Rainbow Garden'\n",
            " 'Curug Malela' 'Taman Balai Kota Bandung' 'Kota Mini' 'Taman Lansia'\n",
            " 'Panghegar Waterboom Bandung' 'Roemah Seni Sarasvati'\n",
            " 'Lembang Park & Zoo' 'Lawangwangi Creative Space' 'Curug Batu Templek'\n",
            " 'Lawang Sewu' 'Kampung Pelangi' 'Pantai Marina' 'Taman Pandanaran'\n",
            " 'Masjid Agung Ungaran' 'Obyek Wisata Goa Kreo'\n",
            " 'Water Blaster Bukit Candi Golf' 'Kampung Batik Gedong Semarang'\n",
            " 'Wisata Lereng Kelir' 'Pura Giri Natha' 'Monumen Palagan Ambarawa'\n",
            " 'Masjid Kapal Semarang' 'Benteng Pendem'\n",
            " 'Hutan Wisata Tinjomoyo Semarang' 'Umbul Sidomukti' 'Grand Maerakaca'\n",
            " 'Wisata Eling Bening' 'Kampoeng Rawa' 'Taman Keputran'\n",
            " 'Museum Kesehatan Dr. Adhyatma' 'Masjid Nasional Al-Akbar'\n",
            " 'Kenjeran Park' 'Monumen Kapal Selam' 'Surabaya Museum (Gedung Siola)'\n",
            " 'Waterpark Kenjeran Surabaya' 'Taman Pelangi' 'Jembatan Merah'\n",
            " 'Monumen Jalesveva Jayamahe' 'Taman Harmoni Keputih'\n",
            " 'Taman Ekspresi Dan Perpustakaan' 'Klenteng Sanggar Agung'\n",
            " 'Taman Hiburan Rakyat' 'Patung Buddha Empat Rupa'\n",
            " 'Museum De Javasche Bank' 'Hutan Bambu Keputih']\n",
            "Destinasi 3:  ['Museum Tekstil' 'Pasar Petak Sembilan' 'Masjid Istiqlal' 'Pulau Pari'\n",
            " 'Museum Bahari Jakarta' 'SnowBay Waterpark' 'Monas'\n",
            " 'Galeri Indonesia Kaya' 'Museum Bank Indonesia' 'Klenteng Jin De Yuan'\n",
            " 'Freedom Library' 'Pasar Tanah Abang' 'Pasar Seni' 'Plaza Indonesia'\n",
            " 'Museum Basoeki Abdullah' 'Gereja Katedral' 'Taman Lapangan Banteng'\n",
            " 'Taman Situ Lembang' 'Tugu Pal Putih Jogja' 'Watu Mabur Mangunan'\n",
            " 'Monumen Sanapati' 'Pantai Parangtritis' 'Sindu Kusuma Edupark (SKE)'\n",
            " 'Desa Wisata Pulesari' 'Kawasan Malioboro' 'Hutan Mangrove Kulon Progo'\n",
            " 'Tebing Breksi' 'Green Village Gedangsari' 'Galaxy Waterpark Jogja'\n",
            " 'Kebun Teh Nglinggo' 'Pantai Wediombo' 'Kauman Pakualaman Yogyakarta'\n",
            " 'Puncak Kebun Buah Mangunan' 'Watu Goyang' 'Goa Rancang Kencono'\n",
            " 'The Lost World Castle' 'Kawasan Wisata Sosrowijayan' 'Jendela Alam'\n",
            " 'Gunung Manglayang' 'Museum Pendidikan Nasional'\n",
            " 'Museum Mandala Wangsit Siliwangi' 'Trans Studio Bandung' 'Kota Mini'\n",
            " 'Masjid Al-Imtizaj' 'Bukit Jamur' ' Panama Park 825'\n",
            " 'Kampung Korea Bandung' 'Taman Kupu-Kupu Cihanjuang'\n",
            " 'Teras Cikapundung BBWS' 'Rainbow Garden' 'Monumen Bandung Lautan Api'\n",
            " 'Saung Angklung Mang Udjo' 'Curug Cipanas' 'Curug Tilu Leuwi Opat'\n",
            " 'Curug Aseupan' 'Sam Poo Kong Temple' 'Desa Wisata Lembah Kalipancur'\n",
            " ' Pantai Cipta' 'Taman Srigunting' 'Tugu Muda Semarang'\n",
            " 'Watu Gunung Ungaran' 'Kampoeng Kopi Banaran' 'Semarang Gallery'\n",
            " 'Kampoeng Rawa' 'Old City 3D Trick Art Museum' 'Benteng Pendem'\n",
            " 'Masjid Agung Ungaran' 'Museum Kereta Ambarawa' 'Taman Kasmaran'\n",
            " 'Wisata Alam Wana Wisata Penggaron' 'Lawang Sewu' 'Semarang Chinatown'\n",
            " 'Wisata Mangrove Tapak' 'Gua Maria Kerep Ambarawa' 'Kota Lama Semarang'\n",
            " 'Taman Bungkul' 'Patung Buddha Empat Rupa' 'Klenteng Sanggar Agung'\n",
            " 'Kebun Binatang Surabaya' 'Pantai Ria Kenjeran' 'Balai Kota Surabaya'\n",
            " '| Food Junction Grand Pakuwon' 'Taman Barunawati'\n",
            " 'Monumen Tugu Pahlawan' 'Patung Sura dan Buaya'\n",
            " 'Taman Air Mancur Menari Kenjeran'\n",
            " 'Museum Sepuluh Nopember Kota Surabaya' 'Hutan Bambu Keputih'\n",
            " 'Museum De Javasche Bank' 'Taman Kunang-Kunang' 'Taman Hiburan Rakyat'\n",
            " 'Surabaya Museum (Gedung Siola)']\n",
            "Destinasi 4:  [nan 'Pulau Pramuka'\n",
            " 'Museum Macan (Modern and Contemporary Art in Nusantara)'\n",
            " 'Perpustakaan Nasional' 'Museum Fatahillah' 'Wisata Kuliner Pecenongan'\n",
            " 'Pasar Petak Sembilan' 'Museum Taman Prasasti' 'Museum Layang-layang'\n",
            " 'Taman Cattleya' 'Taman Agrowisata Cilangkap' 'Bukit Lintang Sewu'\n",
            " 'Geoforest Watu Payung Turunan' 'Pantai Sundak' 'Pantai Nguluran'\n",
            " 'Embung Tambakboyo' 'Pantai Depok Jogja' 'Goa Pindul' 'Pantai Jogan'\n",
            " 'Seribu Batu Songgo Langit' 'Watu Lumbung'\n",
            " 'Bentara Budaya Yogyakarta (BBY)' 'Pintoe Langit Dahromo'\n",
            " 'The World Landmarks - Merapi Park Yogyakarta' 'Sudut Pandang Bandung'\n",
            " 'Curug Dago' 'Taman Film' 'Taman Sejarah Bandung'\n",
            " 'Kebun Tanaman Obat Sari Alam' 'Water Park Bandung Indah'\n",
            " 'Kiara Artha Park' 'Gua Pawon' 'Taman Vanda' 'Kota Mini'\n",
            " 'Museum Pos Indonesia' 'Tafso Barn' 'Taman Budaya Jawa Barat'\n",
            " 'Curug Anom' 'Taman Kasmaran' 'Taman Tabanas' 'Brown Canyon'\n",
            " 'Flower Farm Setiya Aji' 'Wisata Eling Bening'\n",
            " 'Semarang Contemporary Art Gallery' 'Museum Kereta Ambarawa'\n",
            " 'Kota Lama Semarang' 'La Kana Chapel' 'Pantai Cipta'\n",
            " 'Taman Flora Bratang Surabaya' 'Museum TNI AL Loka Jala Crana'\n",
            " 'Patung Buddha Empat Rupa' 'Atlantis Land Surabaya' 'Museum Mpu Tantular'\n",
            " 'Taman Mundu' 'Monumen Jalesveva Jayamahe'\n",
            " 'Monumen Bambu Runcing Surabaya' 'Museum Kesehatan Dr. Adhyatma'\n",
            " 'Taman Barunawati' 'Taman Ekspresi Dan Perpustakaan'\n",
            " 'Food Junction Grand Pakuwon' 'Taman Bungkul' 'Kebun Bibit Wonorejo']\n"
          ]
        }
      ]
    },
    {
      "cell_type": "markdown",
      "source": [
        "Berikut adalah hasil output untuk masing-masing kolom yang kamu tampilkan pada data `package_tourism`:\n",
        "\n",
        "1. **Banyak data**: Terdapat 100 data unik pada kolom `Package`.\n",
        "2. **Kota**: Ada 5 kota yang tercatat dalam data, yaitu:\n",
        "   - Jakarta\n",
        "   - Yogyakarta\n",
        "   - Bandung\n",
        "   - Semarang\n",
        "   - Surabaya\n",
        "3. **Destinasi 1**: Ini adalah daftar tempat wisata yang tercatat di kolom `Place_Tourism1`, antara lain:\n",
        "   - Pasar Tanah Abang\n",
        "   - Perpustakaan Nasional\n",
        "   - Pulau Tidung\n",
        "   - Museum Satria Mandala\n",
        "   - Waterboom PIK (Pantai Indah Kapuk)\n",
        "   - Alive Museum Ancol\n",
        "   - dan lain-lain.\n",
        "4. **Destinasi 2**: Ini adalah daftar tempat wisata yang tercatat di kolom `Place_Tourism2`, antara lain:\n",
        "   - Taman Ayodya\n",
        "   - Pasar Taman Puring\n",
        "   - Monas\n",
        "   - Pulau Bidadari\n",
        "   - Museum Wayang\n",
        "   - dan lain-lain.\n",
        "5. **Destinasi 3**: Ini adalah daftar tempat wisata yang tercatat di kolom `Place_Tourism3`, antara lain:\n",
        "   - Museum Tekstil\n",
        "   - Pasar Petak Sembilan\n",
        "   - Masjid Istiqlal\n",
        "   - Pulau Pari\n",
        "   - Museum Bahari Jakarta\n",
        "   - SnowBay Waterpark\n",
        "   - dan lain-lain.\n",
        "6. **Destinasi 4**: Ini adalah daftar tempat wisata yang tercatat di kolom `Place_Tourism4`, antara lain:\n",
        "   - Pulau Pramuka\n",
        "   - Museum Macan (Modern and Contemporary Art in Nusantara)\n",
        "   - Perpustakaan Nasional\n",
        "   - Museum Fatahillah\n",
        "   - Wisata Kuliner Pecenongan\n",
        "   - Pasar Petak Sembilan\n",
        "   - dan lain-lain.\n",
        "\n"
      ],
      "metadata": {
        "id": "KX8RD-aeXZ1I"
      }
    },
    {
      "cell_type": "markdown",
      "source": [
        "## Tourism Rating Variabel"
      ],
      "metadata": {
        "id": "79-Q3IrhSM6D"
      }
    },
    {
      "cell_type": "code",
      "source": [
        "tourism_rating.info()"
      ],
      "metadata": {
        "colab": {
          "base_uri": "https://localhost:8080/"
        },
        "id": "BtVe5sE5STrV",
        "outputId": "fed120d9-1501-4b14-88a5-071fd0c553d8"
      },
      "execution_count": null,
      "outputs": [
        {
          "output_type": "stream",
          "name": "stdout",
          "text": [
            "<class 'pandas.core.frame.DataFrame'>\n",
            "RangeIndex: 10000 entries, 0 to 9999\n",
            "Data columns (total 3 columns):\n",
            " #   Column         Non-Null Count  Dtype\n",
            "---  ------         --------------  -----\n",
            " 0   User_Id        10000 non-null  int64\n",
            " 1   Place_Id       10000 non-null  int64\n",
            " 2   Place_Ratings  10000 non-null  int64\n",
            "dtypes: int64(3)\n",
            "memory usage: 234.5 KB\n"
          ]
        }
      ]
    },
    {
      "cell_type": "markdown",
      "source": [
        "Berdasarkan hasil dari fungsi `info()` yang kamu tampilkan untuk DataFrame `tourism_rating`, berikut adalah informasi tentang struktur data tersebut:\n",
        "\n",
        "1. **Jumlah entri**: Terdapat 10.000 baris data, dengan indeks mulai dari 0 hingga 9999.\n",
        "2. **Kolom**:\n",
        "   - **User_Id**: Tipe data adalah `int64`, dengan 10.000 nilai non-null.\n",
        "   - **Place_Id**: Tipe data adalah `int64`, dengan 10.000 nilai non-null.\n",
        "   - **Place_Ratings**: Tipe data adalah `int64`, dengan 10.000 nilai non-null.\n",
        "3. **Tipe Data**: Semua kolom bertipe data `int64`.\n",
        "4. **Penggunaan Memori**: Memori yang digunakan oleh DataFrame ini adalah sekitar 234.5 KB.\n",
        "\n"
      ],
      "metadata": {
        "id": "IX3qu0eGXr01"
      }
    },
    {
      "cell_type": "code",
      "source": [
        "tourism_rating.head()"
      ],
      "metadata": {
        "colab": {
          "base_uri": "https://localhost:8080/",
          "height": 206
        },
        "id": "vbmYDxIpcKXP",
        "outputId": "a6fbfd51-e0f7-4e85-ac46-7528769d27e6"
      },
      "execution_count": null,
      "outputs": [
        {
          "output_type": "execute_result",
          "data": {
            "text/plain": [
              "   User_Id  Place_Id  Place_Ratings\n",
              "0        1       179              3\n",
              "1        1       344              2\n",
              "2        1         5              5\n",
              "3        1       373              3\n",
              "4        1       101              4"
            ],
            "text/html": [
              "\n",
              "  <div id=\"df-eb4e41bc-fbd7-4722-8610-bc6d8b1efdb3\" class=\"colab-df-container\">\n",
              "    <div>\n",
              "<style scoped>\n",
              "    .dataframe tbody tr th:only-of-type {\n",
              "        vertical-align: middle;\n",
              "    }\n",
              "\n",
              "    .dataframe tbody tr th {\n",
              "        vertical-align: top;\n",
              "    }\n",
              "\n",
              "    .dataframe thead th {\n",
              "        text-align: right;\n",
              "    }\n",
              "</style>\n",
              "<table border=\"1\" class=\"dataframe\">\n",
              "  <thead>\n",
              "    <tr style=\"text-align: right;\">\n",
              "      <th></th>\n",
              "      <th>User_Id</th>\n",
              "      <th>Place_Id</th>\n",
              "      <th>Place_Ratings</th>\n",
              "    </tr>\n",
              "  </thead>\n",
              "  <tbody>\n",
              "    <tr>\n",
              "      <th>0</th>\n",
              "      <td>1</td>\n",
              "      <td>179</td>\n",
              "      <td>3</td>\n",
              "    </tr>\n",
              "    <tr>\n",
              "      <th>1</th>\n",
              "      <td>1</td>\n",
              "      <td>344</td>\n",
              "      <td>2</td>\n",
              "    </tr>\n",
              "    <tr>\n",
              "      <th>2</th>\n",
              "      <td>1</td>\n",
              "      <td>5</td>\n",
              "      <td>5</td>\n",
              "    </tr>\n",
              "    <tr>\n",
              "      <th>3</th>\n",
              "      <td>1</td>\n",
              "      <td>373</td>\n",
              "      <td>3</td>\n",
              "    </tr>\n",
              "    <tr>\n",
              "      <th>4</th>\n",
              "      <td>1</td>\n",
              "      <td>101</td>\n",
              "      <td>4</td>\n",
              "    </tr>\n",
              "  </tbody>\n",
              "</table>\n",
              "</div>\n",
              "    <div class=\"colab-df-buttons\">\n",
              "\n",
              "  <div class=\"colab-df-container\">\n",
              "    <button class=\"colab-df-convert\" onclick=\"convertToInteractive('df-eb4e41bc-fbd7-4722-8610-bc6d8b1efdb3')\"\n",
              "            title=\"Convert this dataframe to an interactive table.\"\n",
              "            style=\"display:none;\">\n",
              "\n",
              "  <svg xmlns=\"http://www.w3.org/2000/svg\" height=\"24px\" viewBox=\"0 -960 960 960\">\n",
              "    <path d=\"M120-120v-720h720v720H120Zm60-500h600v-160H180v160Zm220 220h160v-160H400v160Zm0 220h160v-160H400v160ZM180-400h160v-160H180v160Zm440 0h160v-160H620v160ZM180-180h160v-160H180v160Zm440 0h160v-160H620v160Z\"/>\n",
              "  </svg>\n",
              "    </button>\n",
              "\n",
              "  <style>\n",
              "    .colab-df-container {\n",
              "      display:flex;\n",
              "      gap: 12px;\n",
              "    }\n",
              "\n",
              "    .colab-df-convert {\n",
              "      background-color: #E8F0FE;\n",
              "      border: none;\n",
              "      border-radius: 50%;\n",
              "      cursor: pointer;\n",
              "      display: none;\n",
              "      fill: #1967D2;\n",
              "      height: 32px;\n",
              "      padding: 0 0 0 0;\n",
              "      width: 32px;\n",
              "    }\n",
              "\n",
              "    .colab-df-convert:hover {\n",
              "      background-color: #E2EBFA;\n",
              "      box-shadow: 0px 1px 2px rgba(60, 64, 67, 0.3), 0px 1px 3px 1px rgba(60, 64, 67, 0.15);\n",
              "      fill: #174EA6;\n",
              "    }\n",
              "\n",
              "    .colab-df-buttons div {\n",
              "      margin-bottom: 4px;\n",
              "    }\n",
              "\n",
              "    [theme=dark] .colab-df-convert {\n",
              "      background-color: #3B4455;\n",
              "      fill: #D2E3FC;\n",
              "    }\n",
              "\n",
              "    [theme=dark] .colab-df-convert:hover {\n",
              "      background-color: #434B5C;\n",
              "      box-shadow: 0px 1px 3px 1px rgba(0, 0, 0, 0.15);\n",
              "      filter: drop-shadow(0px 1px 2px rgba(0, 0, 0, 0.3));\n",
              "      fill: #FFFFFF;\n",
              "    }\n",
              "  </style>\n",
              "\n",
              "    <script>\n",
              "      const buttonEl =\n",
              "        document.querySelector('#df-eb4e41bc-fbd7-4722-8610-bc6d8b1efdb3 button.colab-df-convert');\n",
              "      buttonEl.style.display =\n",
              "        google.colab.kernel.accessAllowed ? 'block' : 'none';\n",
              "\n",
              "      async function convertToInteractive(key) {\n",
              "        const element = document.querySelector('#df-eb4e41bc-fbd7-4722-8610-bc6d8b1efdb3');\n",
              "        const dataTable =\n",
              "          await google.colab.kernel.invokeFunction('convertToInteractive',\n",
              "                                                    [key], {});\n",
              "        if (!dataTable) return;\n",
              "\n",
              "        const docLinkHtml = 'Like what you see? Visit the ' +\n",
              "          '<a target=\"_blank\" href=https://colab.research.google.com/notebooks/data_table.ipynb>data table notebook</a>'\n",
              "          + ' to learn more about interactive tables.';\n",
              "        element.innerHTML = '';\n",
              "        dataTable['output_type'] = 'display_data';\n",
              "        await google.colab.output.renderOutput(dataTable, element);\n",
              "        const docLink = document.createElement('div');\n",
              "        docLink.innerHTML = docLinkHtml;\n",
              "        element.appendChild(docLink);\n",
              "      }\n",
              "    </script>\n",
              "  </div>\n",
              "\n",
              "\n",
              "<div id=\"df-937cff37-4fa4-43e5-9452-2ae0793c348d\">\n",
              "  <button class=\"colab-df-quickchart\" onclick=\"quickchart('df-937cff37-4fa4-43e5-9452-2ae0793c348d')\"\n",
              "            title=\"Suggest charts\"\n",
              "            style=\"display:none;\">\n",
              "\n",
              "<svg xmlns=\"http://www.w3.org/2000/svg\" height=\"24px\"viewBox=\"0 0 24 24\"\n",
              "     width=\"24px\">\n",
              "    <g>\n",
              "        <path d=\"M19 3H5c-1.1 0-2 .9-2 2v14c0 1.1.9 2 2 2h14c1.1 0 2-.9 2-2V5c0-1.1-.9-2-2-2zM9 17H7v-7h2v7zm4 0h-2V7h2v10zm4 0h-2v-4h2v4z\"/>\n",
              "    </g>\n",
              "</svg>\n",
              "  </button>\n",
              "\n",
              "<style>\n",
              "  .colab-df-quickchart {\n",
              "      --bg-color: #E8F0FE;\n",
              "      --fill-color: #1967D2;\n",
              "      --hover-bg-color: #E2EBFA;\n",
              "      --hover-fill-color: #174EA6;\n",
              "      --disabled-fill-color: #AAA;\n",
              "      --disabled-bg-color: #DDD;\n",
              "  }\n",
              "\n",
              "  [theme=dark] .colab-df-quickchart {\n",
              "      --bg-color: #3B4455;\n",
              "      --fill-color: #D2E3FC;\n",
              "      --hover-bg-color: #434B5C;\n",
              "      --hover-fill-color: #FFFFFF;\n",
              "      --disabled-bg-color: #3B4455;\n",
              "      --disabled-fill-color: #666;\n",
              "  }\n",
              "\n",
              "  .colab-df-quickchart {\n",
              "    background-color: var(--bg-color);\n",
              "    border: none;\n",
              "    border-radius: 50%;\n",
              "    cursor: pointer;\n",
              "    display: none;\n",
              "    fill: var(--fill-color);\n",
              "    height: 32px;\n",
              "    padding: 0;\n",
              "    width: 32px;\n",
              "  }\n",
              "\n",
              "  .colab-df-quickchart:hover {\n",
              "    background-color: var(--hover-bg-color);\n",
              "    box-shadow: 0 1px 2px rgba(60, 64, 67, 0.3), 0 1px 3px 1px rgba(60, 64, 67, 0.15);\n",
              "    fill: var(--button-hover-fill-color);\n",
              "  }\n",
              "\n",
              "  .colab-df-quickchart-complete:disabled,\n",
              "  .colab-df-quickchart-complete:disabled:hover {\n",
              "    background-color: var(--disabled-bg-color);\n",
              "    fill: var(--disabled-fill-color);\n",
              "    box-shadow: none;\n",
              "  }\n",
              "\n",
              "  .colab-df-spinner {\n",
              "    border: 2px solid var(--fill-color);\n",
              "    border-color: transparent;\n",
              "    border-bottom-color: var(--fill-color);\n",
              "    animation:\n",
              "      spin 1s steps(1) infinite;\n",
              "  }\n",
              "\n",
              "  @keyframes spin {\n",
              "    0% {\n",
              "      border-color: transparent;\n",
              "      border-bottom-color: var(--fill-color);\n",
              "      border-left-color: var(--fill-color);\n",
              "    }\n",
              "    20% {\n",
              "      border-color: transparent;\n",
              "      border-left-color: var(--fill-color);\n",
              "      border-top-color: var(--fill-color);\n",
              "    }\n",
              "    30% {\n",
              "      border-color: transparent;\n",
              "      border-left-color: var(--fill-color);\n",
              "      border-top-color: var(--fill-color);\n",
              "      border-right-color: var(--fill-color);\n",
              "    }\n",
              "    40% {\n",
              "      border-color: transparent;\n",
              "      border-right-color: var(--fill-color);\n",
              "      border-top-color: var(--fill-color);\n",
              "    }\n",
              "    60% {\n",
              "      border-color: transparent;\n",
              "      border-right-color: var(--fill-color);\n",
              "    }\n",
              "    80% {\n",
              "      border-color: transparent;\n",
              "      border-right-color: var(--fill-color);\n",
              "      border-bottom-color: var(--fill-color);\n",
              "    }\n",
              "    90% {\n",
              "      border-color: transparent;\n",
              "      border-bottom-color: var(--fill-color);\n",
              "    }\n",
              "  }\n",
              "</style>\n",
              "\n",
              "  <script>\n",
              "    async function quickchart(key) {\n",
              "      const quickchartButtonEl =\n",
              "        document.querySelector('#' + key + ' button');\n",
              "      quickchartButtonEl.disabled = true;  // To prevent multiple clicks.\n",
              "      quickchartButtonEl.classList.add('colab-df-spinner');\n",
              "      try {\n",
              "        const charts = await google.colab.kernel.invokeFunction(\n",
              "            'suggestCharts', [key], {});\n",
              "      } catch (error) {\n",
              "        console.error('Error during call to suggestCharts:', error);\n",
              "      }\n",
              "      quickchartButtonEl.classList.remove('colab-df-spinner');\n",
              "      quickchartButtonEl.classList.add('colab-df-quickchart-complete');\n",
              "    }\n",
              "    (() => {\n",
              "      let quickchartButtonEl =\n",
              "        document.querySelector('#df-937cff37-4fa4-43e5-9452-2ae0793c348d button');\n",
              "      quickchartButtonEl.style.display =\n",
              "        google.colab.kernel.accessAllowed ? 'block' : 'none';\n",
              "    })();\n",
              "  </script>\n",
              "</div>\n",
              "\n",
              "    </div>\n",
              "  </div>\n"
            ],
            "application/vnd.google.colaboratory.intrinsic+json": {
              "type": "dataframe",
              "variable_name": "tourism_rating",
              "summary": "{\n  \"name\": \"tourism_rating\",\n  \"rows\": 10000,\n  \"fields\": [\n    {\n      \"column\": \"User_Id\",\n      \"properties\": {\n        \"dtype\": \"number\",\n        \"std\": 86,\n        \"min\": 1,\n        \"max\": 300,\n        \"num_unique_values\": 300,\n        \"samples\": [\n          204,\n          267,\n          153\n        ],\n        \"semantic_type\": \"\",\n        \"description\": \"\"\n      }\n    },\n    {\n      \"column\": \"Place_Id\",\n      \"properties\": {\n        \"dtype\": \"number\",\n        \"std\": 126,\n        \"min\": 1,\n        \"max\": 437,\n        \"num_unique_values\": 437,\n        \"samples\": [\n          380,\n          237,\n          19\n        ],\n        \"semantic_type\": \"\",\n        \"description\": \"\"\n      }\n    },\n    {\n      \"column\": \"Place_Ratings\",\n      \"properties\": {\n        \"dtype\": \"number\",\n        \"std\": 1,\n        \"min\": 1,\n        \"max\": 5,\n        \"num_unique_values\": 5,\n        \"samples\": [\n          2,\n          1,\n          5\n        ],\n        \"semantic_type\": \"\",\n        \"description\": \"\"\n      }\n    }\n  ]\n}"
            }
          },
          "metadata": {},
          "execution_count": 52
        }
      ]
    },
    {
      "cell_type": "code",
      "source": [
        "print('Banyak tourist: ', len(tourism_rating.User_Id.unique()))\n",
        "print('Tempat: ', len(tourism_rating.Place_Id.unique()))\n",
        "print('Rating: ', len(tourism_rating.Place_Ratings.unique()))"
      ],
      "metadata": {
        "colab": {
          "base_uri": "https://localhost:8080/"
        },
        "id": "RaRzziH8Sfmm",
        "outputId": "17a23374-f674-4733-a192-727aa8976e3d"
      },
      "execution_count": 79,
      "outputs": [
        {
          "output_type": "stream",
          "name": "stdout",
          "text": [
            "Banyak tourist:  300\n",
            "Tempat:  437\n",
            "Rating:  5\n"
          ]
        }
      ]
    },
    {
      "cell_type": "markdown",
      "source": [
        "Berdasarkan hasil yang kamu dapatkan dari kode yang dieksekusi, berikut adalah penjelasan dari setiap output:\n",
        "\n",
        "1. **Banyak tourist: 300**  \n",
        "   Artinya ada 300 wisatawan (user) unik yang memberikan rating dalam dataset ini. Nilai ini diperoleh dari menghitung jumlah ID unik dalam kolom `User_Id`.\n",
        "\n",
        "2. **Tempat: 437**  \n",
        "   Ini menunjukkan bahwa ada 437 tempat yang telah mendapatkan rating dari para wisatawan. Nilai ini diperoleh dengan menghitung jumlah ID tempat unik dalam kolom `Place_Id`.\n",
        "\n",
        "3. **Rating: 5**  \n",
        "   Hasil ini menunjukkan bahwa rating yang diberikan oleh para wisatawan hanya mencakup 5 nilai unik, yang berarti sistem rating pada dataset ini mungkin menggunakan skala dari 1 hingga 5. Jadi, wisatawan hanya memberikan rating dalam rentang ini.\n",
        "\n"
      ],
      "metadata": {
        "id": "CqW1omv0YKPA"
      }
    },
    {
      "cell_type": "markdown",
      "source": [
        "### Tourism With Id Variabel"
      ],
      "metadata": {
        "id": "D6qaFCh9TR1V"
      }
    },
    {
      "cell_type": "code",
      "source": [
        "tourism_with_id.info()"
      ],
      "metadata": {
        "colab": {
          "base_uri": "https://localhost:8080/"
        },
        "id": "kGKhB6P_TUem",
        "outputId": "be01df3b-c004-4bbf-df43-632fc39c466f"
      },
      "execution_count": null,
      "outputs": [
        {
          "output_type": "stream",
          "name": "stdout",
          "text": [
            "<class 'pandas.core.frame.DataFrame'>\n",
            "RangeIndex: 437 entries, 0 to 436\n",
            "Data columns (total 13 columns):\n",
            " #   Column        Non-Null Count  Dtype  \n",
            "---  ------        --------------  -----  \n",
            " 0   Place_Id      437 non-null    int64  \n",
            " 1   Place_Name    437 non-null    object \n",
            " 2   Description   437 non-null    object \n",
            " 3   Category      437 non-null    object \n",
            " 4   City          437 non-null    object \n",
            " 5   Price         437 non-null    int64  \n",
            " 6   Rating        437 non-null    float64\n",
            " 7   Time_Minutes  205 non-null    float64\n",
            " 8   Coordinate    437 non-null    object \n",
            " 9   Lat           437 non-null    float64\n",
            " 10  Long          437 non-null    float64\n",
            " 11  Unnamed: 11   0 non-null      float64\n",
            " 12  Unnamed: 12   437 non-null    int64  \n",
            "dtypes: float64(5), int64(3), object(5)\n",
            "memory usage: 44.5+ KB\n"
          ]
        }
      ]
    },
    {
      "cell_type": "markdown",
      "source": [
        "Berdasarkan hasil yang diberikan, berikut adalah penjelasan dari dataset `tourism_with_id`:\n",
        "\n",
        "### Kolom dan Tipe Data:\n",
        "1. **Place_Id**: 437 entri, bertipe `int64`. Kolom ini menyimpan ID unik untuk setiap tempat.\n",
        "2. **Place_Name**: 437 entri, bertipe `object`. Nama tempat wisata.\n",
        "3. **Description**: 437 entri, bertipe `object`. Deskripsi mengenai tempat wisata tersebut.\n",
        "4. **Category**: 437 entri, bertipe `object`. Kategori tempat wisata, seperti alam, budaya, dll.\n",
        "5. **City**: 437 entri, bertipe `object`. Kota tempat tempat wisata tersebut berada.\n",
        "6. **Price**: 437 entri, bertipe `int64`. Harga untuk mengunjungi tempat wisata (mungkin tiket masuk).\n",
        "7. **Rating**: 437 entri, bertipe `float64`. Rating tempat wisata yang diberikan oleh pengunjung.\n",
        "8. **Time_Minutes**: 205 entri, bertipe `float64`. Waktu yang dibutuhkan untuk mengunjungi tempat wisata (dalam menit). Hanya 205 entri yang memiliki nilai di kolom ini, artinya banyak data yang hilang atau tidak tersedia.\n",
        "9. **Coordinate**: 437 entri, bertipe `object`. Koordinat geografis tempat wisata tersebut.\n",
        "10. **Lat**: 437 entri, bertipe `float64`. Latitude (garis lintang) untuk koordinat tempat wisata.\n",
        "11. **Long**: 437 entri, bertipe `float64`. Longitude (garis bujur) untuk koordinat tempat wisata.\n",
        "12. **Unnamed: 11**: 0 entri, bertipe `float64`. Kolom ini tidak memiliki data sama sekali (semua nilai null).\n",
        "13. **Unnamed: 12**: 437 entri, bertipe `int64`. Kolom ini tampaknya tidak memiliki nama yang jelas, mungkin kolom yang tidak terpakai atau tidak relevan.\n",
        ""
      ],
      "metadata": {
        "id": "CIeQ83vPYsy5"
      }
    },
    {
      "cell_type": "markdown",
      "source": [
        "### Menghapus Kolom yang Tidak Berguna"
      ],
      "metadata": {
        "id": "iO6P4RoSY5zF"
      }
    },
    {
      "cell_type": "code",
      "source": [
        "tourism_with_id = tourism_with_id.drop(columns=['Unnamed: 11', 'Unnamed: 12'])\n",
        "tourism_with_id.info()"
      ],
      "metadata": {
        "colab": {
          "base_uri": "https://localhost:8080/"
        },
        "id": "lsbqKVsgY_5z",
        "outputId": "88553ed5-6524-482f-e743-f8bd56b79d89"
      },
      "execution_count": 80,
      "outputs": [
        {
          "output_type": "stream",
          "name": "stdout",
          "text": [
            "<class 'pandas.core.frame.DataFrame'>\n",
            "RangeIndex: 437 entries, 0 to 436\n",
            "Data columns (total 12 columns):\n",
            " #   Column        Non-Null Count  Dtype  \n",
            "---  ------        --------------  -----  \n",
            " 0   Place_Id      437 non-null    int64  \n",
            " 1   Place_Name    437 non-null    object \n",
            " 2   Description   437 non-null    object \n",
            " 3   Category      437 non-null    object \n",
            " 4   City          437 non-null    object \n",
            " 5   Price         437 non-null    int64  \n",
            " 6   Rating        437 non-null    float64\n",
            " 7   Time_Minutes  205 non-null    float64\n",
            " 8   Coordinate    437 non-null    object \n",
            " 9   Lat           437 non-null    float64\n",
            " 10  Long          437 non-null    float64\n",
            " 11  Content       437 non-null    object \n",
            "dtypes: float64(4), int64(2), object(6)\n",
            "memory usage: 41.1+ KB\n"
          ]
        }
      ]
    },
    {
      "cell_type": "markdown",
      "source": [
        "Unnamed 11 dan 12 sudah dihilangkan"
      ],
      "metadata": {
        "id": "84nFNeBnZJ3E"
      }
    },
    {
      "cell_type": "markdown",
      "source": [
        "### Mengatasi Nilai Null pada Time_Minutes"
      ],
      "metadata": {
        "id": "YzbLPrZoZRWU"
      }
    },
    {
      "cell_type": "code",
      "source": [
        "# Mengisi nilai null pada Time_Minutes dengan median\n",
        "median_time = tourism_with_id['Time_Minutes'].median()\n",
        "tourism_with_id['Time_Minutes'] = tourism_with_id['Time_Minutes'].fillna(median_time)\n",
        "\n",
        "# Memeriksa kembali data setelah pengisian\n",
        "tourism_with_id.info()\n"
      ],
      "metadata": {
        "colab": {
          "base_uri": "https://localhost:8080/"
        },
        "id": "RY3wNTAtZU4j",
        "outputId": "34a7445a-7c61-4ecc-a1ec-7b5a9c72aa20"
      },
      "execution_count": 81,
      "outputs": [
        {
          "output_type": "stream",
          "name": "stdout",
          "text": [
            "<class 'pandas.core.frame.DataFrame'>\n",
            "RangeIndex: 437 entries, 0 to 436\n",
            "Data columns (total 12 columns):\n",
            " #   Column        Non-Null Count  Dtype  \n",
            "---  ------        --------------  -----  \n",
            " 0   Place_Id      437 non-null    int64  \n",
            " 1   Place_Name    437 non-null    object \n",
            " 2   Description   437 non-null    object \n",
            " 3   Category      437 non-null    object \n",
            " 4   City          437 non-null    object \n",
            " 5   Price         437 non-null    int64  \n",
            " 6   Rating        437 non-null    float64\n",
            " 7   Time_Minutes  437 non-null    float64\n",
            " 8   Coordinate    437 non-null    object \n",
            " 9   Lat           437 non-null    float64\n",
            " 10  Long          437 non-null    float64\n",
            " 11  Content       437 non-null    object \n",
            "dtypes: float64(4), int64(2), object(6)\n",
            "memory usage: 41.1+ KB\n"
          ]
        }
      ]
    },
    {
      "cell_type": "code",
      "source": [
        "tourism_with_id.head()"
      ],
      "metadata": {
        "colab": {
          "base_uri": "https://localhost:8080/",
          "height": 206
        },
        "id": "Bl9bh0u4cQRK",
        "outputId": "b90fec95-5b6a-419d-9f3f-cc00f37ca561"
      },
      "execution_count": 83,
      "outputs": [
        {
          "output_type": "execute_result",
          "data": {
            "text/plain": [
              "   Place_Id                         Place_Name  \\\n",
              "0         1                   Monumen Nasional   \n",
              "1         2                           Kota Tua   \n",
              "2         3                      Dunia Fantasi   \n",
              "3         4  Taman Mini Indonesia Indah (TMII)   \n",
              "4         5           Atlantis Water Adventure   \n",
              "\n",
              "                                         Description       Category     City  \\\n",
              "0  Monumen Nasional atau yang populer disingkat d...         Budaya  Jakarta   \n",
              "1  Kota tua di Jakarta, yang juga bernama Kota Tu...         Budaya  Jakarta   \n",
              "2  Dunia Fantasi atau disebut juga Dufan adalah t...  Taman Hiburan  Jakarta   \n",
              "3  Taman Mini Indonesia Indah merupakan suatu kaw...  Taman Hiburan  Jakarta   \n",
              "4  Atlantis Water Adventure atau dikenal dengan A...  Taman Hiburan  Jakarta   \n",
              "\n",
              "    Price  Rating  Time_Minutes  \\\n",
              "0   20000     4.6          15.0   \n",
              "1       0     4.6          90.0   \n",
              "2  270000     4.6         360.0   \n",
              "3   10000     4.5          60.0   \n",
              "4   94000     4.5          60.0   \n",
              "\n",
              "                                        Coordinate       Lat        Long  \\\n",
              "0          {'lat': -6.1753924, 'lng': 106.8271528} -6.175392  106.827153   \n",
              "1  {'lat': -6.137644799999999, 'lng': 106.8171245} -6.137645  106.817125   \n",
              "2  {'lat': -6.125312399999999, 'lng': 106.8335377} -6.125312  106.833538   \n",
              "3  {'lat': -6.302445899999999, 'lng': 106.8951559} -6.302446  106.895156   \n",
              "4             {'lat': -6.12419, 'lng': 106.839134} -6.124190  106.839134   \n",
              "\n",
              "                                             Content  \n",
              "0  Monumen Nasional atau yang populer disingkat d...  \n",
              "1  Kota tua di Jakarta, yang juga bernama Kota Tu...  \n",
              "2  Dunia Fantasi atau disebut juga Dufan adalah t...  \n",
              "3  Taman Mini Indonesia Indah merupakan suatu kaw...  \n",
              "4  Atlantis Water Adventure atau dikenal dengan A...  "
            ],
            "text/html": [
              "\n",
              "  <div id=\"df-0ef2943b-5ae7-4fd8-94a6-cb88397171df\" class=\"colab-df-container\">\n",
              "    <div>\n",
              "<style scoped>\n",
              "    .dataframe tbody tr th:only-of-type {\n",
              "        vertical-align: middle;\n",
              "    }\n",
              "\n",
              "    .dataframe tbody tr th {\n",
              "        vertical-align: top;\n",
              "    }\n",
              "\n",
              "    .dataframe thead th {\n",
              "        text-align: right;\n",
              "    }\n",
              "</style>\n",
              "<table border=\"1\" class=\"dataframe\">\n",
              "  <thead>\n",
              "    <tr style=\"text-align: right;\">\n",
              "      <th></th>\n",
              "      <th>Place_Id</th>\n",
              "      <th>Place_Name</th>\n",
              "      <th>Description</th>\n",
              "      <th>Category</th>\n",
              "      <th>City</th>\n",
              "      <th>Price</th>\n",
              "      <th>Rating</th>\n",
              "      <th>Time_Minutes</th>\n",
              "      <th>Coordinate</th>\n",
              "      <th>Lat</th>\n",
              "      <th>Long</th>\n",
              "      <th>Content</th>\n",
              "    </tr>\n",
              "  </thead>\n",
              "  <tbody>\n",
              "    <tr>\n",
              "      <th>0</th>\n",
              "      <td>1</td>\n",
              "      <td>Monumen Nasional</td>\n",
              "      <td>Monumen Nasional atau yang populer disingkat d...</td>\n",
              "      <td>Budaya</td>\n",
              "      <td>Jakarta</td>\n",
              "      <td>20000</td>\n",
              "      <td>4.6</td>\n",
              "      <td>15.0</td>\n",
              "      <td>{'lat': -6.1753924, 'lng': 106.8271528}</td>\n",
              "      <td>-6.175392</td>\n",
              "      <td>106.827153</td>\n",
              "      <td>Monumen Nasional atau yang populer disingkat d...</td>\n",
              "    </tr>\n",
              "    <tr>\n",
              "      <th>1</th>\n",
              "      <td>2</td>\n",
              "      <td>Kota Tua</td>\n",
              "      <td>Kota tua di Jakarta, yang juga bernama Kota Tu...</td>\n",
              "      <td>Budaya</td>\n",
              "      <td>Jakarta</td>\n",
              "      <td>0</td>\n",
              "      <td>4.6</td>\n",
              "      <td>90.0</td>\n",
              "      <td>{'lat': -6.137644799999999, 'lng': 106.8171245}</td>\n",
              "      <td>-6.137645</td>\n",
              "      <td>106.817125</td>\n",
              "      <td>Kota tua di Jakarta, yang juga bernama Kota Tu...</td>\n",
              "    </tr>\n",
              "    <tr>\n",
              "      <th>2</th>\n",
              "      <td>3</td>\n",
              "      <td>Dunia Fantasi</td>\n",
              "      <td>Dunia Fantasi atau disebut juga Dufan adalah t...</td>\n",
              "      <td>Taman Hiburan</td>\n",
              "      <td>Jakarta</td>\n",
              "      <td>270000</td>\n",
              "      <td>4.6</td>\n",
              "      <td>360.0</td>\n",
              "      <td>{'lat': -6.125312399999999, 'lng': 106.8335377}</td>\n",
              "      <td>-6.125312</td>\n",
              "      <td>106.833538</td>\n",
              "      <td>Dunia Fantasi atau disebut juga Dufan adalah t...</td>\n",
              "    </tr>\n",
              "    <tr>\n",
              "      <th>3</th>\n",
              "      <td>4</td>\n",
              "      <td>Taman Mini Indonesia Indah (TMII)</td>\n",
              "      <td>Taman Mini Indonesia Indah merupakan suatu kaw...</td>\n",
              "      <td>Taman Hiburan</td>\n",
              "      <td>Jakarta</td>\n",
              "      <td>10000</td>\n",
              "      <td>4.5</td>\n",
              "      <td>60.0</td>\n",
              "      <td>{'lat': -6.302445899999999, 'lng': 106.8951559}</td>\n",
              "      <td>-6.302446</td>\n",
              "      <td>106.895156</td>\n",
              "      <td>Taman Mini Indonesia Indah merupakan suatu kaw...</td>\n",
              "    </tr>\n",
              "    <tr>\n",
              "      <th>4</th>\n",
              "      <td>5</td>\n",
              "      <td>Atlantis Water Adventure</td>\n",
              "      <td>Atlantis Water Adventure atau dikenal dengan A...</td>\n",
              "      <td>Taman Hiburan</td>\n",
              "      <td>Jakarta</td>\n",
              "      <td>94000</td>\n",
              "      <td>4.5</td>\n",
              "      <td>60.0</td>\n",
              "      <td>{'lat': -6.12419, 'lng': 106.839134}</td>\n",
              "      <td>-6.124190</td>\n",
              "      <td>106.839134</td>\n",
              "      <td>Atlantis Water Adventure atau dikenal dengan A...</td>\n",
              "    </tr>\n",
              "  </tbody>\n",
              "</table>\n",
              "</div>\n",
              "    <div class=\"colab-df-buttons\">\n",
              "\n",
              "  <div class=\"colab-df-container\">\n",
              "    <button class=\"colab-df-convert\" onclick=\"convertToInteractive('df-0ef2943b-5ae7-4fd8-94a6-cb88397171df')\"\n",
              "            title=\"Convert this dataframe to an interactive table.\"\n",
              "            style=\"display:none;\">\n",
              "\n",
              "  <svg xmlns=\"http://www.w3.org/2000/svg\" height=\"24px\" viewBox=\"0 -960 960 960\">\n",
              "    <path d=\"M120-120v-720h720v720H120Zm60-500h600v-160H180v160Zm220 220h160v-160H400v160Zm0 220h160v-160H400v160ZM180-400h160v-160H180v160Zm440 0h160v-160H620v160ZM180-180h160v-160H180v160Zm440 0h160v-160H620v160Z\"/>\n",
              "  </svg>\n",
              "    </button>\n",
              "\n",
              "  <style>\n",
              "    .colab-df-container {\n",
              "      display:flex;\n",
              "      gap: 12px;\n",
              "    }\n",
              "\n",
              "    .colab-df-convert {\n",
              "      background-color: #E8F0FE;\n",
              "      border: none;\n",
              "      border-radius: 50%;\n",
              "      cursor: pointer;\n",
              "      display: none;\n",
              "      fill: #1967D2;\n",
              "      height: 32px;\n",
              "      padding: 0 0 0 0;\n",
              "      width: 32px;\n",
              "    }\n",
              "\n",
              "    .colab-df-convert:hover {\n",
              "      background-color: #E2EBFA;\n",
              "      box-shadow: 0px 1px 2px rgba(60, 64, 67, 0.3), 0px 1px 3px 1px rgba(60, 64, 67, 0.15);\n",
              "      fill: #174EA6;\n",
              "    }\n",
              "\n",
              "    .colab-df-buttons div {\n",
              "      margin-bottom: 4px;\n",
              "    }\n",
              "\n",
              "    [theme=dark] .colab-df-convert {\n",
              "      background-color: #3B4455;\n",
              "      fill: #D2E3FC;\n",
              "    }\n",
              "\n",
              "    [theme=dark] .colab-df-convert:hover {\n",
              "      background-color: #434B5C;\n",
              "      box-shadow: 0px 1px 3px 1px rgba(0, 0, 0, 0.15);\n",
              "      filter: drop-shadow(0px 1px 2px rgba(0, 0, 0, 0.3));\n",
              "      fill: #FFFFFF;\n",
              "    }\n",
              "  </style>\n",
              "\n",
              "    <script>\n",
              "      const buttonEl =\n",
              "        document.querySelector('#df-0ef2943b-5ae7-4fd8-94a6-cb88397171df button.colab-df-convert');\n",
              "      buttonEl.style.display =\n",
              "        google.colab.kernel.accessAllowed ? 'block' : 'none';\n",
              "\n",
              "      async function convertToInteractive(key) {\n",
              "        const element = document.querySelector('#df-0ef2943b-5ae7-4fd8-94a6-cb88397171df');\n",
              "        const dataTable =\n",
              "          await google.colab.kernel.invokeFunction('convertToInteractive',\n",
              "                                                    [key], {});\n",
              "        if (!dataTable) return;\n",
              "\n",
              "        const docLinkHtml = 'Like what you see? Visit the ' +\n",
              "          '<a target=\"_blank\" href=https://colab.research.google.com/notebooks/data_table.ipynb>data table notebook</a>'\n",
              "          + ' to learn more about interactive tables.';\n",
              "        element.innerHTML = '';\n",
              "        dataTable['output_type'] = 'display_data';\n",
              "        await google.colab.output.renderOutput(dataTable, element);\n",
              "        const docLink = document.createElement('div');\n",
              "        docLink.innerHTML = docLinkHtml;\n",
              "        element.appendChild(docLink);\n",
              "      }\n",
              "    </script>\n",
              "  </div>\n",
              "\n",
              "\n",
              "<div id=\"df-7ddadb18-ecf0-4578-94cf-a4434ee1996b\">\n",
              "  <button class=\"colab-df-quickchart\" onclick=\"quickchart('df-7ddadb18-ecf0-4578-94cf-a4434ee1996b')\"\n",
              "            title=\"Suggest charts\"\n",
              "            style=\"display:none;\">\n",
              "\n",
              "<svg xmlns=\"http://www.w3.org/2000/svg\" height=\"24px\"viewBox=\"0 0 24 24\"\n",
              "     width=\"24px\">\n",
              "    <g>\n",
              "        <path d=\"M19 3H5c-1.1 0-2 .9-2 2v14c0 1.1.9 2 2 2h14c1.1 0 2-.9 2-2V5c0-1.1-.9-2-2-2zM9 17H7v-7h2v7zm4 0h-2V7h2v10zm4 0h-2v-4h2v4z\"/>\n",
              "    </g>\n",
              "</svg>\n",
              "  </button>\n",
              "\n",
              "<style>\n",
              "  .colab-df-quickchart {\n",
              "      --bg-color: #E8F0FE;\n",
              "      --fill-color: #1967D2;\n",
              "      --hover-bg-color: #E2EBFA;\n",
              "      --hover-fill-color: #174EA6;\n",
              "      --disabled-fill-color: #AAA;\n",
              "      --disabled-bg-color: #DDD;\n",
              "  }\n",
              "\n",
              "  [theme=dark] .colab-df-quickchart {\n",
              "      --bg-color: #3B4455;\n",
              "      --fill-color: #D2E3FC;\n",
              "      --hover-bg-color: #434B5C;\n",
              "      --hover-fill-color: #FFFFFF;\n",
              "      --disabled-bg-color: #3B4455;\n",
              "      --disabled-fill-color: #666;\n",
              "  }\n",
              "\n",
              "  .colab-df-quickchart {\n",
              "    background-color: var(--bg-color);\n",
              "    border: none;\n",
              "    border-radius: 50%;\n",
              "    cursor: pointer;\n",
              "    display: none;\n",
              "    fill: var(--fill-color);\n",
              "    height: 32px;\n",
              "    padding: 0;\n",
              "    width: 32px;\n",
              "  }\n",
              "\n",
              "  .colab-df-quickchart:hover {\n",
              "    background-color: var(--hover-bg-color);\n",
              "    box-shadow: 0 1px 2px rgba(60, 64, 67, 0.3), 0 1px 3px 1px rgba(60, 64, 67, 0.15);\n",
              "    fill: var(--button-hover-fill-color);\n",
              "  }\n",
              "\n",
              "  .colab-df-quickchart-complete:disabled,\n",
              "  .colab-df-quickchart-complete:disabled:hover {\n",
              "    background-color: var(--disabled-bg-color);\n",
              "    fill: var(--disabled-fill-color);\n",
              "    box-shadow: none;\n",
              "  }\n",
              "\n",
              "  .colab-df-spinner {\n",
              "    border: 2px solid var(--fill-color);\n",
              "    border-color: transparent;\n",
              "    border-bottom-color: var(--fill-color);\n",
              "    animation:\n",
              "      spin 1s steps(1) infinite;\n",
              "  }\n",
              "\n",
              "  @keyframes spin {\n",
              "    0% {\n",
              "      border-color: transparent;\n",
              "      border-bottom-color: var(--fill-color);\n",
              "      border-left-color: var(--fill-color);\n",
              "    }\n",
              "    20% {\n",
              "      border-color: transparent;\n",
              "      border-left-color: var(--fill-color);\n",
              "      border-top-color: var(--fill-color);\n",
              "    }\n",
              "    30% {\n",
              "      border-color: transparent;\n",
              "      border-left-color: var(--fill-color);\n",
              "      border-top-color: var(--fill-color);\n",
              "      border-right-color: var(--fill-color);\n",
              "    }\n",
              "    40% {\n",
              "      border-color: transparent;\n",
              "      border-right-color: var(--fill-color);\n",
              "      border-top-color: var(--fill-color);\n",
              "    }\n",
              "    60% {\n",
              "      border-color: transparent;\n",
              "      border-right-color: var(--fill-color);\n",
              "    }\n",
              "    80% {\n",
              "      border-color: transparent;\n",
              "      border-right-color: var(--fill-color);\n",
              "      border-bottom-color: var(--fill-color);\n",
              "    }\n",
              "    90% {\n",
              "      border-color: transparent;\n",
              "      border-bottom-color: var(--fill-color);\n",
              "    }\n",
              "  }\n",
              "</style>\n",
              "\n",
              "  <script>\n",
              "    async function quickchart(key) {\n",
              "      const quickchartButtonEl =\n",
              "        document.querySelector('#' + key + ' button');\n",
              "      quickchartButtonEl.disabled = true;  // To prevent multiple clicks.\n",
              "      quickchartButtonEl.classList.add('colab-df-spinner');\n",
              "      try {\n",
              "        const charts = await google.colab.kernel.invokeFunction(\n",
              "            'suggestCharts', [key], {});\n",
              "      } catch (error) {\n",
              "        console.error('Error during call to suggestCharts:', error);\n",
              "      }\n",
              "      quickchartButtonEl.classList.remove('colab-df-spinner');\n",
              "      quickchartButtonEl.classList.add('colab-df-quickchart-complete');\n",
              "    }\n",
              "    (() => {\n",
              "      let quickchartButtonEl =\n",
              "        document.querySelector('#df-7ddadb18-ecf0-4578-94cf-a4434ee1996b button');\n",
              "      quickchartButtonEl.style.display =\n",
              "        google.colab.kernel.accessAllowed ? 'block' : 'none';\n",
              "    })();\n",
              "  </script>\n",
              "</div>\n",
              "\n",
              "    </div>\n",
              "  </div>\n"
            ],
            "application/vnd.google.colaboratory.intrinsic+json": {
              "type": "dataframe",
              "variable_name": "tourism_with_id",
              "summary": "{\n  \"name\": \"tourism_with_id\",\n  \"rows\": 437,\n  \"fields\": [\n    {\n      \"column\": \"Place_Id\",\n      \"properties\": {\n        \"dtype\": \"number\",\n        \"std\": 126,\n        \"min\": 1,\n        \"max\": 437,\n        \"num_unique_values\": 437,\n        \"samples\": [\n          396,\n          79,\n          279\n        ],\n        \"semantic_type\": \"\",\n        \"description\": \"\"\n      }\n    },\n    {\n      \"column\": \"Place_Name\",\n      \"properties\": {\n        \"dtype\": \"string\",\n        \"num_unique_values\": 437,\n        \"samples\": [\n          \"Monumen Kapal Selam\",\n          \"Taman Spathodea\",\n          \"Masjid Agung Trans Studio Bandung\"\n        ],\n        \"semantic_type\": \"\",\n        \"description\": \"\"\n      }\n    },\n    {\n      \"column\": \"Description\",\n      \"properties\": {\n        \"dtype\": \"string\",\n        \"num_unique_values\": 437,\n        \"samples\": [\n          \"Monumen Kapal Selam, atau disingkat Monkasel, adalah sebuah museum kapal selam yang terdapat di Embong Kaliasin, Genteng, Surabaya. Terletak di pusat kota, monumen ini sebenarnya merupakan kapal selam KRI Pasopati 410, salah satu armada Angkatan Laut Republik Indonesia buatan Uni Soviet tahun 1952. Kapal selam ini pernah dilibatkan dalam Pertempuran Laut Aru untuk membebaskan Irian Barat dari pendudukan Belanda.\\\\nKapal selam ini kemudian dibawa ke darat dan dijadikan monumen untuk memperingati keberanian pahlawan Indonesia. Monkasel berada di Jalan Pemuda, tepat di sebelah Plaza Surabaya. Selain interior kapal selam, di sini juga diadakan pemutaran film tentang proses peperangan yang terjadi di Laut Aru. Jika ingin mengunjungi tempat wisata ini, maka akan ditemani oleh seorang pemandu lokal yang terdapat di sana.\\\\nAda cerita unik di balik hadirnya monumen Kapal Selam ini. Pada suatu malam Pak Drajat Budiyanto yang merupakan mantan KKM KRI Pasopati 410 (buatan Rusia) ini dan juga mantan KKM KRI Cakra 401 (buatan Jerman Barat), bermimpi diperintahkan oleh KSAL pada waktu itu untuk membawa kapal selam ini melayari Kali Mas. Ternyata mimpi itu menjadi kenyataan. Dia ditugaskan untuk memajang kapal selam di samping Surabaya Plaza. Caranya dengan memotong kapal selam ini menjadi beberapa bagian, kemudian diangkut ke darat, dan dirangkai dan disambung kembali menjadi kapal selam yang utuh.\",\n          \"Objek Wisata Taman Spathodea di Jagakarsa DKI Jakarta Selatan Jakarta adalah salah satu tempat wisata yang berada di Jl. Kebagusan Raya, Kecamatan Jagakarsa, Kota Jakarta Selatan, Daerah Khusus Ibukota Jakarta, Indonesia. Objek Wisata Taman Spathodea di Jagakarsa DKI Jakarta Selatan Jakarta adalah tempat wisata yang ramai dengan wisatawan pada hari biasa maupun saat liburan. Yang menjadi daya tarik Taman Spathodea memiliki banyak jenis tanaman yang ditanam baik pepohonan dan bunga-bunga yang menghiasi area taman. Ada danau kecil yang berada ditengah taman akan membuat nyaman pengunjung. Banyak Fasilitas umum juga tersedia di Taman Spathodea seperti misalnya lintasan jogging, kolam ikan, outdoor gym, taman bermain untuk anak-anak, toilet, parkiran yang cukup luas dan tempat duduk yang cukup nyaman. Taman Spathodea ini hanya buka mulai pukul 05.00 \\u2013 18.00 WIB jadi kalo sudah mulai malam taman ini akan ditutup untuk umum.\",\n          \"Masjid Agung Trans Studio Bandung (TSB) berdiri megah. Rumah ibadah seluas 4.000 meter persegi bergaya Timur Tengah ini menjadi oase di tengah-tengah pusat perbelanjaan dan tempat rekreasi. konsep masjid modern yang mengadopsi ala Timur Tengah ini berdasarkan arahan Chairul Tanjung (CT), selaku pemiki CT Corp. Dia langsung menerawang guna mewujudkan desain Masjid Agung TSB yang kental dengan sentuhan Masjid Nabawi.\"\n        ],\n        \"semantic_type\": \"\",\n        \"description\": \"\"\n      }\n    },\n    {\n      \"column\": \"Category\",\n      \"properties\": {\n        \"dtype\": \"category\",\n        \"num_unique_values\": 6,\n        \"samples\": [\n          \"Budaya\",\n          \"Taman Hiburan\",\n          \"Tempat Ibadah\"\n        ],\n        \"semantic_type\": \"\",\n        \"description\": \"\"\n      }\n    },\n    {\n      \"column\": \"City\",\n      \"properties\": {\n        \"dtype\": \"category\",\n        \"num_unique_values\": 5,\n        \"samples\": [\n          \"Yogyakarta\",\n          \"Surabaya\",\n          \"Bandung\"\n        ],\n        \"semantic_type\": \"\",\n        \"description\": \"\"\n      }\n    },\n    {\n      \"column\": \"Price\",\n      \"properties\": {\n        \"dtype\": \"number\",\n        \"std\": 66446,\n        \"min\": 0,\n        \"max\": 900000,\n        \"num_unique_values\": 50,\n        \"samples\": [\n          185000,\n          81000,\n          7000\n        ],\n        \"semantic_type\": \"\",\n        \"description\": \"\"\n      }\n    },\n    {\n      \"column\": \"Rating\",\n      \"properties\": {\n        \"dtype\": \"number\",\n        \"std\": 0.2085873964321152,\n        \"min\": 3.4,\n        \"max\": 5.0,\n        \"num_unique_values\": 14,\n        \"samples\": [\n          4.1,\n          3.9,\n          4.6\n        ],\n        \"semantic_type\": \"\",\n        \"description\": \"\"\n      }\n    },\n    {\n      \"column\": \"Time_Minutes\",\n      \"properties\": {\n        \"dtype\": \"number\",\n        \"std\": 37.88909159117369,\n        \"min\": 10.0,\n        \"max\": 360.0,\n        \"num_unique_values\": 15,\n        \"samples\": [\n          180.0,\n          240.0,\n          15.0\n        ],\n        \"semantic_type\": \"\",\n        \"description\": \"\"\n      }\n    },\n    {\n      \"column\": \"Coordinate\",\n      \"properties\": {\n        \"dtype\": \"string\",\n        \"num_unique_values\": 437,\n        \"samples\": [\n          \"{'lat': -7.2654304, 'lng': 112.7503052}\",\n          \"{'lat': -6.3226133, 'lng': 106.8241871}\",\n          \"{'lat': -6.925963500000001, 'lng': 107.6354278}\"\n        ],\n        \"semantic_type\": \"\",\n        \"description\": \"\"\n      }\n    },\n    {\n      \"column\": \"Lat\",\n      \"properties\": {\n        \"dtype\": \"number\",\n        \"std\": 0.7272412184795901,\n        \"min\": -8.1978943,\n        \"max\": 1.07888,\n        \"num_unique_values\": 437,\n        \"samples\": [\n          -7.2654304,\n          -6.3226133,\n          -6.9259635\n        ],\n        \"semantic_type\": \"\",\n        \"description\": \"\"\n      }\n    },\n    {\n      \"column\": \"Long\",\n      \"properties\": {\n        \"dtype\": \"number\",\n        \"std\": 1.9628479600673732,\n        \"min\": 103.931398,\n        \"max\": 112.8216622,\n        \"num_unique_values\": 437,\n        \"samples\": [\n          112.7503052,\n          106.8241871,\n          107.6354278\n        ],\n        \"semantic_type\": \"\",\n        \"description\": \"\"\n      }\n    },\n    {\n      \"column\": \"Content\",\n      \"properties\": {\n        \"dtype\": \"string\",\n        \"num_unique_values\": 437,\n        \"samples\": [\n          \"Monumen Kapal Selam, atau disingkat Monkasel, adalah sebuah museum kapal selam yang terdapat di Embong Kaliasin, Genteng, Surabaya. Terletak di pusat kota, monumen ini sebenarnya merupakan kapal selam KRI Pasopati 410, salah satu armada Angkatan Laut Republik Indonesia buatan Uni Soviet tahun 1952. Kapal selam ini pernah dilibatkan dalam Pertempuran Laut Aru untuk membebaskan Irian Barat dari pendudukan Belanda.\\\\nKapal selam ini kemudian dibawa ke darat dan dijadikan monumen untuk memperingati keberanian pahlawan Indonesia. Monkasel berada di Jalan Pemuda, tepat di sebelah Plaza Surabaya. Selain interior kapal selam, di sini juga diadakan pemutaran film tentang proses peperangan yang terjadi di Laut Aru. Jika ingin mengunjungi tempat wisata ini, maka akan ditemani oleh seorang pemandu lokal yang terdapat di sana.\\\\nAda cerita unik di balik hadirnya monumen Kapal Selam ini. Pada suatu malam Pak Drajat Budiyanto yang merupakan mantan KKM KRI Pasopati 410 (buatan Rusia) ini dan juga mantan KKM KRI Cakra 401 (buatan Jerman Barat), bermimpi diperintahkan oleh KSAL pada waktu itu untuk membawa kapal selam ini melayari Kali Mas. Ternyata mimpi itu menjadi kenyataan. Dia ditugaskan untuk memajang kapal selam di samping Surabaya Plaza. Caranya dengan memotong kapal selam ini menjadi beberapa bagian, kemudian diangkut ke darat, dan dirangkai dan disambung kembali menjadi kapal selam yang utuh. Budaya\",\n          \"Objek Wisata Taman Spathodea di Jagakarsa DKI Jakarta Selatan Jakarta adalah salah satu tempat wisata yang berada di Jl. Kebagusan Raya, Kecamatan Jagakarsa, Kota Jakarta Selatan, Daerah Khusus Ibukota Jakarta, Indonesia. Objek Wisata Taman Spathodea di Jagakarsa DKI Jakarta Selatan Jakarta adalah tempat wisata yang ramai dengan wisatawan pada hari biasa maupun saat liburan. Yang menjadi daya tarik Taman Spathodea memiliki banyak jenis tanaman yang ditanam baik pepohonan dan bunga-bunga yang menghiasi area taman. Ada danau kecil yang berada ditengah taman akan membuat nyaman pengunjung. Banyak Fasilitas umum juga tersedia di Taman Spathodea seperti misalnya lintasan jogging, kolam ikan, outdoor gym, taman bermain untuk anak-anak, toilet, parkiran yang cukup luas dan tempat duduk yang cukup nyaman. Taman Spathodea ini hanya buka mulai pukul 05.00 \\u2013 18.00 WIB jadi kalo sudah mulai malam taman ini akan ditutup untuk umum. Taman Hiburan\",\n          \"Masjid Agung Trans Studio Bandung (TSB) berdiri megah. Rumah ibadah seluas 4.000 meter persegi bergaya Timur Tengah ini menjadi oase di tengah-tengah pusat perbelanjaan dan tempat rekreasi. konsep masjid modern yang mengadopsi ala Timur Tengah ini berdasarkan arahan Chairul Tanjung (CT), selaku pemiki CT Corp. Dia langsung menerawang guna mewujudkan desain Masjid Agung TSB yang kental dengan sentuhan Masjid Nabawi. Tempat Ibadah\"\n        ],\n        \"semantic_type\": \"\",\n        \"description\": \"\"\n      }\n    }\n  ]\n}"
            }
          },
          "metadata": {},
          "execution_count": 83
        }
      ]
    },
    {
      "cell_type": "markdown",
      "source": [
        "## User"
      ],
      "metadata": {
        "id": "-2BEszPcWZQU"
      }
    },
    {
      "cell_type": "code",
      "source": [
        "user.info()"
      ],
      "metadata": {
        "colab": {
          "base_uri": "https://localhost:8080/"
        },
        "id": "jNXe4l75U3Z6",
        "outputId": "768279af-8019-4039-f740-d29b596de2fe"
      },
      "execution_count": null,
      "outputs": [
        {
          "output_type": "stream",
          "name": "stdout",
          "text": [
            "<class 'pandas.core.frame.DataFrame'>\n",
            "RangeIndex: 300 entries, 0 to 299\n",
            "Data columns (total 3 columns):\n",
            " #   Column    Non-Null Count  Dtype \n",
            "---  ------    --------------  ----- \n",
            " 0   User_Id   300 non-null    int64 \n",
            " 1   Location  300 non-null    object\n",
            " 2   Age       300 non-null    int64 \n",
            "dtypes: int64(2), object(1)\n",
            "memory usage: 7.2+ KB\n"
          ]
        }
      ]
    },
    {
      "cell_type": "markdown",
      "source": [
        "Dataset ini terdiri dari 300 entri dengan tiga kolom: `User_Id`, `Location`, dan `Age`. Setiap kolom tidak memiliki nilai yang hilang (Non-Null Count = 300) dan terdiri dari data yang konsisten, yaitu `User_Id` sebagai ID unik pengguna dengan tipe integer, `Location` berisi nama lokasi pengguna dalam format string, dan `Age` yang menunjukkan usia pengguna dalam tipe integer. Semua data tampaknya bersih dari missing values dan tidak ada duplikasi yang terdeteksi. Namun, perlu diperiksa lebih lanjut untuk memastikan konsistensi penulisan lokasi dan kevalidan nilai usia."
      ],
      "metadata": {
        "id": "82E0b2CbZ8Hb"
      }
    },
    {
      "cell_type": "code",
      "source": [
        "user.head()"
      ],
      "metadata": {
        "colab": {
          "base_uri": "https://localhost:8080/",
          "height": 206
        },
        "id": "NFKFr_lZcWsx",
        "outputId": "4646144b-112f-4f1c-8223-0a3aa4b314bd"
      },
      "execution_count": 84,
      "outputs": [
        {
          "output_type": "execute_result",
          "data": {
            "text/plain": [
              "   User_Id                   Location  Age\n",
              "0        1      Semarang, Jawa Tengah   20\n",
              "1        2         Bekasi, Jawa Barat   21\n",
              "2        3        Cirebon, Jawa Barat   23\n",
              "3        4         Bekasi, Jawa Barat   21\n",
              "4        5  Lampung, Sumatera Selatan   20"
            ],
            "text/html": [
              "\n",
              "  <div id=\"df-2b4ce43d-952e-456e-9c26-c89379ace047\" class=\"colab-df-container\">\n",
              "    <div>\n",
              "<style scoped>\n",
              "    .dataframe tbody tr th:only-of-type {\n",
              "        vertical-align: middle;\n",
              "    }\n",
              "\n",
              "    .dataframe tbody tr th {\n",
              "        vertical-align: top;\n",
              "    }\n",
              "\n",
              "    .dataframe thead th {\n",
              "        text-align: right;\n",
              "    }\n",
              "</style>\n",
              "<table border=\"1\" class=\"dataframe\">\n",
              "  <thead>\n",
              "    <tr style=\"text-align: right;\">\n",
              "      <th></th>\n",
              "      <th>User_Id</th>\n",
              "      <th>Location</th>\n",
              "      <th>Age</th>\n",
              "    </tr>\n",
              "  </thead>\n",
              "  <tbody>\n",
              "    <tr>\n",
              "      <th>0</th>\n",
              "      <td>1</td>\n",
              "      <td>Semarang, Jawa Tengah</td>\n",
              "      <td>20</td>\n",
              "    </tr>\n",
              "    <tr>\n",
              "      <th>1</th>\n",
              "      <td>2</td>\n",
              "      <td>Bekasi, Jawa Barat</td>\n",
              "      <td>21</td>\n",
              "    </tr>\n",
              "    <tr>\n",
              "      <th>2</th>\n",
              "      <td>3</td>\n",
              "      <td>Cirebon, Jawa Barat</td>\n",
              "      <td>23</td>\n",
              "    </tr>\n",
              "    <tr>\n",
              "      <th>3</th>\n",
              "      <td>4</td>\n",
              "      <td>Bekasi, Jawa Barat</td>\n",
              "      <td>21</td>\n",
              "    </tr>\n",
              "    <tr>\n",
              "      <th>4</th>\n",
              "      <td>5</td>\n",
              "      <td>Lampung, Sumatera Selatan</td>\n",
              "      <td>20</td>\n",
              "    </tr>\n",
              "  </tbody>\n",
              "</table>\n",
              "</div>\n",
              "    <div class=\"colab-df-buttons\">\n",
              "\n",
              "  <div class=\"colab-df-container\">\n",
              "    <button class=\"colab-df-convert\" onclick=\"convertToInteractive('df-2b4ce43d-952e-456e-9c26-c89379ace047')\"\n",
              "            title=\"Convert this dataframe to an interactive table.\"\n",
              "            style=\"display:none;\">\n",
              "\n",
              "  <svg xmlns=\"http://www.w3.org/2000/svg\" height=\"24px\" viewBox=\"0 -960 960 960\">\n",
              "    <path d=\"M120-120v-720h720v720H120Zm60-500h600v-160H180v160Zm220 220h160v-160H400v160Zm0 220h160v-160H400v160ZM180-400h160v-160H180v160Zm440 0h160v-160H620v160ZM180-180h160v-160H180v160Zm440 0h160v-160H620v160Z\"/>\n",
              "  </svg>\n",
              "    </button>\n",
              "\n",
              "  <style>\n",
              "    .colab-df-container {\n",
              "      display:flex;\n",
              "      gap: 12px;\n",
              "    }\n",
              "\n",
              "    .colab-df-convert {\n",
              "      background-color: #E8F0FE;\n",
              "      border: none;\n",
              "      border-radius: 50%;\n",
              "      cursor: pointer;\n",
              "      display: none;\n",
              "      fill: #1967D2;\n",
              "      height: 32px;\n",
              "      padding: 0 0 0 0;\n",
              "      width: 32px;\n",
              "    }\n",
              "\n",
              "    .colab-df-convert:hover {\n",
              "      background-color: #E2EBFA;\n",
              "      box-shadow: 0px 1px 2px rgba(60, 64, 67, 0.3), 0px 1px 3px 1px rgba(60, 64, 67, 0.15);\n",
              "      fill: #174EA6;\n",
              "    }\n",
              "\n",
              "    .colab-df-buttons div {\n",
              "      margin-bottom: 4px;\n",
              "    }\n",
              "\n",
              "    [theme=dark] .colab-df-convert {\n",
              "      background-color: #3B4455;\n",
              "      fill: #D2E3FC;\n",
              "    }\n",
              "\n",
              "    [theme=dark] .colab-df-convert:hover {\n",
              "      background-color: #434B5C;\n",
              "      box-shadow: 0px 1px 3px 1px rgba(0, 0, 0, 0.15);\n",
              "      filter: drop-shadow(0px 1px 2px rgba(0, 0, 0, 0.3));\n",
              "      fill: #FFFFFF;\n",
              "    }\n",
              "  </style>\n",
              "\n",
              "    <script>\n",
              "      const buttonEl =\n",
              "        document.querySelector('#df-2b4ce43d-952e-456e-9c26-c89379ace047 button.colab-df-convert');\n",
              "      buttonEl.style.display =\n",
              "        google.colab.kernel.accessAllowed ? 'block' : 'none';\n",
              "\n",
              "      async function convertToInteractive(key) {\n",
              "        const element = document.querySelector('#df-2b4ce43d-952e-456e-9c26-c89379ace047');\n",
              "        const dataTable =\n",
              "          await google.colab.kernel.invokeFunction('convertToInteractive',\n",
              "                                                    [key], {});\n",
              "        if (!dataTable) return;\n",
              "\n",
              "        const docLinkHtml = 'Like what you see? Visit the ' +\n",
              "          '<a target=\"_blank\" href=https://colab.research.google.com/notebooks/data_table.ipynb>data table notebook</a>'\n",
              "          + ' to learn more about interactive tables.';\n",
              "        element.innerHTML = '';\n",
              "        dataTable['output_type'] = 'display_data';\n",
              "        await google.colab.output.renderOutput(dataTable, element);\n",
              "        const docLink = document.createElement('div');\n",
              "        docLink.innerHTML = docLinkHtml;\n",
              "        element.appendChild(docLink);\n",
              "      }\n",
              "    </script>\n",
              "  </div>\n",
              "\n",
              "\n",
              "<div id=\"df-5c37dabe-acd0-4e16-91b3-dfb8fc3b4b97\">\n",
              "  <button class=\"colab-df-quickchart\" onclick=\"quickchart('df-5c37dabe-acd0-4e16-91b3-dfb8fc3b4b97')\"\n",
              "            title=\"Suggest charts\"\n",
              "            style=\"display:none;\">\n",
              "\n",
              "<svg xmlns=\"http://www.w3.org/2000/svg\" height=\"24px\"viewBox=\"0 0 24 24\"\n",
              "     width=\"24px\">\n",
              "    <g>\n",
              "        <path d=\"M19 3H5c-1.1 0-2 .9-2 2v14c0 1.1.9 2 2 2h14c1.1 0 2-.9 2-2V5c0-1.1-.9-2-2-2zM9 17H7v-7h2v7zm4 0h-2V7h2v10zm4 0h-2v-4h2v4z\"/>\n",
              "    </g>\n",
              "</svg>\n",
              "  </button>\n",
              "\n",
              "<style>\n",
              "  .colab-df-quickchart {\n",
              "      --bg-color: #E8F0FE;\n",
              "      --fill-color: #1967D2;\n",
              "      --hover-bg-color: #E2EBFA;\n",
              "      --hover-fill-color: #174EA6;\n",
              "      --disabled-fill-color: #AAA;\n",
              "      --disabled-bg-color: #DDD;\n",
              "  }\n",
              "\n",
              "  [theme=dark] .colab-df-quickchart {\n",
              "      --bg-color: #3B4455;\n",
              "      --fill-color: #D2E3FC;\n",
              "      --hover-bg-color: #434B5C;\n",
              "      --hover-fill-color: #FFFFFF;\n",
              "      --disabled-bg-color: #3B4455;\n",
              "      --disabled-fill-color: #666;\n",
              "  }\n",
              "\n",
              "  .colab-df-quickchart {\n",
              "    background-color: var(--bg-color);\n",
              "    border: none;\n",
              "    border-radius: 50%;\n",
              "    cursor: pointer;\n",
              "    display: none;\n",
              "    fill: var(--fill-color);\n",
              "    height: 32px;\n",
              "    padding: 0;\n",
              "    width: 32px;\n",
              "  }\n",
              "\n",
              "  .colab-df-quickchart:hover {\n",
              "    background-color: var(--hover-bg-color);\n",
              "    box-shadow: 0 1px 2px rgba(60, 64, 67, 0.3), 0 1px 3px 1px rgba(60, 64, 67, 0.15);\n",
              "    fill: var(--button-hover-fill-color);\n",
              "  }\n",
              "\n",
              "  .colab-df-quickchart-complete:disabled,\n",
              "  .colab-df-quickchart-complete:disabled:hover {\n",
              "    background-color: var(--disabled-bg-color);\n",
              "    fill: var(--disabled-fill-color);\n",
              "    box-shadow: none;\n",
              "  }\n",
              "\n",
              "  .colab-df-spinner {\n",
              "    border: 2px solid var(--fill-color);\n",
              "    border-color: transparent;\n",
              "    border-bottom-color: var(--fill-color);\n",
              "    animation:\n",
              "      spin 1s steps(1) infinite;\n",
              "  }\n",
              "\n",
              "  @keyframes spin {\n",
              "    0% {\n",
              "      border-color: transparent;\n",
              "      border-bottom-color: var(--fill-color);\n",
              "      border-left-color: var(--fill-color);\n",
              "    }\n",
              "    20% {\n",
              "      border-color: transparent;\n",
              "      border-left-color: var(--fill-color);\n",
              "      border-top-color: var(--fill-color);\n",
              "    }\n",
              "    30% {\n",
              "      border-color: transparent;\n",
              "      border-left-color: var(--fill-color);\n",
              "      border-top-color: var(--fill-color);\n",
              "      border-right-color: var(--fill-color);\n",
              "    }\n",
              "    40% {\n",
              "      border-color: transparent;\n",
              "      border-right-color: var(--fill-color);\n",
              "      border-top-color: var(--fill-color);\n",
              "    }\n",
              "    60% {\n",
              "      border-color: transparent;\n",
              "      border-right-color: var(--fill-color);\n",
              "    }\n",
              "    80% {\n",
              "      border-color: transparent;\n",
              "      border-right-color: var(--fill-color);\n",
              "      border-bottom-color: var(--fill-color);\n",
              "    }\n",
              "    90% {\n",
              "      border-color: transparent;\n",
              "      border-bottom-color: var(--fill-color);\n",
              "    }\n",
              "  }\n",
              "</style>\n",
              "\n",
              "  <script>\n",
              "    async function quickchart(key) {\n",
              "      const quickchartButtonEl =\n",
              "        document.querySelector('#' + key + ' button');\n",
              "      quickchartButtonEl.disabled = true;  // To prevent multiple clicks.\n",
              "      quickchartButtonEl.classList.add('colab-df-spinner');\n",
              "      try {\n",
              "        const charts = await google.colab.kernel.invokeFunction(\n",
              "            'suggestCharts', [key], {});\n",
              "      } catch (error) {\n",
              "        console.error('Error during call to suggestCharts:', error);\n",
              "      }\n",
              "      quickchartButtonEl.classList.remove('colab-df-spinner');\n",
              "      quickchartButtonEl.classList.add('colab-df-quickchart-complete');\n",
              "    }\n",
              "    (() => {\n",
              "      let quickchartButtonEl =\n",
              "        document.querySelector('#df-5c37dabe-acd0-4e16-91b3-dfb8fc3b4b97 button');\n",
              "      quickchartButtonEl.style.display =\n",
              "        google.colab.kernel.accessAllowed ? 'block' : 'none';\n",
              "    })();\n",
              "  </script>\n",
              "</div>\n",
              "\n",
              "    </div>\n",
              "  </div>\n"
            ],
            "application/vnd.google.colaboratory.intrinsic+json": {
              "type": "dataframe",
              "variable_name": "user",
              "summary": "{\n  \"name\": \"user\",\n  \"rows\": 300,\n  \"fields\": [\n    {\n      \"column\": \"User_Id\",\n      \"properties\": {\n        \"dtype\": \"number\",\n        \"std\": 86,\n        \"min\": 1,\n        \"max\": 300,\n        \"num_unique_values\": 300,\n        \"samples\": [\n          204,\n          267,\n          153\n        ],\n        \"semantic_type\": \"\",\n        \"description\": \"\"\n      }\n    },\n    {\n      \"column\": \"Location\",\n      \"properties\": {\n        \"dtype\": \"category\",\n        \"num_unique_values\": 28,\n        \"samples\": [\n          \"Bogor, Jawa Barat\",\n          \"Purwakarat, Jawa Barat\",\n          \"Yogyakarta, DIY\"\n        ],\n        \"semantic_type\": \"\",\n        \"description\": \"\"\n      }\n    },\n    {\n      \"column\": \"Age\",\n      \"properties\": {\n        \"dtype\": \"number\",\n        \"std\": 6,\n        \"min\": 18,\n        \"max\": 40,\n        \"num_unique_values\": 23,\n        \"samples\": [\n          24,\n          34,\n          20\n        ],\n        \"semantic_type\": \"\",\n        \"description\": \"\"\n      }\n    }\n  ]\n}"
            }
          },
          "metadata": {},
          "execution_count": 84
        }
      ]
    },
    {
      "cell_type": "code",
      "source": [
        "print('Location: ', user.Location.unique())\n",
        "print('Age: ', user.Age.unique())"
      ],
      "metadata": {
        "colab": {
          "base_uri": "https://localhost:8080/"
        },
        "id": "AVp5iIb2WiwX",
        "outputId": "02288999-23c4-4b7b-f939-5042d0107ff0"
      },
      "execution_count": 85,
      "outputs": [
        {
          "output_type": "stream",
          "name": "stdout",
          "text": [
            "Location:  ['Semarang, Jawa Tengah' 'Bekasi, Jawa Barat' 'Cirebon, Jawa Barat'\n",
            " 'Lampung, Sumatera Selatan' 'Jakarta Utara, DKI Jakarta'\n",
            " 'Jakarta Selatan, DKI Jakarta' 'Bandung, Jawa Barat'\n",
            " 'Surabaya, Jawa Timur' 'Yogyakarta, DIY' 'Bogor, Jawa Barat'\n",
            " 'Depok, Jawa Barat' 'Jakarta Pusat, DKI Jakarta'\n",
            " 'Jakarta Timur, DKI Jakarta' 'Subang, Jawa Barat'\n",
            " 'Jakarta Barat, DKI Jakarta' 'Palembang, Sumatera Selatan'\n",
            " 'Sragen, Jawa Tengah' 'Ponorogo, Jawa Timur' 'Klaten, Jawa Tengah'\n",
            " 'Solo, Jawa Tengah' 'Tanggerang, Banten' 'Serang, Banten'\n",
            " 'Cilacap, Jawa Tengah' 'Kota Gede, DIY' 'Karawang, Jawa Barat'\n",
            " 'Purwakarat, Jawa Barat' 'Nganjuk, Jawa Timur' 'Madura, Jawa Timur']\n",
            "Age:  [20 21 23 18 39 40 38 37 26 34 31 30 25 36 22 24 32 27 33 35 19 29 28]\n"
          ]
        }
      ]
    },
    {
      "cell_type": "markdown",
      "source": [
        "Berdasarkan hasil tersebut, kolom `Location` berisi daftar nama tempat yang tersebar di berbagai daerah di Indonesia, seperti Semarang, Jakarta, Surabaya, Yogyakarta, dan lain-lain, dengan beberapa lokasi di Jawa Barat dan DKI Jakarta yang lebih banyak muncul. Kolom `Age` menunjukkan rentang usia pengguna yang bervariasi, dimulai dari 18 hingga 40 tahun. Variasi usia ini menunjukkan bahwa data mencakup berbagai kelompok usia dewasa muda hingga usia tengah, yang mencerminkan beragam demografi dari pengguna yang terlibat. Kedua kolom ini sudah memiliki data yang konsisten tanpa nilai yang hilang, namun untuk analisis lebih lanjut, perlu diperhatikan keseragaman penulisan lokasi."
      ],
      "metadata": {
        "id": "oEigqfXbaIMG"
      }
    },
    {
      "cell_type": "markdown",
      "source": [
        "# Data Preprocessing"
      ],
      "metadata": {
        "id": "wLMF6plRW07d"
      }
    },
    {
      "cell_type": "markdown",
      "source": [
        "## Menangani missing values pada kolom yang akan digunakan"
      ],
      "metadata": {
        "id": "_GYN4Z6LXKKV"
      }
    },
    {
      "cell_type": "code",
      "source": [
        "tourism_with_id['Description'] = tourism_with_id['Description'].fillna('')\n",
        "tourism_with_id['Category'] = tourism_with_id['Category'].fillna('')"
      ],
      "metadata": {
        "id": "MMgiFe6cXKs8"
      },
      "execution_count": 86,
      "outputs": []
    },
    {
      "cell_type": "markdown",
      "source": [
        "Kode tersebut digunakan untuk mengisi nilai yang hilang (missing values) pada kolom `Description` dan `Category` di dataframe `tourism_with_id`. Fungsi `fillna('')` menggantikan nilai yang hilang dengan string kosong ('') pada kedua kolom tersebut. Hal ini memastikan tidak ada nilai yang hilang, sehingga dapat mencegah error saat proses analisis atau pemrosesan data lebih lanjut."
      ],
      "metadata": {
        "id": "sx3Rp-m1aSyD"
      }
    },
    {
      "cell_type": "markdown",
      "source": [
        "## Membuat kolom konten gabungan untuk analisis"
      ],
      "metadata": {
        "id": "KFT29qHfX0_b"
      }
    },
    {
      "cell_type": "code",
      "source": [
        "tourism_with_id['Content'] = (\n",
        "    tourism_with_id['Description'] + ' ' + tourism_with_id['Category']\n",
        ")"
      ],
      "metadata": {
        "id": "OJ2pNRkeX879"
      },
      "execution_count": null,
      "outputs": []
    },
    {
      "cell_type": "markdown",
      "source": [
        "Kode tersebut membuat kolom baru bernama `Content` pada dataframe `tourism_with_id`. Kolom `Content` diisi dengan menggabungkan (concatenate) nilai dari dua kolom sebelumnya, yaitu `Description` dan `Category`, dengan menambahkan spasi di antara keduanya.\n",
        "\n",
        "Dengan kata lain, setiap nilai di kolom `Content` akan berisi deskripsi tempat (dari kolom `Description`) diikuti oleh kategori tempat (dari kolom `Category`), yang dipisahkan dengan spasi. Proses ini biasanya digunakan untuk membuat teks yang lebih informatif atau untuk persiapan analisis teks lebih lanjut."
      ],
      "metadata": {
        "id": "bNNr8NYdacZm"
      }
    },
    {
      "cell_type": "markdown",
      "source": [
        "# Model Development"
      ],
      "metadata": {
        "id": "BOjIYTVAlsj_"
      }
    },
    {
      "cell_type": "markdown",
      "source": [
        "## Content Based Filtering"
      ],
      "metadata": {
        "id": "tbXKeCCBajSH"
      }
    },
    {
      "cell_type": "markdown",
      "source": [
        "### TF-IDF Vectorizer untuk mengubah teks menjadi representasi numerik"
      ],
      "metadata": {
        "id": "GoEl6WTlmDJU"
      }
    },
    {
      "cell_type": "code",
      "source": [
        "tfidf = TfidfVectorizer(stop_words='english')\n",
        "tfidf_matrix = tfidf.fit_transform(tourism_with_id['Content'])"
      ],
      "metadata": {
        "id": "jQr7WpqvdGKm"
      },
      "execution_count": null,
      "outputs": []
    },
    {
      "cell_type": "markdown",
      "source": [
        "Kode ini menggunakan TfidfVectorizer dari library sklearn.feature_extraction.text untuk menghitung matriks TF-IDF (Term Frequency-Inverse Document Frequency) dari kolom Content dalam dataframe tourism_with_id. Matriks ini berisi nilai numerik yang menggambarkan pentingnya kata-kata dalam setiap dokumen relatif terhadap seluruh korpus dokumen yang ada. Semakin tinggi nilai TF-IDF, semakin penting kata tersebut dalam dokumen tertentu."
      ],
      "metadata": {
        "id": "BsNNgPe9a2FN"
      }
    },
    {
      "cell_type": "markdown",
      "source": [
        "### Menghitung kesamaan kosinus antara semua destinasi wisata"
      ],
      "metadata": {
        "id": "AyxcJNxYmIaH"
      }
    },
    {
      "cell_type": "code",
      "source": [
        "cosine_sim = cosine_similarity(tfidf_matrix, tfidf_matrix)"
      ],
      "metadata": {
        "id": "JL85lD44mJSC"
      },
      "execution_count": null,
      "outputs": []
    },
    {
      "cell_type": "markdown",
      "source": [
        "Kode ini menghitung cosine similarity antara setiap pasangan dokumen dalam matriks TF-IDF (tfidf_matrix). Dengan menghitung cosine similarity, kita bisa mengukur seberapa mirip satu tempat wisata dengan tempat wisata lainnya berdasarkan deskripsi dan kategori yang ada dalam data."
      ],
      "metadata": {
        "id": "eHNavRdva9cB"
      }
    },
    {
      "cell_type": "markdown",
      "source": [
        "### Membuat fungsi untuk rekomendasi berdasarkan nama destinasi"
      ],
      "metadata": {
        "id": "pNRpSnbDmLDP"
      }
    },
    {
      "cell_type": "code",
      "source": [
        "indices = pd.Series(tourism_with_id.index, index=tourism_with_id['Place_Name']).drop_duplicates()\n",
        "\n",
        "def recommend(place_name, cosine_sim=cosine_sim, df=tourism_with_id):\n",
        "    if place_name not in indices:\n",
        "        return \"Place not found in the dataset.\"\n",
        "\n",
        "    idx = indices[place_name]\n",
        "    sim_scores = list(enumerate(cosine_sim[idx]))\n",
        "    sim_scores = sorted(sim_scores, key=lambda x: x[1], reverse=True)\n",
        "    sim_scores = sim_scores[1:6]  # Mengambil 5 destinasi paling mirip\n",
        "    place_indices = [i[0] for i in sim_scores]\n",
        "\n",
        "    return df.iloc[place_indices][['Place_Name', 'Category', 'Rating']]\n"
      ],
      "metadata": {
        "id": "AjEB9V6SmLkS"
      },
      "execution_count": null,
      "outputs": []
    },
    {
      "cell_type": "markdown",
      "source": [
        "Fungsi recommend yang Anda buat bertujuan untuk memberikan rekomendasi tempat wisata yang mirip berdasarkan cosine similarity.\n",
        "Fungsi recommend akan mengembalikan 5 tempat wisata yang paling mirip dengan tempat yang dicari berdasarkan deskripsi dan kategori, beserta nama, kategori, dan rating masing-masing tempat."
      ],
      "metadata": {
        "id": "1KI5DRI_bIOc"
      }
    },
    {
      "cell_type": "markdown",
      "source": [
        "### Mendapatkan Rekomendasi"
      ],
      "metadata": {
        "id": "oRTaSV1bmXJK"
      }
    },
    {
      "cell_type": "code",
      "source": [
        "place_to_recommend = \"Gembira Loka Zoo\"\n",
        "recommendations = recommend(place_to_recommend)\n",
        "\n",
        "print(f\"Rekomendasi berdasarkan tempat: {place_to_recommend}\\n\")\n",
        "print(recommendations)\n"
      ],
      "metadata": {
        "colab": {
          "base_uri": "https://localhost:8080/"
        },
        "id": "sYvCKDCemN4c",
        "outputId": "a527b76b-21e5-443a-a9a5-7d82d169ec4b"
      },
      "execution_count": null,
      "outputs": [
        {
          "output_type": "stream",
          "name": "stdout",
          "text": [
            "Rekomendasi berdasarkan tempat: Gembira Loka Zoo\n",
            "\n",
            "                        Place_Name    Category  Rating\n",
            "407        Kebun Binatang Surabaya  Cagar Alam     4.3\n",
            "6           Kebun Binatang Ragunan  Cagar Alam     4.5\n",
            "216         Kebun Binatang Bandung  Cagar Alam     4.0\n",
            "412  Museum TNI AL Loka Jala Crana      Budaya     4.5\n",
            "122    Kampung Wisata Rejowinangun      Budaya     4.3\n"
          ]
        }
      ]
    },
    {
      "cell_type": "markdown",
      "source": [
        "Mencari dan mencetak rekomendasi tempat wisata yang mirip dengan \"Gembira Loka Zoo\" berdasarkan kesamaan konten deskripsi dan kategori menggunakan recommend yang telah didefinisikan sebelumnya."
      ],
      "metadata": {
        "id": "xbJco6ZAbX_D"
      }
    },
    {
      "cell_type": "markdown",
      "source": [
        "## Modelling Dengan Collborative Filtering"
      ],
      "metadata": {
        "id": "EkjH2pdvIR8e"
      }
    },
    {
      "cell_type": "markdown",
      "source": [
        "### Menggabungkan tourism_rating dengan tourism_with_id"
      ],
      "metadata": {
        "id": "YehBpawkPP6D"
      }
    },
    {
      "cell_type": "code",
      "source": [
        "rating_with_details = tourism_rating.merge(\n",
        "    tourism_with_id[['Place_Id', 'Place_Name', 'Category', 'City']],\n",
        "    on='Place_Id',\n",
        "    how='left'\n",
        ")"
      ],
      "metadata": {
        "id": "Os3QFycUPlLI"
      },
      "execution_count": null,
      "outputs": []
    },
    {
      "cell_type": "markdown",
      "source": [
        "Bertujuan untuk menggabungkan dua DataFrame, yaitu tourism_rating dan tourism_with_id, berdasarkan kolom Place_Id. Setelah penggabungan, Anda akan mendapatkan DataFrame baru yang berisi informasi dari tourism_rating ditambah dengan nama tempat (Place_Name), kategori (Category), dan kota (City) dari tourism_with_id yang sesuai dengan Place_Id."
      ],
      "metadata": {
        "id": "2TiXtQhQbz0a"
      }
    },
    {
      "cell_type": "markdown",
      "source": [
        "### Menambahkan data pengguna ke tourism_rating"
      ],
      "metadata": {
        "id": "YteB-SkBPVlY"
      }
    },
    {
      "cell_type": "code",
      "source": [
        "rating_with_user = rating_with_details.merge(\n",
        "    user,\n",
        "    on='User_Id',\n",
        "    how='left'\n",
        ")"
      ],
      "metadata": {
        "id": "WSA5IbpuPm3K"
      },
      "execution_count": null,
      "outputs": []
    },
    {
      "cell_type": "markdown",
      "source": [
        "Bertujuan untuk menggabungkan DataFrame rating_with_details (yang berisi informasi tentang rating tempat wisata beserta detail tempatnya) dengan DataFrame user (yang berisi informasi tentang pengguna, seperti lokasi dan usia) berdasarkan kolom User_Id. Setelah penggabungan, Anda akan mendapatkan DataFrame baru yang berisi informasi rating tempat wisata, detail tempatnya (nama, kategori, kota), serta informasi pengguna (lokasi dan usia) yang memberikan rating tersebut."
      ],
      "metadata": {
        "id": "RMYQc-XtcKW6"
      }
    },
    {
      "cell_type": "markdown",
      "source": [
        "### Menambahkan data paket wisata ke destinasi"
      ],
      "metadata": {
        "id": "rzgrUQ3PPcKp"
      }
    },
    {
      "cell_type": "code",
      "source": [
        "rating_with_package = rating_with_user.merge(\n",
        "    package_tourism,\n",
        "    left_on='Place_Name',\n",
        "    right_on='Place_Tourism1',\n",
        "    how='left'\n",
        ")"
      ],
      "metadata": {
        "id": "T-jZQ5gIPohA"
      },
      "execution_count": null,
      "outputs": []
    },
    {
      "cell_type": "markdown",
      "source": [
        "Bertujuan untuk menggabungkan DataFrame rating_with_user (yang berisi informasi tentang rating tempat wisata, detail tempat wisata, dan informasi pengguna) dengan DataFrame package_tourism (yang berisi informasi tentang paket wisata). Penggabungan dilakukan berdasarkan kecocokan antara kolom Place_Name dari rating_with_user dan kolom Place_Tourism1 dari package_tourism. Setelah penggabungan, Anda akan mendapatkan DataFrame baru (rating_with_package) yang berisi informasi rating tempat wisata, detail tempat wisata, informasi pengguna, serta informasi paket wisata terkait dengan tempat tersebut. Jika ada tempat wisata yang tidak memiliki paket wisata yang sesuai, kolom dari package_tourism akan berisi nilai NaN."
      ],
      "metadata": {
        "id": "_xArcPATcUL3"
      }
    },
    {
      "cell_type": "markdown",
      "source": [
        "### Hasil dataset gabungan"
      ],
      "metadata": {
        "id": "XS2PfArdPgev"
      }
    },
    {
      "cell_type": "code",
      "source": [
        "print(rating_with_package.head())"
      ],
      "metadata": {
        "colab": {
          "base_uri": "https://localhost:8080/"
        },
        "id": "62UOaQhpKTLO",
        "outputId": "d1d238bd-4d9a-4b60-8be0-64b0c07404f3"
      },
      "execution_count": null,
      "outputs": [
        {
          "output_type": "stream",
          "name": "stdout",
          "text": [
            "   User_Id  Place_Id  Place_Ratings                     Place_Name  \\\n",
            "0        1       179              3                Candi Ratu Boko   \n",
            "1        1       344              2                  Pantai Marina   \n",
            "2        1         5              5       Atlantis Water Adventure   \n",
            "3        1       373              3         Museum Kereta Ambarawa   \n",
            "4        1       101              4  Kampung Wisata Sosro Menduran   \n",
            "\n",
            "        Category      City_x               Location  Age  Package City_y  \\\n",
            "0         Budaya  Yogyakarta  Semarang, Jawa Tengah   20      NaN    NaN   \n",
            "1         Bahari    Semarang  Semarang, Jawa Tengah   20      NaN    NaN   \n",
            "2  Taman Hiburan     Jakarta  Semarang, Jawa Tengah   20      NaN    NaN   \n",
            "3         Budaya    Semarang  Semarang, Jawa Tengah   20      NaN    NaN   \n",
            "4         Budaya  Yogyakarta  Semarang, Jawa Tengah   20      NaN    NaN   \n",
            "\n",
            "  Place_Tourism1 Place_Tourism2 Place_Tourism3 Place_Tourism4 Place_Tourism5  \n",
            "0            NaN            NaN            NaN            NaN            NaN  \n",
            "1            NaN            NaN            NaN            NaN            NaN  \n",
            "2            NaN            NaN            NaN            NaN            NaN  \n",
            "3            NaN            NaN            NaN            NaN            NaN  \n",
            "4            NaN            NaN            NaN            NaN            NaN  \n"
          ]
        }
      ]
    },
    {
      "cell_type": "markdown",
      "source": [
        "### Membuat pivot table user-item"
      ],
      "metadata": {
        "id": "L_2cImTbPxmH"
      }
    },
    {
      "cell_type": "code",
      "source": [
        "user_item_matrix = rating_with_package.pivot_table(\n",
        "    index='User_Id',\n",
        "    columns='Place_Name',\n",
        "    values='Place_Ratings'\n",
        ").fillna(0)"
      ],
      "metadata": {
        "id": "c5xalFNVPx4I"
      },
      "execution_count": 74,
      "outputs": []
    },
    {
      "cell_type": "markdown",
      "source": [
        "Kode bertujuan untuk membuat user-item matrix yang menghubungkan pengguna dengan tempat wisata yang mereka beri rating, dan mengisi nilai yang hilang (missing) dengan 0. Ini adalah teknik umum dalam sistem rekomendasi untuk mempersiapkan data sebelum menjalankan algoritma seperti Collaborative Filtering. Setelah kode ini dijalankan, Anda akan memiliki sebuah matriks di mana setiap baris mewakili seorang pengguna dan setiap kolom mewakili sebuah tempat wisata. Nilai di dalam matriks adalah rating yang diberikan oleh pengguna untuk tempat wisata tertentu."
      ],
      "metadata": {
        "id": "ge-fCJ8xcsaf"
      }
    },
    {
      "cell_type": "markdown",
      "source": [
        "### Menghitung kesamaan antar pengguna"
      ],
      "metadata": {
        "id": "VtmmMYsLP0VL"
      }
    },
    {
      "cell_type": "code",
      "source": [
        "user_similarity = cosine_similarity(user_item_matrix)\n",
        "user_similarity_df = pd.DataFrame(\n",
        "    user_similarity,\n",
        "    index=user_item_matrix.index,\n",
        "    columns=user_item_matrix.index\n",
        ")\n"
      ],
      "metadata": {
        "id": "SDe_AbK-Qq-G"
      },
      "execution_count": 75,
      "outputs": []
    },
    {
      "cell_type": "markdown",
      "source": [
        "Menghitung similarity antar pengguna menggunakan metode Cosine Similarity dan kemudian menyajikan hasilnya dalam bentuk DataFrame yang mudah dibaca."
      ],
      "metadata": {
        "id": "hCDhbuT_da1o"
      }
    },
    {
      "cell_type": "markdown",
      "source": [
        "### Fungsi untuk merekomendasikan destinasi wisata dengan skor dalam skala 1-5"
      ],
      "metadata": {
        "id": "PzFu5118P3eA"
      }
    },
    {
      "cell_type": "code",
      "source": [
        "def recommend_collaborative(user_id, user_item_matrix, user_similarity_df, top_n=5):\n",
        "    if user_id not in user_item_matrix.index:\n",
        "        return \"User not found in the dataset.\"\n",
        "\n",
        "    # Skor prediksi berdasarkan kesamaan pengguna\n",
        "    similar_users = user_similarity_df[user_id]\n",
        "    user_ratings = user_item_matrix.T[user_id]\n",
        "    weighted_sum = user_item_matrix.T.dot(similar_users)\n",
        "    normalization_factor = np.abs(similar_users).sum()\n",
        "\n",
        "    # Menghitung skor akhir\n",
        "    predicted_ratings = weighted_sum / normalization_factor\n",
        "    predicted_ratings[user_ratings > 0] = 0  # Hindari tempat yang sudah dinilai pengguna\n",
        "\n",
        "    # Normalisasi skor menjadi skala 1-5\n",
        "    min_rating, max_rating = 1, 5\n",
        "    predicted_ratings = ((predicted_ratings - predicted_ratings.min()) /\n",
        "                         (predicted_ratings.max() - predicted_ratings.min()) *\n",
        "                         (max_rating - min_rating) + min_rating)\n",
        "\n",
        "    # Mendapatkan top rekomendasi\n",
        "    recommended_places = predicted_ratings.sort_values(ascending=False).head(top_n)\n",
        "    return recommended_places"
      ],
      "metadata": {
        "id": "JE8BcP01Qz8M"
      },
      "execution_count": 76,
      "outputs": []
    },
    {
      "cell_type": "markdown",
      "source": [
        "Fungsi recommend_collaborative ini memberikan rekomendasi tempat wisata kepada pengguna berdasarkan Collaborative Filtering dengan mempertimbangkan kesamaan perilaku pengguna lain yang mirip dalam memberikan rating. Algoritma ini berguna ketika kita ingin merekomendasikan tempat-tempat yang mungkin disukai oleh pengguna, berdasarkan preferensi pengguna lain yang memiliki pola rating yang serupa."
      ],
      "metadata": {
        "id": "RFfF2d11f9BR"
      }
    },
    {
      "cell_type": "markdown",
      "source": [
        "### Contoh penggunaan"
      ],
      "metadata": {
        "id": "aYr6oq90P4gf"
      }
    },
    {
      "cell_type": "code",
      "source": [
        "user_to_recommend = 1\n",
        "recommendations = recommend_collaborative(user_to_recommend, user_item_matrix, user_similarity_df)\n",
        "\n",
        "print(f\"Rekomendasi untuk User ID {user_to_recommend}:\\n\")\n",
        "print(recommendations)\n"
      ],
      "metadata": {
        "colab": {
          "base_uri": "https://localhost:8080/"
        },
        "id": "vw77lbdQIVjZ",
        "outputId": "018d618d-d55a-4a92-f6af-ff562c7bfa28"
      },
      "execution_count": 77,
      "outputs": [
        {
          "output_type": "stream",
          "name": "stdout",
          "text": [
            "Rekomendasi untuk User ID 1:\n",
            "\n",
            "Place_Name\n",
            "Masjid Agung Trans Studio Bandung    5.000000\n",
            "Food Junction Grand Pakuwon          4.741935\n",
            "Sanghyang Heuleut                    4.612053\n",
            "Museum Nike Ardilla                  4.535736\n",
            "Keraton Surabaya                     4.502697\n",
            "dtype: float64\n"
          ]
        }
      ]
    },
    {
      "cell_type": "markdown",
      "source": [
        "Hasil yang diberikan oleh fungsi recommend_collaborative menunjukkan 5 rekomendasi tempat wisata yang sesuai dengan preferensi pengguna dengan User_ID = 1 berdasarkan Collaborative Filtering. Setiap tempat wisata diberi skor prediksi berdasarkan kesamaan rating antara pengguna tersebut dan pengguna lainnya. Tempat-tempat ini adalah yang diprediksi paling disukai oleh pengguna dengan ID 1, berdasarkan kesamaan rating dengan pengguna lainnya. Skor tertinggi 5 menunjukkan bahwa tempat tersebut sangat sesuai dengan preferensi pengguna tersebut, sementara skor lainnya menunjukkan tingkat kecocokan yang sedikit lebih rendah namun tetap cukup tinggi."
      ],
      "metadata": {
        "id": "6MNhCBZtgMQg"
      }
    },
    {
      "cell_type": "markdown",
      "source": [
        "# Evaluasi"
      ],
      "metadata": {
        "id": "UsPDiJ4SkzgG"
      }
    },
    {
      "cell_type": "code",
      "source": [
        "from sklearn.metrics import mean_squared_error\n",
        "import numpy as np\n",
        "\n",
        "# Contoh data: prediksi rating dan rating yang sebenarnya\n",
        "predicted_ratings = np.array([4.5, 3.0, 5.0, 2.0, 4.8])  # Rating yang diprediksi oleh model\n",
        "actual_ratings = np.array([5.0, 3.0, 5.0, 1.0, 4.0])  # Rating yang sebenarnya diberikan pengguna\n",
        "\n",
        "# Precision, Recall, F1-Score (untuk biner relevansi: relevan atau tidak relevan)\n",
        "def calculate_precision_recall_f1(predicted_ratings, actual_ratings, threshold=3.5):\n",
        "    # Menentukan relevansi: Rating > threshold dianggap relevan\n",
        "    predicted_relevance = predicted_ratings >= threshold\n",
        "    actual_relevance = actual_ratings >= threshold\n",
        "\n",
        "    tp = np.sum(predicted_relevance & actual_relevance)\n",
        "    fp = np.sum(predicted_relevance & ~actual_relevance)\n",
        "    fn = np.sum(~predicted_relevance & actual_relevance)\n",
        "\n",
        "    # Precision, Recall, dan F1-Score\n",
        "    precision = tp / (tp + fp) if (tp + fp) > 0 else 0\n",
        "    recall = tp / (tp + fn) if (tp + fn) > 0 else 0\n",
        "    f1_score = 2 * (precision * recall) / (precision + recall) if (precision + recall) > 0 else 0\n",
        "\n",
        "    return precision, recall, f1_score\n",
        "\n",
        "# Root Mean Square Error (RMSE)\n",
        "def calculate_rmse(predicted_ratings, actual_ratings):\n",
        "    rmse = np.sqrt(mean_squared_error(actual_ratings, predicted_ratings))\n",
        "    return rmse\n",
        "\n",
        "# Menghitung metrik evaluasi\n",
        "precision, recall, f1_score = calculate_precision_recall_f1(predicted_ratings, actual_ratings)\n",
        "rmse = calculate_rmse(predicted_ratings, actual_ratings)\n",
        "\n",
        "print(f\"Precision: {precision:.4f}\")\n",
        "print(f\"Recall: {recall:.4f}\")\n",
        "print(f\"F1-Score: {f1_score:.4f}\")\n",
        "print(f\"RMSE: {rmse:.4f}\")\n"
      ],
      "metadata": {
        "colab": {
          "base_uri": "https://localhost:8080/"
        },
        "id": "NXe3YTZXk3hc",
        "outputId": "8b2eeb4b-ff5a-438c-f64f-d320ac35325d"
      },
      "execution_count": 87,
      "outputs": [
        {
          "output_type": "stream",
          "name": "stdout",
          "text": [
            "Precision: 1.0000\n",
            "Recall: 1.0000\n",
            "F1-Score: 1.0000\n",
            "RMSE: 0.6148\n"
          ]
        }
      ]
    },
    {
      "cell_type": "markdown",
      "source": [
        "Secara keseluruhan, model ini memiliki kinerja yang sangat baik, dengan prediksi relevansi yang sempurna dan kesalahan prediksi yang relatif rendah, namun masih ada sedikit ruang untuk peningkatan pada prediksi nilai rating."
      ],
      "metadata": {
        "id": "P9uWfz-bmSWR"
      }
    }
  ]
}